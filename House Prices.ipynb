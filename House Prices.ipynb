{
 "cells": [
  {
   "cell_type": "markdown",
   "metadata": {},
   "source": [
    "# House prices: Lasso, XGBoost, and a detailed EDA"
   ]
  },
  {
   "cell_type": "markdown",
   "metadata": {},
   "source": [
    "## 1 Executive Summary"
   ]
  },
  {
   "cell_type": "markdown",
   "metadata": {},
   "source": [
    "I started this competition by just focusing on getting a good understanding of the dataset. The EDA is detailed and many visualizations are included. This version also includes modeling.\n",
    "\n",
    " *EDA: 탐색적 자료 분석"
   ]
  },
  {
   "cell_type": "markdown",
   "metadata": {},
   "source": [
    "* Lasso regressions (오차에 제곱 대신 절대값을 씌워 계산하는 회귀분석법) 은 0.1121 수치의 RMSE(평균 제곱근 오차) 교차 검증을 하기 좋다. 주어진 사실에 의하면 변수 사이에 multicollinearity(다중 공선성)이 예측된다. Lasso는 상당수의 변수를 선택하지 않을 것이다.\n",
    "\n",
    "* XGBoost 모델도 0.1162 수치의 RMSE 교차 검증을 하기 좋다.\n",
    "\n",
    "* 두 알고리즘은 매우 다르지만 평균 예측에 있어 예측도를 더 높여줄 것이다. LassoE가 XGBoost의 교차 검증 score보다 결과가 좋았기에, Lasso 결과의 두 배를 가중치로 두기로 했다.\n",
    "\n",
    "*다중공선성: P개의 독립변수와 1개의 종속변수가 있을 때, P개의 독립변수들 사이에 높은 상관관계가 있는 상태\n",
    "\n",
    "*XGBOOST: eXtreme Gradient Boosting"
   ]
  },
  {
   "cell_type": "markdown",
   "metadata": {},
   "source": [
    "## 2 Introduction\n",
    "Kaggle describes this competition as follows:\n",
    "\n",
    "Ask a home buyer to describe their dream house, and they probably won't begin with the height of the basement ceiling or the proximity to an east-west railroad. But this playground competition's dataset proves that much more influences price negotiations than the number of bedrooms or a white-picket fence.\n",
    "\n",
    "With 79 explanatory variales describing (almost) every aspect of residntial homes in Ames, Iowa, this competition challenges you to predict the final price of each home."
   ]
  },
  {
   "cell_type": "markdown",
   "metadata": {},
   "source": [
    "## 3 Loading and Exploring Data"
   ]
  },
  {
   "cell_type": "markdown",
   "metadata": {},
   "source": [
    "### 3.1 Loading libraries required and reading the data into R"
   ]
  },
  {
   "cell_type": "markdown",
   "metadata": {},
   "source": [
    "Loading R packages used besides base R."
   ]
  },
  {
   "cell_type": "code",
   "execution_count": 57,
   "metadata": {},
   "outputs": [
    {
     "name": "stderr",
     "output_type": "stream",
     "text": [
      "Warning message:\n",
      "\"package 'corrplot' is in use and will not be installed\"Warning message:\n",
      "\"package 'Rmisc' is in use and will not be installed\"Warning message:\n",
      "\"package 'psych' is in use and will not be installed\"Warning message:\n",
      "\"package 'ggrepel' is in use and will not be installed\""
     ]
    },
    {
     "name": "stdout",
     "output_type": "stream",
     "text": [
      "package 'xgboost' successfully unpacked and MD5 sums checked\n",
      "\n",
      "The downloaded binary packages are in\n",
      "\tC:\\Users\\semai\\AppData\\Local\\Temp\\Rtmpu25MPK\\downloaded_packages\n"
     ]
    }
   ],
   "source": [
    "install.packages(\"corrplot\", repos=\"http://cran.us.r-project.org\")\n",
    "install.packages('Rmisc', dependencies = TRUE, repos=\"http://cran.us.r-project.org\")\n",
    "install.packages(\"psych\", repos=\"http://cran.us.r-project.org\")\n",
    "install.packages(\"ggrepel\", repos=\"http://cran.us.r-project.org\")\n",
    "install.packages(\"xgboost\", repos=\"http://cran.us.r-project.org\")"
   ]
  },
  {
   "cell_type": "code",
   "execution_count": 2,
   "metadata": {},
   "outputs": [
    {
     "name": "stderr",
     "output_type": "stream",
     "text": [
      "Warning message:\n",
      "\"package 'corrplot' was built under R version 3.5.2\"corrplot 0.84 loaded\n",
      "\n",
      "Attaching package: 'dplyr'\n",
      "\n",
      "The following objects are masked from 'package:plyr':\n",
      "\n",
      "    arrange, count, desc, failwith, id, mutate, rename, summarise,\n",
      "    summarize\n",
      "\n",
      "The following objects are masked from 'package:stats':\n",
      "\n",
      "    filter, lag\n",
      "\n",
      "The following objects are masked from 'package:base':\n",
      "\n",
      "    intersect, setdiff, setequal, union\n",
      "\n",
      "Loading required package: lattice\n",
      "Warning message:\n",
      "\"package 'gridExtra' was built under R version 3.5.2\"\n",
      "Attaching package: 'gridExtra'\n",
      "\n",
      "The following object is masked from 'package:dplyr':\n",
      "\n",
      "    combine\n",
      "\n",
      "Warning message:\n",
      "\"package 'Rmisc' was built under R version 3.5.2\"Warning message:\n",
      "\"package 'ggrepel' was built under R version 3.5.2\"randomForest 4.6-14\n",
      "Type rfNews() to see new features/changes/bug fixes.\n",
      "\n",
      "Attaching package: 'randomForest'\n",
      "\n",
      "The following object is masked from 'package:gridExtra':\n",
      "\n",
      "    combine\n",
      "\n",
      "The following object is masked from 'package:dplyr':\n",
      "\n",
      "    combine\n",
      "\n",
      "The following object is masked from 'package:ggplot2':\n",
      "\n",
      "    margin\n",
      "\n",
      "Warning message:\n",
      "\"package 'psych' was built under R version 3.5.2\"\n",
      "Attaching package: 'psych'\n",
      "\n",
      "The following object is masked from 'package:randomForest':\n",
      "\n",
      "    outlier\n",
      "\n",
      "The following objects are masked from 'package:scales':\n",
      "\n",
      "    alpha, rescale\n",
      "\n",
      "The following objects are masked from 'package:ggplot2':\n",
      "\n",
      "    %+%, alpha\n",
      "\n",
      "Warning message:\n",
      "\"package 'xgboost' was built under R version 3.5.2\"\n",
      "Attaching package: 'xgboost'\n",
      "\n",
      "The following object is masked from 'package:dplyr':\n",
      "\n",
      "    slice\n",
      "\n"
     ]
    }
   ],
   "source": [
    "library(knitr)\n",
    "library(ggplot2)\n",
    "library(plyr)\n",
    "library(corrplot)\n",
    "library(dplyr)\n",
    "library(caret)\n",
    "library(gridExtra)\n",
    "library(scales)\n",
    "library(scales)\n",
    "library(Rmisc)\n",
    "library(ggrepel)\n",
    "library(randomForest)\n",
    "library(psych)\n",
    "library(xgboost)"
   ]
  },
  {
   "cell_type": "code",
   "execution_count": 3,
   "metadata": {},
   "outputs": [],
   "source": [
    "train <- read.csv(\"train.csv\", stringsAsFactors = F)\n",
    "test <- read.csv(\"test.csv\", stringsAsFactors = F)"
   ]
  },
  {
   "cell_type": "markdown",
   "metadata": {},
   "source": [
    "### 3.2 Data size and structure\n",
    "The train dataset consist of character and integer variables. Most of the character variables are acutally ordinal factors, but I chose to read them into R as character strings as most of them require cleaning and/or feature engineering first. In total, there are 81 columns/variables, of which the last one is the response variable (SalePrice). Below, I am displaying only a glimpse of the variables. All of them are discussed in more detail throughout the document."
   ]
  },
  {
   "cell_type": "code",
   "execution_count": 4,
   "metadata": {},
   "outputs": [
    {
     "data": {
      "text/html": [
       "<ol class=list-inline>\n",
       "\t<li>1460</li>\n",
       "\t<li>81</li>\n",
       "</ol>\n"
      ],
      "text/latex": [
       "\\begin{enumerate*}\n",
       "\\item 1460\n",
       "\\item 81\n",
       "\\end{enumerate*}\n"
      ],
      "text/markdown": [
       "1. 1460\n",
       "2. 81\n",
       "\n",
       "\n"
      ],
      "text/plain": [
       "[1] 1460   81"
      ]
     },
     "metadata": {},
     "output_type": "display_data"
    }
   ],
   "source": [
    "dim(train)"
   ]
  },
  {
   "cell_type": "code",
   "execution_count": 5,
   "metadata": {},
   "outputs": [
    {
     "name": "stdout",
     "output_type": "stream",
     "text": [
      "'data.frame':\t1460 obs. of  11 variables:\n",
      " $ Id         : int  1 2 3 4 5 6 7 8 9 10 ...\n",
      " $ MSSubClass : int  60 20 60 70 60 50 20 60 50 190 ...\n",
      " $ MSZoning   : chr  \"RL\" \"RL\" \"RL\" \"RL\" ...\n",
      " $ LotFrontage: int  65 80 68 60 84 85 75 NA 51 50 ...\n",
      " $ LotArea    : int  8450 9600 11250 9550 14260 14115 10084 10382 6120 7420 ...\n",
      " $ Street     : chr  \"Pave\" \"Pave\" \"Pave\" \"Pave\" ...\n",
      " $ Alley      : chr  NA NA NA NA ...\n",
      " $ LotShape   : chr  \"Reg\" \"Reg\" \"IR1\" \"IR1\" ...\n",
      " $ LandContour: chr  \"Lvl\" \"Lvl\" \"Lvl\" \"Lvl\" ...\n",
      " $ Utilities  : chr  \"AllPub\" \"AllPub\" \"AllPub\" \"AllPub\" ...\n",
      " $ SalePrice  : int  208500 181500 223500 140000 250000 143000 307000 200000 129900 118000 ...\n"
     ]
    }
   ],
   "source": [
    "str(train[,c(1:10, 81)]) #첫 10개 변수와 대응 변수"
   ]
  },
  {
   "cell_type": "code",
   "execution_count": 6,
   "metadata": {},
   "outputs": [
    {
     "data": {
      "text/html": [
       "<ol class=list-inline>\n",
       "\t<li>2919</li>\n",
       "\t<li>80</li>\n",
       "</ol>\n"
      ],
      "text/latex": [
       "\\begin{enumerate*}\n",
       "\\item 2919\n",
       "\\item 80\n",
       "\\end{enumerate*}\n"
      ],
      "text/markdown": [
       "1. 2919\n",
       "2. 80\n",
       "\n",
       "\n"
      ],
      "text/plain": [
       "[1] 2919   80"
      ]
     },
     "metadata": {},
     "output_type": "display_data"
    }
   ],
   "source": [
    "#ID는 제거하지만 테스트 ID는 남겨놓음. 파일 제출하는 데 필요함.\n",
    "test_labels <- test$Id\n",
    "test$Id <- NULL\n",
    "train$Id <- NULL\n",
    "\n",
    "test$SalePrice <- NA\n",
    "all <- rbind(train, test)\n",
    "dim(all)"
   ]
  },
  {
   "cell_type": "markdown",
   "metadata": {},
   "source": [
    "Id 없이 데이터 프레임은 79개의 예측변수와 SalePrice 응답 변수로 이뤄짐."
   ]
  },
  {
   "cell_type": "markdown",
   "metadata": {},
   "source": [
    "## 4 Exploring some of the most important variables"
   ]
  },
  {
   "cell_type": "markdown",
   "metadata": {},
   "source": [
    "### 4.1 The response variable; SalePrice"
   ]
  },
  {
   "cell_type": "markdown",
   "metadata": {},
   "source": [
    "sale price는 right skewed이다. 이것은 소수의 사람들이 비싼 집을 살 여유가 있다는 사실을 의미한다. 이 사실을 염두에 두고 모델링 하기 전에 조취를 취할 것이다.\n",
    "\n",
    "*right skewed: 평균이 median 보다 큼"
   ]
  },
  {
   "cell_type": "code",
   "execution_count": 7,
   "metadata": {},
   "outputs": [
    {
     "data": {},
     "metadata": {},
     "output_type": "display_data"
    },
    {
     "data": {
      "image/png": "[encoded data removed]",
      "text/plain": [
       "plot without title"
      ]
     },
     "metadata": {},
     "output_type": "display_data"
    }
   ],
   "source": [
    "ggplot(data=all[!is.na(all$SalePrice),], aes(x=SalePrice)) +\n",
    "        geom_histogram(fill=\"blue\", binwidth = 10000) +\n",
    "        scale_x_continuous(breaks= seq(0, 800000, by=100000), labels = comma)"
   ]
  },
  {
   "cell_type": "code",
   "execution_count": 8,
   "metadata": {},
   "outputs": [
    {
     "data": {
      "text/plain": [
       "   Min. 1st Qu.  Median    Mean 3rd Qu.    Max.    NA's \n",
       "  34900  129975  163000  180921  214000  755000    1459 "
      ]
     },
     "metadata": {},
     "output_type": "display_data"
    }
   ],
   "source": [
    "summary(all$SalePrice)"
   ]
  },
  {
   "cell_type": "markdown",
   "metadata": {},
   "source": [
    "### 4.2 The most important numeric predictors\n",
    "캐릭터 변수를 사용하기 전에 해야할 것이 있다. dataset을 보기 전에 어떤 numeric 변수가 SalePrice와 높은 상관관계가 있는지 보기로 했다."
   ]
  },
  {
   "cell_type": "markdown",
   "metadata": {},
   "source": [
    "#### 4.2.1 Correlations with SalePrice\n",
    "SalePrice와 적어도 0.5 이상의 상관관계가 있는 numeric 변수가 10개 있다. 이 모든 상관관계는 positive하다."
   ]
  },
  {
   "cell_type": "code",
   "execution_count": 9,
   "metadata": {},
   "outputs": [
    {
     "name": "stdout",
     "output_type": "stream",
     "text": [
      "There are 37 numeric variables"
     ]
    }
   ],
   "source": [
    "numericVars <- which(sapply(all, is.numeric)) #index vector numeric variables\n",
    "numericVarNames <- names(numericVars) # saving names vector for use later on\n",
    "cat('There are', length(numericVars), 'numeric variables')"
   ]
  },
  {
   "cell_type": "code",
   "execution_count": 10,
   "metadata": {},
   "outputs": [],
   "source": [
    "all_numVar <- all[, numericVars]\n",
    "cor_numVar <- cor(all_numVar, use=\"pairwise.complete.obs\") #correlations of all numeric variables"
   ]
  },
  {
   "cell_type": "code",
   "execution_count": 11,
   "metadata": {},
   "outputs": [
    {
     "data": {
      "image/png": "[encoded data removed]",
      "text/plain": [
       "Plot with title \"\""
      ]
     },
     "metadata": {},
     "output_type": "display_data"
    }
   ],
   "source": [
    "# sort on decreasing correlations with SalePrice\n",
    "cor_sorted <- as.matrix(sort(cor_numVar[,'SalePrice'], decreasing = TRUE))\n",
    "# select only high correlations\n",
    "CorHigh <- names(which(apply(cor_sorted, 1, function(x) abs(x)>0.5)))\n",
    "cor_numVar <- cor_numVar[CorHigh, CorHigh]\n",
    "                             \n",
    "corrplot.mixed(cor_numVar, tl.col=\"black\", tl.pos = \"lt\")"
   ]
  },
  {
   "cell_type": "markdown",
   "metadata": {},
   "source": [
    "이 섹션에서 기억해둘 점은 SalePrice와 높은 상관 관계에 있는 두 가지 예측 변수(Overall Quality&Above Grade Living Area-*not 반지하*)와의 관계를 시각화한 것이다.\n",
    "\n",
    "다중공선성 이슈를 명확하게 하기도 한다. 예를 들어, GarageCars와 GarageArea는 매우 높은 (0.89) 상관 관계에 있고 SalePrice와의 상관 관계가 비슷하다. \n",
    "SalePrice와의 상관 관계가 0.5보다 높은 그 외의 6개 변수들: \n",
    "- TotalBsmtSF: Total square feet of basement area\n",
    "- 1stFlrSF: First Floor square feet\n",
    "- FullBath: Full bathrooms above grade\n",
    "- TotRmsAbvGrd: Total rooms above grade (does not include bathrooms)\n",
    "- YearBuilt: Original construction date\n",
    "- YearRemodAdd: Remodel date (same as construction date if no remodeling or additions)"
   ]
  },
  {
   "cell_type": "markdown",
   "metadata": {},
   "source": [
    "### 4.2.2 Overall Quality\n",
    "Overall Quality는 numeric 변수 중에서 SalePrice와 가장 높은 상관 관계를 가진다(0.79). 집의 전체 재료와 마무리를 1(안 좋음)에서부터 10(좋음) 사이로 평가한다."
   ]
  },
  {
   "cell_type": "code",
   "execution_count": 12,
   "metadata": {},
   "outputs": [
    {
     "data": {},
     "metadata": {},
     "output_type": "display_data"
    },
    {
     "data": {
      "image/png": "[encoded data removed]",
      "text/plain": [
       "plot without title"
      ]
     },
     "metadata": {},
     "output_type": "display_data"
    }
   ],
   "source": [
    "ggplot(data=all[!is.na(all$SalePrice),], aes(x=factor(OverallQual),\n",
    "                                            y=SalePrice))+\n",
    "geom_boxplot(col='blue') + labs(x='Overall Quality') +\n",
    "scale_y_continuous(breaks= seq(0, 800000, by=100000), labels = comma)"
   ]
  },
  {
   "cell_type": "markdown",
   "metadata": {},
   "source": [
    "약간 위로 올라가는 곡선 모양으로 positive한 상관 관계가 나타난다. 극단적인 특이치는 없다. 후에 특이치 후보로는 등급이 4인 비싼 집이 올라갈 것으로 보인다."
   ]
  },
  {
   "cell_type": "markdown",
   "metadata": {},
   "source": [
    "### 4.2.3 Aobve Grade (Ground) Living Area (square feet)\n",
    "numeric 변수 중에서 SalesPrice와 두 번째로 높은 상관 관계를 보인 건 Above Grade Living Area이다. 큰 집은 보통 비싸다는 것을 보여준다."
   ]
  },
  {
   "cell_type": "code",
   "execution_count": 13,
   "metadata": {},
   "outputs": [
    {
     "data": {},
     "metadata": {},
     "output_type": "display_data"
    },
    {
     "data": {
      "image/png": "[encoded data removed]",
      "text/plain": [
       "plot without title"
      ]
     },
     "metadata": {},
     "output_type": "display_data"
    }
   ],
   "source": [
    "ggplot(data=all[!is.na(all$SalePrice),], aes(x=GrLivArea, y=SalePrice))+\n",
    "        geom_point(col='blue') + geom_smooth(method = \"lm\", se=FALSE, color=\"black\", aes(group=1)) +\n",
    "        scale_y_continuous(breaks= seq(0, 800000, by=100000), labels = comma) +\n",
    "        geom_text_repel(aes(label = ifelse(all$GrLivArea[!is.na(all$SalePrice)]>4500, rownames(all), '')))"
   ]
  },
  {
   "cell_type": "markdown",
   "metadata": {},
   "source": [
    "특히 living area가 크지만 SalePrices가 낮은 두 집은 특이치로 나타난다. (그래프에서 524와 1299인 부분). 특이치를 제외하는 건 위험할 수 있기 때문에 아직은 제거하지 않을 생각이다. 예를 들면 Overall Qaulity가 낮다는 건 낮은 가격을 의미하는데 아래를 보면 알 수 있듯이 이 두 집은 Overall Quality의 점수가 최대치이다. 따라서, 1299와 524 집은 제외할 특이치의 주요 후보로 놔둘 생각이다."
   ]
  },
  {
   "cell_type": "code",
   "execution_count": 14,
   "metadata": {},
   "outputs": [
    {
     "data": {
      "text/html": [
       "<table>\n",
       "<thead><tr><th></th><th scope=col>SalePrice</th><th scope=col>GrLivArea</th><th scope=col>OverallQual</th></tr></thead>\n",
       "<tbody>\n",
       "\t<tr><th scope=row>524</th><td>184750</td><td>4676  </td><td>10    </td></tr>\n",
       "\t<tr><th scope=row>1299</th><td>160000</td><td>5642  </td><td>10    </td></tr>\n",
       "</tbody>\n",
       "</table>\n"
      ],
      "text/latex": [
       "\\begin{tabular}{r|lll}\n",
       "  & SalePrice & GrLivArea & OverallQual\\\\\n",
       "\\hline\n",
       "\t524 & 184750 & 4676   & 10    \\\\\n",
       "\t1299 & 160000 & 5642   & 10    \\\\\n",
       "\\end{tabular}\n"
      ],
      "text/markdown": [
       "\n",
       "| <!--/--> | SalePrice | GrLivArea | OverallQual | \n",
       "|---|---|\n",
       "| 524 | 184750 | 4676   | 10     | \n",
       "| 1299 | 160000 | 5642   | 10     | \n",
       "\n",
       "\n"
      ],
      "text/plain": [
       "     SalePrice GrLivArea OverallQual\n",
       "524  184750    4676      10         \n",
       "1299 160000    5642      10         "
      ]
     },
     "metadata": {},
     "output_type": "display_data"
    }
   ],
   "source": [
    "all[c(524, 1299), c('SalePrice', 'GrLivArea', 'OverallQual')]"
   ]
  },
  {
   "cell_type": "markdown",
   "metadata": {},
   "source": [
    "## 5 Missing data, label encoding, and factorizing variables"
   ]
  },
  {
   "cell_type": "markdown",
   "metadata": {},
   "source": [
    "### 5.1 Completeness of the data"
   ]
  },
  {
   "cell_type": "markdown",
   "metadata": {},
   "source": [
    "일단 어떤 변수가 missing values인지 보도록 하자."
   ]
  },
  {
   "cell_type": "code",
   "execution_count": 15,
   "metadata": {},
   "outputs": [
    {
     "data": {
      "text/html": [
       "<dl class=dl-horizontal>\n",
       "\t<dt>PoolQC</dt>\n",
       "\t\t<dd>2909</dd>\n",
       "\t<dt>MiscFeature</dt>\n",
       "\t\t<dd>2814</dd>\n",
       "\t<dt>Alley</dt>\n",
       "\t\t<dd>2721</dd>\n",
       "\t<dt>Fence</dt>\n",
       "\t\t<dd>2348</dd>\n",
       "\t<dt>SalePrice</dt>\n",
       "\t\t<dd>1459</dd>\n",
       "\t<dt>FireplaceQu</dt>\n",
       "\t\t<dd>1420</dd>\n",
       "\t<dt>LotFrontage</dt>\n",
       "\t\t<dd>486</dd>\n",
       "\t<dt>GarageYrBlt</dt>\n",
       "\t\t<dd>159</dd>\n",
       "\t<dt>GarageFinish</dt>\n",
       "\t\t<dd>159</dd>\n",
       "\t<dt>GarageQual</dt>\n",
       "\t\t<dd>159</dd>\n",
       "\t<dt>GarageCond</dt>\n",
       "\t\t<dd>159</dd>\n",
       "\t<dt>GarageType</dt>\n",
       "\t\t<dd>157</dd>\n",
       "\t<dt>BsmtCond</dt>\n",
       "\t\t<dd>82</dd>\n",
       "\t<dt>BsmtExposure</dt>\n",
       "\t\t<dd>82</dd>\n",
       "\t<dt>BsmtQual</dt>\n",
       "\t\t<dd>81</dd>\n",
       "\t<dt>BsmtFinType2</dt>\n",
       "\t\t<dd>80</dd>\n",
       "\t<dt>BsmtFinType1</dt>\n",
       "\t\t<dd>79</dd>\n",
       "\t<dt>MasVnrType</dt>\n",
       "\t\t<dd>24</dd>\n",
       "\t<dt>MasVnrArea</dt>\n",
       "\t\t<dd>23</dd>\n",
       "\t<dt>MSZoning</dt>\n",
       "\t\t<dd>4</dd>\n",
       "\t<dt>Utilities</dt>\n",
       "\t\t<dd>2</dd>\n",
       "\t<dt>BsmtFullBath</dt>\n",
       "\t\t<dd>2</dd>\n",
       "\t<dt>BsmtHalfBath</dt>\n",
       "\t\t<dd>2</dd>\n",
       "\t<dt>Functional</dt>\n",
       "\t\t<dd>2</dd>\n",
       "\t<dt>Exterior1st</dt>\n",
       "\t\t<dd>1</dd>\n",
       "\t<dt>Exterior2nd</dt>\n",
       "\t\t<dd>1</dd>\n",
       "\t<dt>BsmtFinSF1</dt>\n",
       "\t\t<dd>1</dd>\n",
       "\t<dt>BsmtFinSF2</dt>\n",
       "\t\t<dd>1</dd>\n",
       "\t<dt>BsmtUnfSF</dt>\n",
       "\t\t<dd>1</dd>\n",
       "\t<dt>TotalBsmtSF</dt>\n",
       "\t\t<dd>1</dd>\n",
       "\t<dt>Electrical</dt>\n",
       "\t\t<dd>1</dd>\n",
       "\t<dt>KitchenQual</dt>\n",
       "\t\t<dd>1</dd>\n",
       "\t<dt>GarageCars</dt>\n",
       "\t\t<dd>1</dd>\n",
       "\t<dt>GarageArea</dt>\n",
       "\t\t<dd>1</dd>\n",
       "\t<dt>SaleType</dt>\n",
       "\t\t<dd>1</dd>\n",
       "</dl>\n"
      ],
      "text/latex": [
       "\\begin{description*}\n",
       "\\item[PoolQC] 2909\n",
       "\\item[MiscFeature] 2814\n",
       "\\item[Alley] 2721\n",
       "\\item[Fence] 2348\n",
       "\\item[SalePrice] 1459\n",
       "\\item[FireplaceQu] 1420\n",
       "\\item[LotFrontage] 486\n",
       "\\item[GarageYrBlt] 159\n",
       "\\item[GarageFinish] 159\n",
       "\\item[GarageQual] 159\n",
       "\\item[GarageCond] 159\n",
       "\\item[GarageType] 157\n",
       "\\item[BsmtCond] 82\n",
       "\\item[BsmtExposure] 82\n",
       "\\item[BsmtQual] 81\n",
       "\\item[BsmtFinType2] 80\n",
       "\\item[BsmtFinType1] 79\n",
       "\\item[MasVnrType] 24\n",
       "\\item[MasVnrArea] 23\n",
       "\\item[MSZoning] 4\n",
       "\\item[Utilities] 2\n",
       "\\item[BsmtFullBath] 2\n",
       "\\item[BsmtHalfBath] 2\n",
       "\\item[Functional] 2\n",
       "\\item[Exterior1st] 1\n",
       "\\item[Exterior2nd] 1\n",
       "\\item[BsmtFinSF1] 1\n",
       "\\item[BsmtFinSF2] 1\n",
       "\\item[BsmtUnfSF] 1\n",
       "\\item[TotalBsmtSF] 1\n",
       "\\item[Electrical] 1\n",
       "\\item[KitchenQual] 1\n",
       "\\item[GarageCars] 1\n",
       "\\item[GarageArea] 1\n",
       "\\item[SaleType] 1\n",
       "\\end{description*}\n"
      ],
      "text/markdown": [
       "PoolQC\n",
       ":   2909MiscFeature\n",
       ":   2814Alley\n",
       ":   2721Fence\n",
       ":   2348SalePrice\n",
       ":   1459FireplaceQu\n",
       ":   1420LotFrontage\n",
       ":   486GarageYrBlt\n",
       ":   159GarageFinish\n",
       ":   159GarageQual\n",
       ":   159GarageCond\n",
       ":   159GarageType\n",
       ":   157BsmtCond\n",
       ":   82BsmtExposure\n",
       ":   82BsmtQual\n",
       ":   81BsmtFinType2\n",
       ":   80BsmtFinType1\n",
       ":   79MasVnrType\n",
       ":   24MasVnrArea\n",
       ":   23MSZoning\n",
       ":   4Utilities\n",
       ":   2BsmtFullBath\n",
       ":   2BsmtHalfBath\n",
       ":   2Functional\n",
       ":   2Exterior1st\n",
       ":   1Exterior2nd\n",
       ":   1BsmtFinSF1\n",
       ":   1BsmtFinSF2\n",
       ":   1BsmtUnfSF\n",
       ":   1TotalBsmtSF\n",
       ":   1Electrical\n",
       ":   1KitchenQual\n",
       ":   1GarageCars\n",
       ":   1GarageArea\n",
       ":   1SaleType\n",
       ":   1\n",
       "\n"
      ],
      "text/plain": [
       "      PoolQC  MiscFeature        Alley        Fence    SalePrice  FireplaceQu \n",
       "        2909         2814         2721         2348         1459         1420 \n",
       " LotFrontage  GarageYrBlt GarageFinish   GarageQual   GarageCond   GarageType \n",
       "         486          159          159          159          159          157 \n",
       "    BsmtCond BsmtExposure     BsmtQual BsmtFinType2 BsmtFinType1   MasVnrType \n",
       "          82           82           81           80           79           24 \n",
       "  MasVnrArea     MSZoning    Utilities BsmtFullBath BsmtHalfBath   Functional \n",
       "          23            4            2            2            2            2 \n",
       " Exterior1st  Exterior2nd   BsmtFinSF1   BsmtFinSF2    BsmtUnfSF  TotalBsmtSF \n",
       "           1            1            1            1            1            1 \n",
       "  Electrical  KitchenQual   GarageCars   GarageArea     SaleType \n",
       "           1            1            1            1            1 "
      ]
     },
     "metadata": {},
     "output_type": "display_data"
    }
   ],
   "source": [
    "NAcol <- which(colSums(is.na(all)) > 0)\n",
    "sort(colSums(sapply(all[NAcol], is.na)), decreasing = TRUE)"
   ]
  },
  {
   "cell_type": "code",
   "execution_count": 16,
   "metadata": {},
   "outputs": [
    {
     "name": "stdout",
     "output_type": "stream",
     "text": [
      "There are 35 columns with missing values"
     ]
    }
   ],
   "source": [
    "cat('There are', length(NAcol), 'columns with missing values')"
   ]
  },
  {
   "cell_type": "markdown",
   "metadata": {},
   "source": [
    "SalePrice에서 1459개의 NA가 나온 것은 test set 사이즈와 똑같기 때문에 34개의 예측 변수에서 NA를 고쳐야 한다는 말이 된다."
   ]
  },
  {
   "cell_type": "markdown",
   "metadata": {},
   "source": [
    "### 5.2 Imputing missing data\n",
    "이 섹션에서 missing value를 포함하고 있는 34개의 예측 변수를 고치려고 한다. 가장 NA가 많은 것부터 전부 고쳐질 때까지 조사하려고 한다. 만약 다른 변수와 그룹을 형성하고 있는 변수를 만나면 그룹으로 다룰 것이다. 예를 들면 Pool, Garage, Basement와 관련된 많은 변수들이 있다.\n",
    "\n",
    "편의성을 위해 knitr가 제공하는 \"Tabs\" 옵션을 사용했다. 각 탭에서 각 그룹 변수들의 간단한 분석을 볼 수 있다. 모든 탭을 볼 필요는 없지만 몇 개는 보길 바란다. 어떤 집이 basement와 garage가 없는지 결정했기 때문에 Garage와 Basement에 가치가 있다는 것을 알게 될 것이다.\n",
    "\n",
    "NA처리 외에도 character 변수를 순서가 있는 경우에는 ordinal integers로, 순서가 없고 범주화 되어 있는 경우에는 factors로 변환했다. 나중에 one-hot encoding을 이용하여 factors를 numeric으로 바꿀 것이다."
   ]
  },
  {
   "cell_type": "markdown",
   "metadata": {},
   "source": [
    "-----------------------------------------------\n",
    "5.2.1-6,9-16 코드\n",
    "\n",
    "**Pool variables**"
   ]
  },
  {
   "cell_type": "code",
   "execution_count": 17,
   "metadata": {},
   "outputs": [],
   "source": [
    "all$PoolQC[is.na(all$PoolQC)] <- 'None'"
   ]
  },
  {
   "cell_type": "code",
   "execution_count": 18,
   "metadata": {},
   "outputs": [],
   "source": [
    "Qualities <- c('None' = 0, 'Po' = 1, 'Fa' = 2, 'TA' = 3, 'Gd' = 4, 'Ex' = 5)"
   ]
  },
  {
   "cell_type": "code",
   "execution_count": 19,
   "metadata": {
    "scrolled": true
   },
   "outputs": [
    {
     "name": "stderr",
     "output_type": "stream",
     "text": [
      "The following `from` values were not present in `x`: Po, TA\n"
     ]
    },
    {
     "data": {
      "text/plain": [
       "\n",
       "   0    2    4    5 \n",
       "2909    2    4    4 "
      ]
     },
     "metadata": {},
     "output_type": "display_data"
    }
   ],
   "source": [
    "all$PoolQC<-as.integer(revalue(all$PoolQC, Qualities))\n",
    "table(all$PoolQC)"
   ]
  },
  {
   "cell_type": "code",
   "execution_count": 20,
   "metadata": {},
   "outputs": [
    {
     "data": {
      "text/html": [
       "<table>\n",
       "<thead><tr><th></th><th scope=col>PoolArea</th><th scope=col>PoolQC</th><th scope=col>OverallQual</th></tr></thead>\n",
       "<tbody>\n",
       "\t<tr><th scope=row>2421</th><td>368</td><td>0  </td><td>4  </td></tr>\n",
       "\t<tr><th scope=row>2504</th><td>444</td><td>0  </td><td>6  </td></tr>\n",
       "\t<tr><th scope=row>2600</th><td>561</td><td>0  </td><td>3  </td></tr>\n",
       "</tbody>\n",
       "</table>\n"
      ],
      "text/latex": [
       "\\begin{tabular}{r|lll}\n",
       "  & PoolArea & PoolQC & OverallQual\\\\\n",
       "\\hline\n",
       "\t2421 & 368 & 0   & 4  \\\\\n",
       "\t2504 & 444 & 0   & 6  \\\\\n",
       "\t2600 & 561 & 0   & 3  \\\\\n",
       "\\end{tabular}\n"
      ],
      "text/markdown": [
       "\n",
       "| <!--/--> | PoolArea | PoolQC | OverallQual | \n",
       "|---|---|---|\n",
       "| 2421 | 368 | 0   | 4   | \n",
       "| 2504 | 444 | 0   | 6   | \n",
       "| 2600 | 561 | 0   | 3   | \n",
       "\n",
       "\n"
      ],
      "text/plain": [
       "     PoolArea PoolQC OverallQual\n",
       "2421 368      0      4          \n",
       "2504 444      0      6          \n",
       "2600 561      0      3          "
      ]
     },
     "metadata": {},
     "output_type": "display_data"
    }
   ],
   "source": [
    "all[all$PoolArea>0 & all$PoolQC==0, c('PoolArea', 'PoolQC', 'OverallQual')]"
   ]
  },
  {
   "cell_type": "code",
   "execution_count": 21,
   "metadata": {},
   "outputs": [],
   "source": [
    "all$PoolQC[2421] <- 2\n",
    "all$PoolQC[2504] <- 3\n",
    "all$PoolQC[2600] <- 2"
   ]
  },
  {
   "cell_type": "markdown",
   "metadata": {},
   "source": [
    "**Miscellaneous Feature**"
   ]
  },
  {
   "cell_type": "markdown",
   "metadata": {},
   "source": [
    "   Elev Elevator\n",
    "   Gar2 2nd Garage (if not described in garage section)\n",
    "   Othr Other\n",
    "   Shed Shed (over 100 SF)\n",
    "   TenC Tennis Court\n",
    "   NA   None"
   ]
  },
  {
   "cell_type": "code",
   "execution_count": 22,
   "metadata": {},
   "outputs": [
    {
     "data": {},
     "metadata": {},
     "output_type": "display_data"
    },
    {
     "data": {
      "image/png": "[encoded data removed]",
      "text/plain": [
       "plot without title"
      ]
     },
     "metadata": {},
     "output_type": "display_data"
    }
   ],
   "source": [
    "all$MiscFeature[is.na(all$MiscFeature)] <- 'None'\n",
    "all$MiscFeature <- as.factor(all$MiscFeature)\n",
    "\n",
    "ggplot(all[!is.na(all$SalePrice),], aes(x=MiscFeature, y=SalePrice)) +\n",
    "geom_bar(stat='summary', fun.y = \"median\", fill='blue') +\n",
    "scale_y_continuous(breaks=seq(0, 800000, by=100000), labels=comma)+\n",
    "geom_label(stat=\"count\", aes(label= ..count.., y=..count..))"
   ]
  },
  {
   "cell_type": "code",
   "execution_count": 23,
   "metadata": {},
   "outputs": [
    {
     "data": {
      "text/plain": [
       "\n",
       "Gar2 None Othr Shed TenC \n",
       "   5 2814    4   95    1 "
      ]
     },
     "metadata": {},
     "output_type": "display_data"
    }
   ],
   "source": [
    "table(all$MiscFeature)"
   ]
  },
  {
   "cell_type": "markdown",
   "metadata": {},
   "source": [
    "**Alley**"
   ]
  },
  {
   "cell_type": "markdown",
   "metadata": {},
   "source": [
    "   Grvl Gravel\n",
    "   Pave Paved\n",
    "   NA   No alley access"
   ]
  },
  {
   "cell_type": "code",
   "execution_count": 24,
   "metadata": {
    "scrolled": true
   },
   "outputs": [
    {
     "data": {},
     "metadata": {},
     "output_type": "display_data"
    },
    {
     "data": {
      "image/png": "[encoded data removed]",
      "text/plain": [
       "plot without title"
      ]
     },
     "metadata": {},
     "output_type": "display_data"
    }
   ],
   "source": [
    "all$Alley[is.na(all$Alley)]<-'None'\n",
    "all$Alley <- as.factor(all$Alley)\n",
    "\n",
    "ggplot(all[!is.na(all$SalePrice),], aes(x=Alley, y=SalePrice)) +\n",
    "geom_bar(stat='summary', fun.y=\"median\", fill='blue')+\n",
    "scale_y_continuous(breaks= seq(0, 200000, by = 50000), labels = comma)"
   ]
  },
  {
   "cell_type": "code",
   "execution_count": 25,
   "metadata": {},
   "outputs": [
    {
     "data": {
      "text/plain": [
       "\n",
       "Grvl None Pave \n",
       " 120 2721   78 "
      ]
     },
     "metadata": {},
     "output_type": "display_data"
    }
   ],
   "source": [
    "table(all$Alley)"
   ]
  },
  {
   "cell_type": "markdown",
   "metadata": {},
   "source": [
    "**Fence quality**"
   ]
  },
  {
   "cell_type": "markdown",
   "metadata": {},
   "source": [
    "   GdPrv    Good Privacy\n",
    "   MnPrv    Minimum Privacy\n",
    "   GdWo Good Wood\n",
    "   MnWw Minimum Wood/Wire\n",
    "   NA   No Fence"
   ]
  },
  {
   "cell_type": "code",
   "execution_count": 26,
   "metadata": {},
   "outputs": [
    {
     "data": {
      "text/plain": [
       "\n",
       "GdPrv  GdWo MnPrv  MnWw  None \n",
       "  118   112   329    12  2348 "
      ]
     },
     "metadata": {},
     "output_type": "display_data"
    }
   ],
   "source": [
    "all$Fence[is.na(all$Fence)] <- 'None'\n",
    "table(all$Fence)"
   ]
  },
  {
   "cell_type": "code",
   "execution_count": 27,
   "metadata": {},
   "outputs": [
    {
     "data": {
      "text/html": [
       "<table>\n",
       "<thead><tr><th scope=col>Fence</th><th scope=col>median</th><th scope=col>counts</th></tr></thead>\n",
       "<tbody>\n",
       "\t<tr><td>GdPrv </td><td>167500</td><td>  59  </td></tr>\n",
       "\t<tr><td>GdWo  </td><td>138750</td><td>  54  </td></tr>\n",
       "\t<tr><td>MnPrv </td><td>137450</td><td> 157  </td></tr>\n",
       "\t<tr><td>MnWw  </td><td>130000</td><td>  11  </td></tr>\n",
       "\t<tr><td>None  </td><td>173000</td><td>1179  </td></tr>\n",
       "</tbody>\n",
       "</table>\n"
      ],
      "text/latex": [
       "\\begin{tabular}{r|lll}\n",
       " Fence & median & counts\\\\\n",
       "\\hline\n",
       "\t GdPrv  & 167500 &   59  \\\\\n",
       "\t GdWo   & 138750 &   54  \\\\\n",
       "\t MnPrv  & 137450 &  157  \\\\\n",
       "\t MnWw   & 130000 &   11  \\\\\n",
       "\t None   & 173000 & 1179  \\\\\n",
       "\\end{tabular}\n"
      ],
      "text/markdown": [
       "\n",
       "Fence | median | counts | \n",
       "|---|---|---|---|---|\n",
       "| GdPrv  | 167500 |   59   | \n",
       "| GdWo   | 138750 |   54   | \n",
       "| MnPrv  | 137450 |  157   | \n",
       "| MnWw   | 130000 |   11   | \n",
       "| None   | 173000 | 1179   | \n",
       "\n",
       "\n"
      ],
      "text/plain": [
       "  Fence median counts\n",
       "1 GdPrv 167500   59  \n",
       "2 GdWo  138750   54  \n",
       "3 MnPrv 137450  157  \n",
       "4 MnWw  130000   11  \n",
       "5 None  173000 1179  "
      ]
     },
     "metadata": {},
     "output_type": "display_data"
    }
   ],
   "source": [
    "all[!is.na(all$SalePrice),] %>% group_by(Fence) %>% summarise(median =\n",
    "                                                            median(SalePrice), counts=n())"
   ]
  },
  {
   "cell_type": "code",
   "execution_count": 28,
   "metadata": {},
   "outputs": [],
   "source": [
    "all$Fence <- as.factor(all$Fence)"
   ]
  },
  {
   "cell_type": "markdown",
   "metadata": {},
   "source": [
    "**Fireplace quality**"
   ]
  },
  {
   "cell_type": "markdown",
   "metadata": {},
   "source": [
    "   Ex   Excellent - Exceptional Masonry Fireplace\n",
    "   Gd   Good - Masonry Fireplace in main level\n",
    "   TA   Average - Prefabricated Fireplace in main living area or Masonry Fireplace in basement\n",
    "   Fa   Fair - Prefabricated Fireplace in basement\n",
    "   Po   Poor - Ben Franklin Stove\n",
    "   NA   No Fireplace"
   ]
  },
  {
   "cell_type": "code",
   "execution_count": 29,
   "metadata": {},
   "outputs": [
    {
     "data": {
      "text/plain": [
       "\n",
       "   0    1    2    3    4    5 \n",
       "1420   46   74  592  744   43 "
      ]
     },
     "metadata": {},
     "output_type": "display_data"
    }
   ],
   "source": [
    "all$FireplaceQu[is.na(all$FireplaceQu)] <- 'None'\n",
    "all$FireplaceQu<-as.integer(revalue(all$FireplaceQu, Qualities))\n",
    "table(all$FireplaceQu)"
   ]
  },
  {
   "cell_type": "code",
   "execution_count": 30,
   "metadata": {},
   "outputs": [
    {
     "data": {
      "text/plain": [
       "\n",
       "   0    1    2    3    4 \n",
       "1420 1268  219   11    1 "
      ]
     },
     "metadata": {},
     "output_type": "display_data"
    }
   ],
   "source": [
    "table(all$Fireplaces)"
   ]
  },
  {
   "cell_type": "code",
   "execution_count": 31,
   "metadata": {},
   "outputs": [
    {
     "data": {
      "text/html": [
       "2919"
      ],
      "text/latex": [
       "2919"
      ],
      "text/markdown": [
       "2919"
      ],
      "text/plain": [
       "[1] 2919"
      ]
     },
     "metadata": {},
     "output_type": "display_data"
    }
   ],
   "source": [
    "sum(table(all$Fireplaces))"
   ]
  },
  {
   "cell_type": "markdown",
   "metadata": {},
   "source": [
    "**Lot variables**<br>\n",
    "-LotFrontage: Linear feet of street connected  to property"
   ]
  },
  {
   "cell_type": "code",
   "execution_count": 32,
   "metadata": {
    "scrolled": true
   },
   "outputs": [
    {
     "data": {},
     "metadata": {},
     "output_type": "display_data"
    },
    {
     "data": {
      "image/png": "[encoded data removed]",
      "text/plain": [
       "plot without title"
      ]
     },
     "metadata": {},
     "output_type": "display_data"
    }
   ],
   "source": [
    "ggplot(all[!is.na(all$LotFrontage),], aes(x=as.factor(Neighborhood), y=LotFrontage)) +\n",
    "        geom_bar(stat='summary', fun.y = \"median\", fill='blue') +\n",
    "        theme(axis.text.x = element_text(angle = 45, hjust = 1))"
   ]
  },
  {
   "cell_type": "code",
   "execution_count": 33,
   "metadata": {},
   "outputs": [],
   "source": [
    "for (i in 1:nrow(all)){\n",
    "        if(is.na(all$LotFrontage[i])){\n",
    "               all$LotFrontage[i] <- as.integer(median(all$LotFrontage[all$Neighborhood==all$Neighborhood[i]], na.rm=TRUE)) \n",
    "        }\n",
    "}"
   ]
  },
  {
   "cell_type": "markdown",
   "metadata": {},
   "source": [
    "   Reg  Regular \n",
    "   IR1  Slightly irregular\n",
    "   IR2  Moderately Irregular\n",
    "   IR3  Irregular"
   ]
  },
  {
   "cell_type": "code",
   "execution_count": 34,
   "metadata": {},
   "outputs": [
    {
     "data": {
      "text/plain": [
       "\n",
       "   0    1    2    3 \n",
       "  16   76  968 1859 "
      ]
     },
     "metadata": {},
     "output_type": "display_data"
    }
   ],
   "source": [
    "all$LotShape<-as.integer(revalue(all$LotShape, c('IR3'=0, 'IR2'=1, 'IR1'=2, 'Reg'=3)))\n",
    "table(all$LotShape)"
   ]
  },
  {
   "cell_type": "code",
   "execution_count": 96,
   "metadata": {},
   "outputs": [
    {
     "data": {
      "text/html": [
       "2919"
      ],
      "text/latex": [
       "2919"
      ],
      "text/markdown": [
       "2919"
      ],
      "text/plain": [
       "[1] 2919"
      ]
     },
     "metadata": {},
     "output_type": "display_data"
    }
   ],
   "source": [
    "sum(table(all$LotShape))"
   ]
  },
  {
   "cell_type": "markdown",
   "metadata": {},
   "source": [
    "   Inside   Inside lot\n",
    "   Corner   Corner lot\n",
    "   CulDSac  Cul-de-sac\n",
    "   FR2  Frontage on 2 sides of property\n",
    "   FR3  Frontage on 3 sides of property"
   ]
  },
  {
   "cell_type": "code",
   "execution_count": 35,
   "metadata": {},
   "outputs": [
    {
     "data": {},
     "metadata": {},
     "output_type": "display_data"
    },
    {
     "data": {
      "image/png": "[encoded data removed]",
      "text/plain": [
       "plot without title"
      ]
     },
     "metadata": {},
     "output_type": "display_data"
    }
   ],
   "source": [
    "ggplot(all[!is.na(all$SalePrice),], aes(x=as.factor(LotConfig), y=SalePrice)) +\n",
    "        geom_bar(stat='summary', fun.y = \"median\", fill='blue')+\n",
    "        scale_y_continuous(breaks= seq(0, 800000, by=100000), labels = comma) +\n",
    "        geom_label(stat = \"count\", aes(label = ..count.., y = ..count..))"
   ]
  },
  {
   "cell_type": "code",
   "execution_count": 36,
   "metadata": {},
   "outputs": [
    {
     "data": {
      "text/plain": [
       "\n",
       " Corner CulDSac     FR2     FR3  Inside \n",
       "    511     176      85      14    2133 "
      ]
     },
     "metadata": {},
     "output_type": "display_data"
    }
   ],
   "source": [
    "all$LotConfig <- as.factor(all$LotConfig)\n",
    "table(all$LotConfig)"
   ]
  },
  {
   "cell_type": "code",
   "execution_count": 37,
   "metadata": {},
   "outputs": [
    {
     "data": {
      "text/html": [
       "2919"
      ],
      "text/latex": [
       "2919"
      ],
      "text/markdown": [
       "2919"
      ],
      "text/plain": [
       "[1] 2919"
      ]
     },
     "metadata": {},
     "output_type": "display_data"
    }
   ],
   "source": [
    "sum(table(all$LotConfig))"
   ]
  },
  {
   "cell_type": "markdown",
   "metadata": {},
   "source": [
    "-----------------------------------------------------------------------------"
   ]
  },
  {
   "cell_type": "markdown",
   "metadata": {},
   "source": [
    "#### 5.2.7 Garage Variables"
   ]
  },
  {
   "cell_type": "markdown",
   "metadata": {},
   "source": [
    "##### 종합 7개의 변수가 garage와 관련이 있다."
   ]
  },
  {
   "cell_type": "markdown",
   "metadata": {},
   "source": [
    "GarageCars와 GarageArea가 하나의 NA를 갖고, GarageType이 157개의 NA, 4개 변수가 159개의 NA를 갖고 있다."
   ]
  },
  {
   "cell_type": "markdown",
   "metadata": {},
   "source": [
    "159개의 missing **GarageYrBLT: Year garage was buit**값을 전부 YearBuilt에 있는 값으로 대체했다.\n",
    "\n",
    "   *YearBuilt는 리모델링하지 않았으면 default 값으로 들어가는 YearRemodAdd와 비슷하다."
   ]
  },
  {
   "cell_type": "code",
   "execution_count": 38,
   "metadata": {},
   "outputs": [],
   "source": [
    "all$GarageYrBlt[is.na(all$GarageYrBlt)] <- all$YearBuilt[is.na(all$GarageYrBlt)]"
   ]
  },
  {
   "cell_type": "markdown",
   "metadata": {},
   "source": [
    "NA가 character 변수의 'No Garage'를 의미하기 때문에 157개의 NA GarageType과 159개의 NA를 가진 다른 3개의 character 변수 사이의 차이가 어디서 오는 건지 확인하려고 한다."
   ]
  },
  {
   "cell_type": "code",
   "execution_count": 39,
   "metadata": {},
   "outputs": [
    {
     "data": {
      "text/html": [
       "157"
      ],
      "text/latex": [
       "157"
      ],
      "text/markdown": [
       "157"
      ],
      "text/plain": [
       "[1] 157"
      ]
     },
     "metadata": {},
     "output_type": "display_data"
    }
   ],
   "source": [
    "# check if all 157 NAs are the same observations among the variables with 157/159 NAs\n",
    "length(which(is.na(all$GarageType) & is.na(all$GarageFinish) & is.na(all$GarageCond) & is.na(all$GarageQual)))"
   ]
  },
  {
   "cell_type": "code",
   "execution_count": 40,
   "metadata": {},
   "outputs": [
    {
     "data": {
      "text/plain": [
       "\n",
       "\n",
       "|     | GarageCars| GarageArea|GarageType |GarageCond |GarageQual |GarageFinish |\n",
       "|:----|----------:|----------:|:----------|:----------|:----------|:------------|\n",
       "|2127 |          1|        360|Detchd     |NA         |NA         |NA           |\n",
       "|2577 |         NA|         NA|Detchd     |NA         |NA         |NA           |"
      ]
     },
     "metadata": {},
     "output_type": "display_data"
    }
   ],
   "source": [
    "#Find the 2 additional NAs\n",
    "kable(all[!is.na(all$GarageType) & is.na(all$GarageFinish), c('GarageCars', 'GarageArea', 'GarageType', 'GarageCond', 'GarageQual', 'GarageFinish')])"
   ]
  },
  {
   "cell_type": "markdown",
   "metadata": {},
   "source": [
    "GarageType의 157개 NA는 모두 GarageCondition, GarageQuality, GarageFinish의 NA라는 것을 알았다. 집 2127과 2577에서 차이가 보인다. 집 2127은 Garage를 가진 것 같지만 2577은 그렇지 않다. 따라서 Garage가 없는 집은 158채가 되어야 한다. 집 2127을 고치기 위해 GarageCondition, GarageQuality, GarageFinish에서 가장 흔한 값을 imputate하겠다."
   ]
  },
  {
   "cell_type": "code",
   "execution_count": 41,
   "metadata": {},
   "outputs": [
    {
     "data": {
      "text/plain": [
       "\n",
       "\n",
       "|     | GarageYrBlt| GarageCars| GarageArea|GarageType |GarageCond |GarageQual |GarageFinish |\n",
       "|:----|-----------:|----------:|----------:|:----------|:----------|:----------|:------------|\n",
       "|2127 |        1910|          1|        360|Detchd     |TA         |TA         |Unf          |"
      ]
     },
     "metadata": {},
     "output_type": "display_data"
    }
   ],
   "source": [
    "#Imputing modes.\n",
    "all$GarageCond[2127] <- names(sort(-table(all$GarageCond)))[1]\n",
    "all$GarageQual[2127] <- names(sort(-table(all$GarageQual)))[1]\n",
    "all$GarageFinish[2127] <- names(sort(-table(all$GarageFinish)))[1]\n",
    "\n",
    "#display \"fixed\" house\n",
    "kable(all[2127, c('GarageYrBlt', 'GarageCars', 'GarageArea', 'GarageType', 'GarageCond', 'GarageQual', 'GarageFinish')])"
   ]
  },
  {
   "cell_type": "markdown",
   "metadata": {},
   "source": [
    "GarageCars and GarageArea: Size of garage in car capacity and Size of garage in square"
   ]
  },
  {
   "cell_type": "markdown",
   "metadata": {},
   "source": [
    "둘 다 한 개의 NA를 갖고 있다. 위에서 봤듯이 집 2577이 그렇다. 다른 Garage 변수들이 이 집은 Garage가 없음을 나타내고 있기 때문에, 문제는 이 집의 GarageType이 \"detached\"되어서 나타날 가능성이 높다."
   ]
  },
  {
   "cell_type": "code",
   "execution_count": 42,
   "metadata": {},
   "outputs": [
    {
     "data": {
      "text/html": [
       "158"
      ],
      "text/latex": [
       "158"
      ],
      "text/markdown": [
       "158"
      ],
      "text/plain": [
       "[1] 158"
      ]
     },
     "metadata": {},
     "output_type": "display_data"
    }
   ],
   "source": [
    "#fixing 3 value for house 2577\n",
    "all$GarageCars[2577] <- 0\n",
    "all$GarageArea[2577] <- 0\n",
    "all$GarageType[2577] <- NA\n",
    "\n",
    "#check if NAs of the character variables are now all 158\n",
    "length(which(is.na(all$GarageType) & is.na(all$GarageFinish) & is.na(all$GarageCond) & is.na(all$GarageQual)))"
   ]
  },
  {
   "cell_type": "markdown",
   "metadata": {},
   "source": [
    "이제 garage와 관련된 4개의 캐릭터 변수들이 모두 158개의 NA를 가졌다. 이 섹션의 나머지 부분에서 남은 부분을 모두 고치겠다.\n",
    "\n",
    "*NA means No Garage"
   ]
  },
  {
   "cell_type": "markdown",
   "metadata": {},
   "source": [
    "**Garage Type: Garage location**"
   ]
  },
  {
   "cell_type": "markdown",
   "metadata": {},
   "source": [
    "값이 ordinal하지 않기에 factor로 바꾼다."
   ]
  },
  {
   "cell_type": "markdown",
   "metadata": {},
   "source": [
    "   2Types     More than one type of garage\n",
    "   Attchd     Attached to home\n",
    "   Basement   Basement Garage\n",
    "   BuiltIn    Built-In (Garage part of house - typically has room above garage)\n",
    "   CarPort    Car Port\n",
    "   Detchd     Detached from home\n",
    "   NA         No Garage"
   ]
  },
  {
   "cell_type": "code",
   "execution_count": 43,
   "metadata": {},
   "outputs": [
    {
     "data": {
      "text/plain": [
       "\n",
       "   2Types    Attchd   Basment   BuiltIn   CarPort    Detchd No Garage \n",
       "       23      1723        36       186        15       778       158 "
      ]
     },
     "metadata": {},
     "output_type": "display_data"
    }
   ],
   "source": [
    "all$GarageType[is.na(all$GarageType)] <- 'No Garage'\n",
    "all$GarageType <- as.factor(all$GarageType)\n",
    "table(all$GarageType)"
   ]
  },
  {
   "cell_type": "markdown",
   "metadata": {},
   "source": [
    "**GarageFinish: Interior finish of the garage**"
   ]
  },
  {
   "cell_type": "markdown",
   "metadata": {},
   "source": [
    "값은 ordinal하다."
   ]
  },
  {
   "cell_type": "markdown",
   "metadata": {},
   "source": [
    "   Fin      Finished\n",
    "   RFn      Rough Finished\n",
    "   Unf      Unfinished\n",
    "   NA       No Garage"
   ]
  },
  {
   "cell_type": "code",
   "execution_count": 44,
   "metadata": {},
   "outputs": [],
   "source": [
    "all$GarageFinish[is.na(all$GarageFinish)] <- 'None'\n",
    "Finish <- c('None'=0, 'Unf'=1, 'RFn'=2, 'Fin'=3)"
   ]
  },
  {
   "cell_type": "code",
   "execution_count": 45,
   "metadata": {},
   "outputs": [
    {
     "data": {
      "text/plain": [
       "\n",
       "   0    1    2    3 \n",
       " 158 1231  811  719 "
      ]
     },
     "metadata": {},
     "output_type": "display_data"
    }
   ],
   "source": [
    "all$GarageFinish<-as.integer(revalue(all$GarageFinish, Finish))\n",
    "table(all$GarageFinish)"
   ]
  },
  {
   "cell_type": "markdown",
   "metadata": {},
   "source": [
    "**GarageQual: Garage quality**"
   ]
  },
  {
   "cell_type": "markdown",
   "metadata": {},
   "source": [
    "다른 변수는 Qualities vector로 ordinal을 만들 수 있다."
   ]
  },
  {
   "cell_type": "markdown",
   "metadata": {},
   "source": [
    "   Ex     Excellent\n",
    "   Gd     Good\n",
    "   TA     Typical/Average\n",
    "   Fa     Fair\n",
    "   Po     Poor\n",
    "   NA     No Garage"
   ]
  },
  {
   "cell_type": "code",
   "execution_count": 46,
   "metadata": {},
   "outputs": [
    {
     "data": {
      "text/plain": [
       "\n",
       "   0    1    2    3    4    5 \n",
       " 158    5  124 2605   24    3 "
      ]
     },
     "metadata": {},
     "output_type": "display_data"
    }
   ],
   "source": [
    "Qualities <- c('None'=0, 'Po'=1, 'Fa'=2, 'TA'=3, 'Gd'=4, 'Ex'=5)\n",
    "all$GarageQual[is.na(all$GarageQual)] <- 'None'\n",
    "all$GarageQual<-as.integer(revalue(all$GarageQual, Qualities))\n",
    "table(all$GarageQual)"
   ]
  },
  {
   "cell_type": "markdown",
   "metadata": {},
   "source": [
    "**GarageCond: Garage condition**"
   ]
  },
  {
   "cell_type": "markdown",
   "metadata": {},
   "source": [
    "상기 동일"
   ]
  },
  {
   "cell_type": "markdown",
   "metadata": {},
   "source": [
    "   Ex     Excellent\n",
    "   Gd     Good\n",
    "   TA     Typical/Average\n",
    "   Fa     Fair\n",
    "   Po     Poor\n",
    "   NA     No Garage"
   ]
  },
  {
   "cell_type": "code",
   "execution_count": 47,
   "metadata": {},
   "outputs": [
    {
     "data": {
      "text/plain": [
       "\n",
       "   0    1    2    3    4    5 \n",
       " 158   14   74 2655   15    3 "
      ]
     },
     "metadata": {},
     "output_type": "display_data"
    }
   ],
   "source": [
    "all$GarageCond[is.na(all$GarageCond)] <- 'None'\n",
    "all$GarageCond<-as.integer(revalue(all$GarageCond, Qualities))\n",
    "table(all$GarageCond)"
   ]
  },
  {
   "cell_type": "markdown",
   "metadata": {},
   "source": [
    "#### 5.2.8 Basement Variables"
   ]
  },
  {
   "cell_type": "markdown",
   "metadata": {},
   "source": [
    "5개의 변수가 79-82개의 NA를, 6개의 변수가 하나 또는 두 개의 NA를 갖고 있다."
   ]
  },
  {
   "cell_type": "code",
   "execution_count": 48,
   "metadata": {},
   "outputs": [
    {
     "data": {
      "text/html": [
       "79"
      ],
      "text/latex": [
       "79"
      ],
      "text/markdown": [
       "79"
      ],
      "text/plain": [
       "[1] 79"
      ]
     },
     "metadata": {},
     "output_type": "display_data"
    }
   ],
   "source": [
    "#check if all 79 NAs are the same observations among the variables with 80+ NAs\n",
    "length(which(is.na(all$BsmtQual) & is.na(all$BsmtCond) & is.na(all$BsmtExposure) & is.na(all$BsmtFinType1) & is.na(all$BsmtFinType2)))"
   ]
  },
  {
   "cell_type": "code",
   "execution_count": 49,
   "metadata": {},
   "outputs": [
    {
     "data": {
      "text/html": [
       "<table>\n",
       "<thead><tr><th></th><th scope=col>BsmtQual</th><th scope=col>BsmtCond</th><th scope=col>BsmtExposure</th><th scope=col>BsmtFinType1</th><th scope=col>BsmtFinType2</th></tr></thead>\n",
       "<tbody>\n",
       "\t<tr><th scope=row>333</th><td>Gd </td><td>TA </td><td>No </td><td>GLQ</td><td>NA </td></tr>\n",
       "\t<tr><th scope=row>949</th><td>Gd </td><td>TA </td><td>NA </td><td>Unf</td><td>Unf</td></tr>\n",
       "\t<tr><th scope=row>1488</th><td>Gd </td><td>TA </td><td>NA </td><td>Unf</td><td>Unf</td></tr>\n",
       "\t<tr><th scope=row>2041</th><td>Gd </td><td>NA </td><td>Mn </td><td>GLQ</td><td>Rec</td></tr>\n",
       "\t<tr><th scope=row>2186</th><td>TA </td><td>NA </td><td>No </td><td>BLQ</td><td>Unf</td></tr>\n",
       "\t<tr><th scope=row>2218</th><td>NA </td><td>Fa </td><td>No </td><td>Unf</td><td>Unf</td></tr>\n",
       "\t<tr><th scope=row>2219</th><td>NA </td><td>TA </td><td>No </td><td>Unf</td><td>Unf</td></tr>\n",
       "\t<tr><th scope=row>2349</th><td>Gd </td><td>TA </td><td>NA </td><td>Unf</td><td>Unf</td></tr>\n",
       "\t<tr><th scope=row>2525</th><td>TA </td><td>NA </td><td>Av </td><td>ALQ</td><td>Unf</td></tr>\n",
       "</tbody>\n",
       "</table>\n"
      ],
      "text/latex": [
       "\\begin{tabular}{r|lllll}\n",
       "  & BsmtQual & BsmtCond & BsmtExposure & BsmtFinType1 & BsmtFinType2\\\\\n",
       "\\hline\n",
       "\t333 & Gd  & TA  & No  & GLQ & NA \\\\\n",
       "\t949 & Gd  & TA  & NA  & Unf & Unf\\\\\n",
       "\t1488 & Gd  & TA  & NA  & Unf & Unf\\\\\n",
       "\t2041 & Gd  & NA  & Mn  & GLQ & Rec\\\\\n",
       "\t2186 & TA  & NA  & No  & BLQ & Unf\\\\\n",
       "\t2218 & NA  & Fa  & No  & Unf & Unf\\\\\n",
       "\t2219 & NA  & TA  & No  & Unf & Unf\\\\\n",
       "\t2349 & Gd  & TA  & NA  & Unf & Unf\\\\\n",
       "\t2525 & TA  & NA  & Av  & ALQ & Unf\\\\\n",
       "\\end{tabular}\n"
      ],
      "text/markdown": [
       "\n",
       "| <!--/--> | BsmtQual | BsmtCond | BsmtExposure | BsmtFinType1 | BsmtFinType2 | \n",
       "|---|---|---|---|---|---|---|---|---|\n",
       "| 333 | Gd  | TA  | No  | GLQ | NA  | \n",
       "| 949 | Gd  | TA  | NA  | Unf | Unf | \n",
       "| 1488 | Gd  | TA  | NA  | Unf | Unf | \n",
       "| 2041 | Gd  | NA  | Mn  | GLQ | Rec | \n",
       "| 2186 | TA  | NA  | No  | BLQ | Unf | \n",
       "| 2218 | NA  | Fa  | No  | Unf | Unf | \n",
       "| 2219 | NA  | TA  | No  | Unf | Unf | \n",
       "| 2349 | Gd  | TA  | NA  | Unf | Unf | \n",
       "| 2525 | TA  | NA  | Av  | ALQ | Unf | \n",
       "\n",
       "\n"
      ],
      "text/plain": [
       "     BsmtQual BsmtCond BsmtExposure BsmtFinType1 BsmtFinType2\n",
       "333  Gd       TA       No           GLQ          NA          \n",
       "949  Gd       TA       NA           Unf          Unf         \n",
       "1488 Gd       TA       NA           Unf          Unf         \n",
       "2041 Gd       NA       Mn           GLQ          Rec         \n",
       "2186 TA       NA       No           BLQ          Unf         \n",
       "2218 NA       Fa       No           Unf          Unf         \n",
       "2219 NA       TA       No           Unf          Unf         \n",
       "2349 Gd       TA       NA           Unf          Unf         \n",
       "2525 TA       NA       Av           ALQ          Unf         "
      ]
     },
     "metadata": {},
     "output_type": "display_data"
    }
   ],
   "source": [
    "#Find the additional NAs; BsmtFinType1 is the one with 79 NAs\n",
    "all[!is.na(all$BsmtFinType1) & (is.na(all$BsmtCond)|is.na(all$BsmtQual)|is.na(all$BsmtExposure)|is.na(all$BsmtFinType2)), c('BsmtQual', 'BsmtCond', 'BsmtExposure', 'BsmtFinType1', 'BsmtFinType2')]"
   ]
  },
  {
   "cell_type": "markdown",
   "metadata": {},
   "source": [
    "종합해봤을 때 missing values가 있는 다른 집의 basement 변수가 80%이기 때문에 (missing 1 out of 5 values) 지하실이 없는 집이 79채가 된다. 이 9채를 고치기 위한 modes를 impute한다."
   ]
  },
  {
   "cell_type": "code",
   "execution_count": 50,
   "metadata": {},
   "outputs": [],
   "source": [
    "#Imputing modes.\n",
    "all$BsmtFinType2[333] <- names(sort(-table(all$BsmtFinType2)))[1]\n",
    "all$BsmtExposure[c(949, 1488, 2349)] <- names(sort(-table(all$BsmtExposure)))[1]\n",
    "all$BsmtCond[c(2041, 2186, 2525)] <- names(sort(-table(all$BsmtCond)))[1]\n",
    "all$BsmtQual[c(2218, 2219)] <- names(sort(-table(all$BsmtQual)))[1]"
   ]
  },
  {
   "cell_type": "markdown",
   "metadata": {},
   "source": [
    "5개의 변수로 79채의 집이 basement가 없다는 것을 알 수 있었다. 이후부터 factorize/hot encode를 하겠다."
   ]
  },
  {
   "cell_type": "markdown",
   "metadata": {},
   "source": [
    "**BsmtQual: Evaluates the height of the basement**"
   ]
  },
  {
   "cell_type": "markdown",
   "metadata": {},
   "source": [
    "ordinal에서 Qualities vector로 변수가 만들어진다."
   ]
  },
  {
   "cell_type": "markdown",
   "metadata": {},
   "source": [
    "   Ex   Excellent (100+ inches)\n",
    "   Gd   Good (90-99 inches)\n",
    "   TA   Typical (80-89 inches)\n",
    "   Fa   Fair (70-79 inches)\n",
    "   Po   Poor (<70 inches)\n",
    "   NA   No Basement"
   ]
  },
  {
   "cell_type": "code",
   "execution_count": 51,
   "metadata": {
    "scrolled": true
   },
   "outputs": [
    {
     "name": "stderr",
     "output_type": "stream",
     "text": [
      "The following `from` values were not present in `x`: Po\n"
     ]
    },
    {
     "data": {
      "text/plain": [
       "\n",
       "   0    2    3    4    5 \n",
       "  79   88 1285 1209  258 "
      ]
     },
     "metadata": {},
     "output_type": "display_data"
    }
   ],
   "source": [
    "all$BsmtQual[is.na(all$BsmtQual)] <- 'None'\n",
    "all$BsmtQual<-as.integer(revalue(all$BsmtQual, Qualities))\n",
    "table(all$BsmtQual)"
   ]
  },
  {
   "cell_type": "markdown",
   "metadata": {},
   "source": [
    "**BmstCond: Evaluates the general condition of the basement**"
   ]
  },
  {
   "cell_type": "markdown",
   "metadata": {},
   "source": [
    "ordinal을 Qualities vector로 만든 변수"
   ]
  },
  {
   "cell_type": "markdown",
   "metadata": {},
   "source": [
    "   Ex   Excellent\n",
    "   Gd   Good\n",
    "   TA   Typical - slight dampness allowed\n",
    "   Fa   Fair - dampness or some cracking or settling\n",
    "   Po   Poor - Severe cracking, settling, or wetness\n",
    "   NA   No Basement"
   ]
  },
  {
   "cell_type": "code",
   "execution_count": 52,
   "metadata": {},
   "outputs": [
    {
     "name": "stderr",
     "output_type": "stream",
     "text": [
      "The following `from` values were not present in `x`: Ex\n"
     ]
    },
    {
     "data": {
      "text/plain": [
       "\n",
       "   0    1    2    3    4 \n",
       "  79    5  104 2609  122 "
      ]
     },
     "metadata": {},
     "output_type": "display_data"
    }
   ],
   "source": [
    "all$BsmtCond[is.na(all$BsmtCond)] <- 'None'\n",
    "all$BsmtCond<-as.integer(revalue(all$BsmtCond, Qualities))\n",
    "table(all$BsmtCond)"
   ]
  },
  {
   "cell_type": "markdown",
   "metadata": {},
   "source": [
    "**BsmtExposure: Refers to walkout or garden level walls**"
   ]
  },
  {
   "cell_type": "markdown",
   "metadata": {},
   "source": [
    "ordinal 변수"
   ]
  },
  {
   "cell_type": "markdown",
   "metadata": {},
   "source": [
    "   Gd   Good Exposure\n",
    "   Av   Average Exposure (split levels or foyers typically score average or above)  \n",
    "   Mn   Mimimum Exposure\n",
    "   No   No Exposure\n",
    "   NA   No Basement"
   ]
  },
  {
   "cell_type": "code",
   "execution_count": 53,
   "metadata": {},
   "outputs": [
    {
     "data": {
      "text/plain": [
       "\n",
       "   0    1    2    3    4 \n",
       "  79 1907  239  418  276 "
      ]
     },
     "metadata": {},
     "output_type": "display_data"
    }
   ],
   "source": [
    "all$BsmtExposure[is.na(all$BsmtExposure)] <- 'None'\n",
    "Exposure <- c('None'=0, 'No'=1, 'Mn'=2, 'Av'=3, 'Gd'=4)\n",
    "\n",
    "all$BsmtExposure<-as.integer(revalue(all$BsmtExposure, Exposure))\n",
    "table(all$BsmtExposure)"
   ]
  },
  {
   "cell_type": "markdown",
   "metadata": {},
   "source": [
    "**BsmtFinType1: Rating of basement finished area**"
   ]
  },
  {
   "cell_type": "markdown",
   "metadata": {},
   "source": [
    "ordinal 변수"
   ]
  },
  {
   "cell_type": "markdown",
   "metadata": {},
   "source": [
    "   GLQ  Good Living Quarters\n",
    "   ALQ  Average Living Quarters\n",
    "   BLQ  Below Average Living Quarters   \n",
    "   Rec  Average Rec Room\n",
    "   LwQ  Low Quality\n",
    "   Unf  Unfinshed\n",
    "   NA   No Basement"
   ]
  },
  {
   "cell_type": "code",
   "execution_count": 54,
   "metadata": {
    "scrolled": true
   },
   "outputs": [
    {
     "data": {
      "text/plain": [
       "\n",
       "  0   1   2   3   4   5   6 \n",
       " 79 851 154 288 269 429 849 "
      ]
     },
     "metadata": {},
     "output_type": "display_data"
    }
   ],
   "source": [
    "all$BsmtFinType1[is.na(all$BsmtFinType1)] <- 'None'\n",
    "FinType <- c('None'=0, 'Unf'=1, 'LwQ'=2, 'Rec'=3, 'BLQ'=4, 'ALQ'=5, 'GLQ'=6)\n",
    "\n",
    "all$BsmtFinType1<-as.integer(revalue(all$BsmtFinType1, FinType))\n",
    "table(all$BsmtFinType1)"
   ]
  },
  {
   "cell_type": "markdown",
   "metadata": {},
   "source": [
    "**BsmtFinType2: Rating of basement finished area (if multiple types)**"
   ]
  },
  {
   "cell_type": "markdown",
   "metadata": {},
   "source": [
    "FinType 벡터인 ordinal 변수"
   ]
  },
  {
   "cell_type": "code",
   "execution_count": 55,
   "metadata": {
    "scrolled": true
   },
   "outputs": [
    {
     "data": {
      "text/plain": [
       "\n",
       "   0    1    2    3    4    5    6 \n",
       "  79 2494   87  105   68   52   34 "
      ]
     },
     "metadata": {},
     "output_type": "display_data"
    }
   ],
   "source": [
    "all$BsmtFinType2[is.na(all$BsmtFinType2)] <- 'None'\n",
    "FinType <- c('None'=0, 'Unf'=1, 'LwQ'=2, 'Rec'=3, 'BLQ'=4, 'ALQ'=5, 'GLQ'=6)\n",
    "\n",
    "all$BsmtFinType2<-as.integer(revalue(all$BsmtFinType2, FinType))\n",
    "table(all$BsmtFinType2)"
   ]
  },
  {
   "cell_type": "markdown",
   "metadata": {},
   "source": [
    "**Remaining Basement variabes with just a few NAs**"
   ]
  },
  {
   "cell_type": "code",
   "execution_count": 56,
   "metadata": {
    "scrolled": true
   },
   "outputs": [
    {
     "data": {
      "text/html": [
       "<table>\n",
       "<thead><tr><th></th><th scope=col>BsmtQual</th><th scope=col>BsmtFullBath</th><th scope=col>BsmtHalfBath</th><th scope=col>BsmtFinSF1</th><th scope=col>BsmtFinSF2</th><th scope=col>BsmtUnfSF</th><th scope=col>TotalBsmtSF</th></tr></thead>\n",
       "<tbody>\n",
       "\t<tr><th scope=row>2121</th><td>0 </td><td>NA</td><td>NA</td><td>NA</td><td>NA</td><td>NA</td><td>NA</td></tr>\n",
       "\t<tr><th scope=row>2189</th><td>0 </td><td>NA</td><td>NA</td><td> 0</td><td> 0</td><td> 0</td><td> 0</td></tr>\n",
       "</tbody>\n",
       "</table>\n"
      ],
      "text/latex": [
       "\\begin{tabular}{r|lllllll}\n",
       "  & BsmtQual & BsmtFullBath & BsmtHalfBath & BsmtFinSF1 & BsmtFinSF2 & BsmtUnfSF & TotalBsmtSF\\\\\n",
       "\\hline\n",
       "\t2121 & 0  & NA & NA & NA & NA & NA & NA\\\\\n",
       "\t2189 & 0  & NA & NA &  0 &  0 &  0 &  0\\\\\n",
       "\\end{tabular}\n"
      ],
      "text/markdown": [
       "\n",
       "| <!--/--> | BsmtQual | BsmtFullBath | BsmtHalfBath | BsmtFinSF1 | BsmtFinSF2 | BsmtUnfSF | TotalBsmtSF | \n",
       "|---|---|\n",
       "| 2121 | 0  | NA | NA | NA | NA | NA | NA | \n",
       "| 2189 | 0  | NA | NA |  0 |  0 |  0 |  0 | \n",
       "\n",
       "\n"
      ],
      "text/plain": [
       "     BsmtQual BsmtFullBath BsmtHalfBath BsmtFinSF1 BsmtFinSF2 BsmtUnfSF\n",
       "2121 0        NA           NA           NA         NA         NA       \n",
       "2189 0        NA           NA            0          0          0       \n",
       "     TotalBsmtSF\n",
       "2121 NA         \n",
       "2189  0         "
      ]
     },
     "metadata": {},
     "output_type": "display_data"
    }
   ],
   "source": [
    "#display remaining NAs. Using BsmtQual as a reference for the 79 houses without basement agreed upon earlier\n",
    "all[(is.na(all$BsmtFullBath)|is.na(all$BsmtHalfBath)|is.na(all$BsmtFinSF1)|is.na(all$BsmtFinSF2)|is.na(all$BsmtUnfSF)|is.na(all$TotalBsmtSF)), c('BsmtQual', 'BsmtFullBath', 'BsmtHalfBath', 'BsmtFinSF1', 'BsmtFinSF2', 'BsmtUnfSF', 'TotalBsmtSF')]"
   ]
  },
  {
   "cell_type": "markdown",
   "metadata": {},
   "source": [
    "남아있는 NA는 현재 존재하지 않는다는 것을 의미한다. 따라서 아래에서 남은 변수들을 고치겠다."
   ]
  },
  {
   "cell_type": "markdown",
   "metadata": {},
   "source": [
    "**BsmtFullBath: Basement full bathrooms**"
   ]
  },
  {
   "cell_type": "markdown",
   "metadata": {},
   "source": [
    "정수형 변수"
   ]
  },
  {
   "cell_type": "code",
   "execution_count": 57,
   "metadata": {},
   "outputs": [
    {
     "data": {
      "text/plain": [
       "\n",
       "   0    1    2    3 \n",
       "1707 1172   38    2 "
      ]
     },
     "metadata": {},
     "output_type": "display_data"
    }
   ],
   "source": [
    "all$BsmtFullBath[is.na(all$BsmtFullBath)] <-0\n",
    "table(all$BsmtFullBath)"
   ]
  },
  {
   "cell_type": "markdown",
   "metadata": {},
   "source": [
    "**BsmtHalfBath: Basement half bathrooms**"
   ]
  },
  {
   "cell_type": "markdown",
   "metadata": {},
   "source": [
    "정수형 변수"
   ]
  },
  {
   "cell_type": "code",
   "execution_count": 58,
   "metadata": {
    "scrolled": true
   },
   "outputs": [
    {
     "data": {
      "text/plain": [
       "\n",
       "   0    1    2 \n",
       "2744  171    4 "
      ]
     },
     "metadata": {},
     "output_type": "display_data"
    }
   ],
   "source": [
    "all$BsmtHalfBath[is.na(all$BsmtHalfBath)] <-0\n",
    "table(all$BsmtHalfBath)"
   ]
  },
  {
   "cell_type": "markdown",
   "metadata": {},
   "source": [
    "**BsmtFinSF1: Type 1 finished square feet**"
   ]
  },
  {
   "cell_type": "markdown",
   "metadata": {},
   "source": [
    "정수형 변수"
   ]
  },
  {
   "cell_type": "code",
   "execution_count": 59,
   "metadata": {},
   "outputs": [],
   "source": [
    "all$BsmtFinSF1[is.na(all$BsmtFinSF1)] <-0"
   ]
  },
  {
   "cell_type": "markdown",
   "metadata": {},
   "source": [
    "**BsmtFinSF2: Type 2 finished square feet**"
   ]
  },
  {
   "cell_type": "markdown",
   "metadata": {},
   "source": [
    "정수형 변수"
   ]
  },
  {
   "cell_type": "code",
   "execution_count": 60,
   "metadata": {},
   "outputs": [],
   "source": [
    "all$BsmtFinSF2[is.na(all$BsmtFinSF2)] <-0"
   ]
  },
  {
   "cell_type": "markdown",
   "metadata": {},
   "source": [
    "**BsmtUnfSF: Unfinished square feet of basement area**"
   ]
  },
  {
   "cell_type": "markdown",
   "metadata": {},
   "source": [
    "정수형 변수"
   ]
  },
  {
   "cell_type": "code",
   "execution_count": 61,
   "metadata": {},
   "outputs": [],
   "source": [
    "all$BsmtUnfSF[is.na(all$BsmtUnfSF)] <-0"
   ]
  },
  {
   "cell_type": "markdown",
   "metadata": {},
   "source": [
    "**TotalBsmtSF: Total square feet of basement area**"
   ]
  },
  {
   "cell_type": "markdown",
   "metadata": {},
   "source": [
    "정수형 변수"
   ]
  },
  {
   "cell_type": "code",
   "execution_count": 62,
   "metadata": {},
   "outputs": [],
   "source": [
    "all$TotalBsmtSF[is.na(all$TotalBsmtSF)] <-0"
   ]
  },
  {
   "cell_type": "markdown",
   "metadata": {},
   "source": [
    "---------------------------------------------------------"
   ]
  },
  {
   "cell_type": "markdown",
   "metadata": {},
   "source": [
    "5.2.9-5.2.16 설명 생략 코드만"
   ]
  },
  {
   "cell_type": "code",
   "execution_count": 63,
   "metadata": {},
   "outputs": [
    {
     "data": {
      "text/html": [
       "23"
      ],
      "text/latex": [
       "23"
      ],
      "text/markdown": [
       "23"
      ],
      "text/plain": [
       "[1] 23"
      ]
     },
     "metadata": {},
     "output_type": "display_data"
    }
   ],
   "source": [
    "#check if the 23 houses with veneer area NA are also NA in the veneer type\n",
    "length(which(is.na(all$MasVnrType) & is.na(all$MasVnrArea)))"
   ]
  },
  {
   "cell_type": "code",
   "execution_count": 64,
   "metadata": {},
   "outputs": [
    {
     "data": {
      "text/html": [
       "<table>\n",
       "<thead><tr><th></th><th scope=col>MasVnrType</th><th scope=col>MasVnrArea</th></tr></thead>\n",
       "<tbody>\n",
       "\t<tr><th scope=row>2611</th><td>NA </td><td>198</td></tr>\n",
       "</tbody>\n",
       "</table>\n"
      ],
      "text/latex": [
       "\\begin{tabular}{r|ll}\n",
       "  & MasVnrType & MasVnrArea\\\\\n",
       "\\hline\n",
       "\t2611 & NA  & 198\\\\\n",
       "\\end{tabular}\n"
      ],
      "text/markdown": [
       "\n",
       "| <!--/--> | MasVnrType | MasVnrArea | \n",
       "|---|\n",
       "| 2611 | NA  | 198 | \n",
       "\n",
       "\n"
      ],
      "text/plain": [
       "     MasVnrType MasVnrArea\n",
       "2611 NA         198       "
      ]
     },
     "metadata": {},
     "output_type": "display_data"
    }
   ],
   "source": [
    "#find the one that should have a MasVnrType\n",
    "all[is.na(all$MasVnrType) & !is.na(all$MasVnrArea), c('MasVnrType', 'MasVnrArea')]"
   ]
  },
  {
   "cell_type": "code",
   "execution_count": 65,
   "metadata": {},
   "outputs": [
    {
     "data": {
      "text/html": [
       "<table>\n",
       "<thead><tr><th></th><th scope=col>MasVnrType</th><th scope=col>MasVnrArea</th></tr></thead>\n",
       "<tbody>\n",
       "\t<tr><th scope=row>2611</th><td>BrkFace</td><td>198    </td></tr>\n",
       "</tbody>\n",
       "</table>\n"
      ],
      "text/latex": [
       "\\begin{tabular}{r|ll}\n",
       "  & MasVnrType & MasVnrArea\\\\\n",
       "\\hline\n",
       "\t2611 & BrkFace & 198    \\\\\n",
       "\\end{tabular}\n"
      ],
      "text/markdown": [
       "\n",
       "| <!--/--> | MasVnrType | MasVnrArea | \n",
       "|---|\n",
       "| 2611 | BrkFace | 198     | \n",
       "\n",
       "\n"
      ],
      "text/plain": [
       "     MasVnrType MasVnrArea\n",
       "2611 BrkFace    198       "
      ]
     },
     "metadata": {},
     "output_type": "display_data"
    }
   ],
   "source": [
    "#fix this veneer type by imputing the mode\n",
    "all$MasVnrType[2611] <- names(sort(-table(all$MasVnrType)))[2] #taking the 2nd value as the 1st is 'none'\n",
    "all[2611, c('MasVnrType', 'MasVnrArea')]"
   ]
  },
  {
   "cell_type": "code",
   "execution_count": 66,
   "metadata": {},
   "outputs": [
    {
     "data": {
      "text/html": [
       "<table>\n",
       "<thead><tr><th scope=col>MasVnrType</th><th scope=col>median</th><th scope=col>counts</th></tr></thead>\n",
       "<tbody>\n",
       "\t<tr><td>BrkCmn </td><td>139000 </td><td> 15    </td></tr>\n",
       "\t<tr><td>None   </td><td>143125 </td><td>872    </td></tr>\n",
       "\t<tr><td>BrkFace</td><td>181000 </td><td>445    </td></tr>\n",
       "\t<tr><td>Stone  </td><td>246839 </td><td>128    </td></tr>\n",
       "</tbody>\n",
       "</table>\n"
      ],
      "text/latex": [
       "\\begin{tabular}{r|lll}\n",
       " MasVnrType & median & counts\\\\\n",
       "\\hline\n",
       "\t BrkCmn  & 139000  &  15    \\\\\n",
       "\t None    & 143125  & 872    \\\\\n",
       "\t BrkFace & 181000  & 445    \\\\\n",
       "\t Stone   & 246839  & 128    \\\\\n",
       "\\end{tabular}\n"
      ],
      "text/markdown": [
       "\n",
       "MasVnrType | median | counts | \n",
       "|---|---|---|---|\n",
       "| BrkCmn  | 139000  |  15     | \n",
       "| None    | 143125  | 872     | \n",
       "| BrkFace | 181000  | 445     | \n",
       "| Stone   | 246839  | 128     | \n",
       "\n",
       "\n"
      ],
      "text/plain": [
       "  MasVnrType median counts\n",
       "1 BrkCmn     139000  15   \n",
       "2 None       143125 872   \n",
       "3 BrkFace    181000 445   \n",
       "4 Stone      246839 128   "
      ]
     },
     "metadata": {},
     "output_type": "display_data"
    }
   ],
   "source": [
    "all$MasVnrType[is.na(all$MasVnrType)] <- 'None'\n",
    "\n",
    "all[!is.na(all$SalePrice),] %>% group_by(MasVnrType) %>% summarise(median = median(SalePrice), counts=n()) %>% arrange(median)"
   ]
  },
  {
   "cell_type": "code",
   "execution_count": 67,
   "metadata": {},
   "outputs": [
    {
     "data": {
      "text/plain": [
       "\n",
       "   0    1    2 \n",
       "1790  880  249 "
      ]
     },
     "metadata": {},
     "output_type": "display_data"
    }
   ],
   "source": [
    "Masonry <- c('None'=0, 'BrkCmn'=0, 'BrkFace'=1, 'Stone'=2)\n",
    "all$MasVnrType<-as.integer(revalue(all$MasVnrType, Masonry))\n",
    "table(all$MasVnrType)"
   ]
  },
  {
   "cell_type": "code",
   "execution_count": 68,
   "metadata": {},
   "outputs": [],
   "source": [
    "all$MasVnrArea[is.na(all$MasVnrArea)] <-0"
   ]
  },
  {
   "cell_type": "markdown",
   "metadata": {},
   "source": [
    "**MSZoning: Identifies the general zoning classification of the sale**"
   ]
  },
  {
   "cell_type": "markdown",
   "metadata": {},
   "source": [
    "   A    Agriculture\n",
    "   C    Commercial\n",
    "   FV   Floating Village Residential\n",
    "   I    Industrial\n",
    "   RH   Residential High Density\n",
    "   RL   Residential Low Density\n",
    "   RP   Residential Low Density Park \n",
    "   RM   Residential Medium Density"
   ]
  },
  {
   "cell_type": "code",
   "execution_count": 69,
   "metadata": {},
   "outputs": [
    {
     "data": {
      "text/plain": [
       "\n",
       "C (all)      FV      RH      RL      RM \n",
       "     25     139      26    2269     460 "
      ]
     },
     "metadata": {},
     "output_type": "display_data"
    }
   ],
   "source": [
    "#imputing the mode\n",
    "all$MSZoning[is.na(all$MSZoning)] <- names(sort(-table(all$MSZoning)))[1]\n",
    "all$MSZoning <- as.factor(all$MSZoning)\n",
    "table(all$MSZoning)"
   ]
  },
  {
   "cell_type": "code",
   "execution_count": 70,
   "metadata": {},
   "outputs": [
    {
     "data": {
      "text/html": [
       "2919"
      ],
      "text/latex": [
       "2919"
      ],
      "text/markdown": [
       "2919"
      ],
      "text/plain": [
       "[1] 2919"
      ]
     },
     "metadata": {},
     "output_type": "display_data"
    }
   ],
   "source": [
    "sum(table(all$MSZoning))"
   ]
  },
  {
   "cell_type": "markdown",
   "metadata": {},
   "source": [
    "**Kitechen quality and number of Kitchens above grade**"
   ]
  },
  {
   "cell_type": "code",
   "execution_count": 71,
   "metadata": {},
   "outputs": [
    {
     "name": "stderr",
     "output_type": "stream",
     "text": [
      "The following `from` values were not present in `x`: None, Po\n"
     ]
    },
    {
     "data": {
      "text/plain": [
       "\n",
       "   2    3    4    5 \n",
       "  70 1493 1151  205 "
      ]
     },
     "metadata": {},
     "output_type": "display_data"
    }
   ],
   "source": [
    "all$KitchenQual[is.na(all$KitchenQual)] <- 'TA' #replace with most common value\n",
    "all$KitchenQual<-as.integer(revalue(all$KitchenQual, Qualities))\n",
    "table(all$KitchenQual)"
   ]
  },
  {
   "cell_type": "code",
   "execution_count": 72,
   "metadata": {},
   "outputs": [
    {
     "data": {
      "text/html": [
       "2919"
      ],
      "text/latex": [
       "2919"
      ],
      "text/markdown": [
       "2919"
      ],
      "text/plain": [
       "[1] 2919"
      ]
     },
     "metadata": {},
     "output_type": "display_data"
    }
   ],
   "source": [
    "sum(table(all$KitchenQual))"
   ]
  },
  {
   "cell_type": "code",
   "execution_count": 73,
   "metadata": {},
   "outputs": [
    {
     "data": {
      "text/plain": [
       "\n",
       "   0    1    2    3 \n",
       "   3 2785  129    2 "
      ]
     },
     "metadata": {},
     "output_type": "display_data"
    }
   ],
   "source": [
    "table(all$KitchenAbvGr)"
   ]
  },
  {
   "cell_type": "code",
   "execution_count": 74,
   "metadata": {},
   "outputs": [
    {
     "data": {
      "text/html": [
       "2919"
      ],
      "text/latex": [
       "2919"
      ],
      "text/markdown": [
       "2919"
      ],
      "text/plain": [
       "[1] 2919"
      ]
     },
     "metadata": {},
     "output_type": "display_data"
    }
   ],
   "source": [
    "sum(table(all$KitchenAbvGr))"
   ]
  },
  {
   "cell_type": "markdown",
   "metadata": {},
   "source": [
    "**Utilities: Type of utilities avaliable**"
   ]
  },
  {
   "cell_type": "markdown",
   "metadata": {},
   "source": [
    "   AllPub   All public Utilities (E,G,W,& S)    \n",
    "   NoSewr   Electricity, Gas, and Water (Septic Tank)\n",
    "   NoSeWa   Electricity and Gas Only\n",
    "   ELO  Electricity only"
   ]
  },
  {
   "cell_type": "code",
   "execution_count": 75,
   "metadata": {},
   "outputs": [
    {
     "data": {
      "text/plain": [
       "\n",
       "AllPub NoSeWa \n",
       "  2916      1 "
      ]
     },
     "metadata": {},
     "output_type": "display_data"
    }
   ],
   "source": [
    "table(all$Utilities)"
   ]
  },
  {
   "cell_type": "code",
   "execution_count": 76,
   "metadata": {},
   "outputs": [
    {
     "data": {
      "text/plain": [
       "\n",
       "\n",
       "|     | MSSubClass|MSZoning | LotFrontage| LotArea|Street |Alley | LotShape|LandContour |Utilities |\n",
       "|:----|----------:|:--------|-----------:|-------:|:------|:-----|--------:|:-----------|:---------|\n",
       "|945  |         20|RL       |          82|   14375|Pave   |None  |        2|Lvl         |NoSeWa    |\n",
       "|1916 |         30|RL       |         109|   21780|Grvl   |None  |        3|Lvl         |NA        |\n",
       "|1946 |         20|RL       |          64|   31220|Pave   |None  |        2|Bnk         |NA        |"
      ]
     },
     "metadata": {},
     "output_type": "display_data"
    }
   ],
   "source": [
    "kable(all[is.na(all$Utilities) | all$Utilities=='NoSeWa', 1:9])"
   ]
  },
  {
   "cell_type": "code",
   "execution_count": 77,
   "metadata": {},
   "outputs": [],
   "source": [
    "all$Utilities <- NULL"
   ]
  },
  {
   "cell_type": "markdown",
   "metadata": {},
   "source": [
    "**Home functionalilty**"
   ]
  },
  {
   "cell_type": "markdown",
   "metadata": {},
   "source": [
    "   Typ  Typical Functionality\n",
    "   Min1 Minor Deductions 1\n",
    "   Min2 Minor Deductions 2\n",
    "   Mod  Moderate Deductions\n",
    "   Maj1 Major Deductions 1\n",
    "   Maj2 Major Deductions 2\n",
    "   Sev  Severely Damaged\n",
    "   Sal  Salvage only"
   ]
  },
  {
   "cell_type": "code",
   "execution_count": 78,
   "metadata": {},
   "outputs": [
    {
     "name": "stderr",
     "output_type": "stream",
     "text": [
      "The following `from` values were not present in `x`: Sal\n"
     ]
    },
    {
     "data": {
      "text/plain": [
       "\n",
       "   1    2    3    4    5    6    7 \n",
       "   2    9   19   35   70   65 2719 "
      ]
     },
     "metadata": {},
     "output_type": "display_data"
    }
   ],
   "source": [
    "#impute mode for the 1 NA\n",
    "all$Functional[is.na(all$Functional)] <- names(sort(-table(all$Functional)))[1]\n",
    "\n",
    "all$Functional <- as.integer(revalue(all$Functional, c('Sal'=0, 'Sev'=1, 'Maj2'=2, 'Maj1'=3, 'Mod'=4, 'Min2'=5, 'Min1'=6, 'Typ'=7)))\n",
    "table(all$Functional)"
   ]
  },
  {
   "cell_type": "code",
   "execution_count": 79,
   "metadata": {},
   "outputs": [
    {
     "data": {
      "text/html": [
       "2919"
      ],
      "text/latex": [
       "2919"
      ],
      "text/markdown": [
       "2919"
      ],
      "text/plain": [
       "[1] 2919"
      ]
     },
     "metadata": {},
     "output_type": "display_data"
    }
   ],
   "source": [
    "sum(table(all$Functional))"
   ]
  },
  {
   "cell_type": "markdown",
   "metadata": {},
   "source": [
    "**Exterior variables**"
   ]
  },
  {
   "cell_type": "markdown",
   "metadata": {},
   "source": [
    "   AsbShng  Asbestos Shingles\n",
    "   AsphShn  Asphalt Shingles\n",
    "   BrkComm  Brick Common\n",
    "   BrkFace  Brick Face\n",
    "   CBlock   Cinder Block\n",
    "   CemntBd  Cement Board\n",
    "   HdBoard  Hard Board\n",
    "   ImStucc  Imitation Stucco\n",
    "   MetalSd  Metal Siding\n",
    "   Other    Other\n",
    "   Plywood  Plywood\n",
    "   PreCast  PreCast \n",
    "   Stone    Stone\n",
    "   Stucco   Stucco\n",
    "   VinylSd  Vinyl Siding\n",
    "   Wd Sdng  Wood Siding\n",
    "   WdShing  Wood Shingles"
   ]
  },
  {
   "cell_type": "code",
   "execution_count": 80,
   "metadata": {},
   "outputs": [
    {
     "data": {
      "text/plain": [
       "\n",
       "AsbShng AsphShn BrkComm BrkFace  CBlock CemntBd HdBoard ImStucc MetalSd Plywood \n",
       "     44       2       6      87       2     126     442       1     450     221 \n",
       "  Stone  Stucco VinylSd Wd Sdng WdShing \n",
       "      2      43    1026     411      56 "
      ]
     },
     "metadata": {},
     "output_type": "display_data"
    }
   ],
   "source": [
    "#imputing mode\n",
    "all$Exterior1st[is.na(all$Exterior1st)] <- names(sort(-table(all$Exterior1st)))[1]\n",
    "\n",
    "all$Exterior1st <- as.factor(all$Exterior1st)\n",
    "table(all$Exterior1st)"
   ]
  },
  {
   "cell_type": "code",
   "execution_count": 81,
   "metadata": {},
   "outputs": [
    {
     "data": {
      "text/html": [
       "2919"
      ],
      "text/latex": [
       "2919"
      ],
      "text/markdown": [
       "2919"
      ],
      "text/plain": [
       "[1] 2919"
      ]
     },
     "metadata": {},
     "output_type": "display_data"
    }
   ],
   "source": [
    "sum(table(all$Exterior1st))"
   ]
  },
  {
   "cell_type": "code",
   "execution_count": 82,
   "metadata": {},
   "outputs": [
    {
     "data": {
      "text/plain": [
       "\n",
       "AsbShng AsphShn Brk Cmn BrkFace  CBlock CmentBd HdBoard ImStucc MetalSd   Other \n",
       "     38       4      22      47       3     126     406      15     447       1 \n",
       "Plywood   Stone  Stucco VinylSd Wd Sdng Wd Shng \n",
       "    270       6      47    1015     391      81 "
      ]
     },
     "metadata": {},
     "output_type": "display_data"
    }
   ],
   "source": [
    "#imputing mode\n",
    "all$Exterior2nd[is.na(all$Exterior2nd)] <- names(sort(-table(all$Exterior2nd)))[1]\n",
    "\n",
    "all$Exterior2nd <- as.factor(all$Exterior2nd)\n",
    "table(all$Exterior2nd)"
   ]
  },
  {
   "cell_type": "code",
   "execution_count": 83,
   "metadata": {},
   "outputs": [
    {
     "data": {
      "text/html": [
       "2919"
      ],
      "text/latex": [
       "2919"
      ],
      "text/markdown": [
       "2919"
      ],
      "text/plain": [
       "[1] 2919"
      ]
     },
     "metadata": {},
     "output_type": "display_data"
    }
   ],
   "source": [
    "sum(table(all$Exterior2nd))"
   ]
  },
  {
   "cell_type": "code",
   "execution_count": 84,
   "metadata": {},
   "outputs": [
    {
     "name": "stderr",
     "output_type": "stream",
     "text": [
      "The following `from` values were not present in `x`: None, Po\n"
     ]
    }
   ],
   "source": [
    "all$ExterQual<-as.integer(revalue(all$ExterQual, Qualities))"
   ]
  },
  {
   "cell_type": "code",
   "execution_count": 85,
   "metadata": {},
   "outputs": [
    {
     "data": {
      "text/plain": [
       "\n",
       "   2    3    4    5 \n",
       "  35 1798  979  107 "
      ]
     },
     "metadata": {},
     "output_type": "display_data"
    }
   ],
   "source": [
    "table(all$ExterQual)"
   ]
  },
  {
   "cell_type": "code",
   "execution_count": 86,
   "metadata": {},
   "outputs": [
    {
     "data": {
      "text/html": [
       "2919"
      ],
      "text/latex": [
       "2919"
      ],
      "text/markdown": [
       "2919"
      ],
      "text/plain": [
       "[1] 2919"
      ]
     },
     "metadata": {},
     "output_type": "display_data"
    }
   ],
   "source": [
    "sum(table(all$ExterQual))"
   ]
  },
  {
   "cell_type": "code",
   "execution_count": 87,
   "metadata": {},
   "outputs": [
    {
     "name": "stderr",
     "output_type": "stream",
     "text": [
      "The following `from` values were not present in `x`: None\n"
     ]
    }
   ],
   "source": [
    "all$ExterCond<-as.integer(revalue(all$ExterCond, Qualities))"
   ]
  },
  {
   "cell_type": "code",
   "execution_count": 88,
   "metadata": {},
   "outputs": [
    {
     "data": {
      "text/plain": [
       "\n",
       "   1    2    3    4    5 \n",
       "   3   67 2538  299   12 "
      ]
     },
     "metadata": {},
     "output_type": "display_data"
    }
   ],
   "source": [
    "table(all$ExterCond)"
   ]
  },
  {
   "cell_type": "code",
   "execution_count": 89,
   "metadata": {},
   "outputs": [
    {
     "data": {
      "text/html": [
       "2919"
      ],
      "text/latex": [
       "2919"
      ],
      "text/markdown": [
       "2919"
      ],
      "text/plain": [
       "[1] 2919"
      ]
     },
     "metadata": {},
     "output_type": "display_data"
    }
   ],
   "source": [
    "sum(table(all$ExterCond))"
   ]
  },
  {
   "cell_type": "markdown",
   "metadata": {},
   "source": [
    "**Electrical system**"
   ]
  },
  {
   "cell_type": "markdown",
   "metadata": {},
   "source": [
    "   SBrkr    Standard Circuit Breakers & Romex\n",
    "   FuseA    Fuse Box over 60 AMP and all Romex wiring (Average) \n",
    "   FuseF    60 AMP Fuse Box and mostly Romex wiring (Fair)\n",
    "   FuseP    60 AMP Fuse Box and mostly knob & tube wiring (poor)\n",
    "   Mix  Mixed"
   ]
  },
  {
   "cell_type": "code",
   "execution_count": 90,
   "metadata": {},
   "outputs": [
    {
     "data": {
      "text/plain": [
       "\n",
       "FuseA FuseF FuseP   Mix SBrkr \n",
       "  188    50     8     1  2672 "
      ]
     },
     "metadata": {},
     "output_type": "display_data"
    }
   ],
   "source": [
    "#imputing mode\n",
    "all$Electrical[is.na(all$Electrical)] <- names(sort(-table(all$Electrical)))[1]\n",
    "\n",
    "all$Electrical <- as.factor(all$Electrical)\n",
    "table(all$Electrical)"
   ]
  },
  {
   "cell_type": "code",
   "execution_count": 91,
   "metadata": {},
   "outputs": [
    {
     "data": {
      "text/html": [
       "2919"
      ],
      "text/latex": [
       "2919"
      ],
      "text/markdown": [
       "2919"
      ],
      "text/plain": [
       "[1] 2919"
      ]
     },
     "metadata": {},
     "output_type": "display_data"
    }
   ],
   "source": [
    "sum(table(all$Electrical))"
   ]
  },
  {
   "cell_type": "markdown",
   "metadata": {},
   "source": [
    "**Sale Type and Condition**"
   ]
  },
  {
   "cell_type": "markdown",
   "metadata": {},
   "source": [
    "   WD   Warranty Deed - Conventional\n",
    "   CWD  Warranty Deed - Cash\n",
    "   VWD  Warranty Deed - VA Loan\n",
    "   New  Home just constructed and sold\n",
    "   COD  Court Officer Deed/Estate\n",
    "   Con  Contract 15% Down payment regular terms\n",
    "   ConLw    Contract Low Down payment and low interest\n",
    "   ConLI    Contract Low Interest\n",
    "   ConLD    Contract Low Down\n",
    "   Oth  Other"
   ]
  },
  {
   "cell_type": "code",
   "execution_count": 92,
   "metadata": {},
   "outputs": [
    {
     "data": {
      "text/plain": [
       "\n",
       "  COD   Con ConLD ConLI ConLw   CWD   New   Oth    WD \n",
       "   87     5    26     9     8    12   239     7  2526 "
      ]
     },
     "metadata": {},
     "output_type": "display_data"
    }
   ],
   "source": [
    "#imputing mode\n",
    "all$SaleType[is.na(all$SaleType)] <- names(sort(-table(all$SaleType)))[1]\n",
    "\n",
    "all$SaleType <- as.factor(all$SaleType)\n",
    "table(all$SaleType)"
   ]
  },
  {
   "cell_type": "code",
   "execution_count": 93,
   "metadata": {},
   "outputs": [
    {
     "data": {
      "text/html": [
       "2919"
      ],
      "text/latex": [
       "2919"
      ],
      "text/markdown": [
       "2919"
      ],
      "text/plain": [
       "[1] 2919"
      ]
     },
     "metadata": {},
     "output_type": "display_data"
    }
   ],
   "source": [
    "sum(table(all$SaleType))"
   ]
  },
  {
   "cell_type": "markdown",
   "metadata": {},
   "source": [
    "   Normal   Normal Sale\n",
    "   Abnorml  Abnormal Sale -  trade, foreclosure, short sale\n",
    "   AdjLand  Adjoining Land Purchase\n",
    "   Alloca   Allocation - two linked properties with separate deeds, typically condo with a garage unit  \n",
    "   Family   Sale between family members\n",
    "   Partial  Home was not completed when last assessed (associated with New Homes)"
   ]
  },
  {
   "cell_type": "code",
   "execution_count": 94,
   "metadata": {},
   "outputs": [
    {
     "data": {
      "text/plain": [
       "\n",
       "Abnorml AdjLand  Alloca  Family  Normal Partial \n",
       "    190      12      24      46    2402     245 "
      ]
     },
     "metadata": {},
     "output_type": "display_data"
    }
   ],
   "source": [
    "all$SaleCondition <- as.factor(all$SaleCondition)\n",
    "table(all$SaleCondition)"
   ]
  },
  {
   "cell_type": "code",
   "execution_count": 95,
   "metadata": {},
   "outputs": [
    {
     "data": {
      "text/html": [
       "2919"
      ],
      "text/latex": [
       "2919"
      ],
      "text/markdown": [
       "2919"
      ],
      "text/plain": [
       "[1] 2919"
      ]
     },
     "metadata": {},
     "output_type": "display_data"
    }
   ],
   "source": [
    "sum(table(all$SaleCondition))"
   ]
  },
  {
   "cell_type": "markdown",
   "metadata": {},
   "source": [
    "---------------------------------------------------------------------"
   ]
  },
  {
   "cell_type": "markdown",
   "metadata": {},
   "source": [
    "### 5.3 Label encoding/factorizing the remaining character variables"
   ]
  },
  {
   "cell_type": "markdown",
   "metadata": {},
   "source": [
    "NA가 포함된 모든 변수들은 처리했지만 missing value가 없는 남은 캐릭터 변수를 처리해야 한다. 이전 섹션과 비슷하게 변수들의 탭을 만들었다."
   ]
  },
  {
   "cell_type": "code",
   "execution_count": 96,
   "metadata": {},
   "outputs": [
    {
     "data": {
      "text/html": [
       "<ol class=list-inline>\n",
       "\t<li>'Street'</li>\n",
       "\t<li>'LandContour'</li>\n",
       "\t<li>'LandSlope'</li>\n",
       "\t<li>'Neighborhood'</li>\n",
       "\t<li>'Condition1'</li>\n",
       "\t<li>'Condition2'</li>\n",
       "\t<li>'BldgType'</li>\n",
       "\t<li>'HouseStyle'</li>\n",
       "\t<li>'RoofStyle'</li>\n",
       "\t<li>'RoofMatl'</li>\n",
       "\t<li>'Foundation'</li>\n",
       "\t<li>'Heating'</li>\n",
       "\t<li>'HeatingQC'</li>\n",
       "\t<li>'CentralAir'</li>\n",
       "\t<li>'PavedDrive'</li>\n",
       "</ol>\n"
      ],
      "text/latex": [
       "\\begin{enumerate*}\n",
       "\\item 'Street'\n",
       "\\item 'LandContour'\n",
       "\\item 'LandSlope'\n",
       "\\item 'Neighborhood'\n",
       "\\item 'Condition1'\n",
       "\\item 'Condition2'\n",
       "\\item 'BldgType'\n",
       "\\item 'HouseStyle'\n",
       "\\item 'RoofStyle'\n",
       "\\item 'RoofMatl'\n",
       "\\item 'Foundation'\n",
       "\\item 'Heating'\n",
       "\\item 'HeatingQC'\n",
       "\\item 'CentralAir'\n",
       "\\item 'PavedDrive'\n",
       "\\end{enumerate*}\n"
      ],
      "text/markdown": [
       "1. 'Street'\n",
       "2. 'LandContour'\n",
       "3. 'LandSlope'\n",
       "4. 'Neighborhood'\n",
       "5. 'Condition1'\n",
       "6. 'Condition2'\n",
       "7. 'BldgType'\n",
       "8. 'HouseStyle'\n",
       "9. 'RoofStyle'\n",
       "10. 'RoofMatl'\n",
       "11. 'Foundation'\n",
       "12. 'Heating'\n",
       "13. 'HeatingQC'\n",
       "14. 'CentralAir'\n",
       "15. 'PavedDrive'\n",
       "\n",
       "\n"
      ],
      "text/plain": [
       " [1] \"Street\"       \"LandContour\"  \"LandSlope\"    \"Neighborhood\" \"Condition1\"  \n",
       " [6] \"Condition2\"   \"BldgType\"     \"HouseStyle\"   \"RoofStyle\"    \"RoofMatl\"    \n",
       "[11] \"Foundation\"   \"Heating\"      \"HeatingQC\"    \"CentralAir\"   \"PavedDrive\"  "
      ]
     },
     "metadata": {},
     "output_type": "display_data"
    }
   ],
   "source": [
    "Charcol <- names(all[,sapply(all, is.character)])\n",
    "Charcol"
   ]
  },
  {
   "cell_type": "code",
   "execution_count": 97,
   "metadata": {},
   "outputs": [
    {
     "name": "stdout",
     "output_type": "stream",
     "text": [
      "There are 15 remaining columns with character values"
     ]
    }
   ],
   "source": [
    "cat('There are', length(Charcol), 'remaining columns with character values')"
   ]
  },
  {
   "cell_type": "markdown",
   "metadata": {},
   "source": [
    "**Foundation: Type of foundation**"
   ]
  },
  {
   "cell_type": "markdown",
   "metadata": {},
   "source": [
    "    BrkTil          Brick & Tile\n",
    "    CBlock          Cinder Block\n",
    "    PConc           Poured Contrete \n",
    "    Slab            Slab\n",
    "    Stone           Stone\n",
    "    Wood            Wood"
   ]
  },
  {
   "cell_type": "code",
   "execution_count": 98,
   "metadata": {},
   "outputs": [
    {
     "data": {
      "text/plain": [
       "\n",
       "BrkTil CBlock  PConc   Slab  Stone   Wood \n",
       "   311   1235   1308     49     11      5 "
      ]
     },
     "metadata": {},
     "output_type": "display_data"
    }
   ],
   "source": [
    "#No ordinality, so converting into factors\n",
    "all$Foundation <- as.factor(all$Foundation)\n",
    "table(all$Foundation)"
   ]
  },
  {
   "cell_type": "code",
   "execution_count": 99,
   "metadata": {},
   "outputs": [
    {
     "data": {
      "text/html": [
       "2919"
      ],
      "text/latex": [
       "2919"
      ],
      "text/markdown": [
       "2919"
      ],
      "text/plain": [
       "[1] 2919"
      ]
     },
     "metadata": {},
     "output_type": "display_data"
    }
   ],
   "source": [
    "sum(table(all$Foundation))"
   ]
  },
  {
   "cell_type": "markdown",
   "metadata": {},
   "source": [
    "**Heating and airco**"
   ]
  },
  {
   "cell_type": "markdown",
   "metadata": {},
   "source": [
    "2개의 heating 변수 중 하나는 Airco Yes/No를 의미함."
   ]
  },
  {
   "cell_type": "markdown",
   "metadata": {},
   "source": [
    "   Floor    Floor Furnace\n",
    "   GasA Gas forced warm air furnace\n",
    "   GasW Gas hot water or steam heat\n",
    "   Grav Gravity furnace \n",
    "   OthW Hot water or steam heat other than gas\n",
    "   Wall Wall furnace"
   ]
  },
  {
   "cell_type": "code",
   "execution_count": 100,
   "metadata": {},
   "outputs": [
    {
     "data": {
      "text/plain": [
       "\n",
       "Floor  GasA  GasW  Grav  OthW  Wall \n",
       "    1  2874    27     9     2     6 "
      ]
     },
     "metadata": {},
     "output_type": "display_data"
    }
   ],
   "source": [
    "#No ordinality, so converting into factors\n",
    "all$Heating <- as.factor(all$Heating)\n",
    "table(all$Heating)"
   ]
  },
  {
   "cell_type": "code",
   "execution_count": 101,
   "metadata": {},
   "outputs": [
    {
     "data": {
      "text/html": [
       "2919"
      ],
      "text/latex": [
       "2919"
      ],
      "text/markdown": [
       "2919"
      ],
      "text/plain": [
       "[1] 2919"
      ]
     },
     "metadata": {},
     "output_type": "display_data"
    }
   ],
   "source": [
    "sum(table(all$Heating))"
   ]
  },
  {
   "cell_type": "code",
   "execution_count": 102,
   "metadata": {},
   "outputs": [
    {
     "name": "stderr",
     "output_type": "stream",
     "text": [
      "The following `from` values were not present in `x`: None\n"
     ]
    }
   ],
   "source": [
    "#making the variable ordinal using the Qualities vector\n",
    "all$HeatingQC<-as.integer(revalue(all$HeatingQC, Qualities))"
   ]
  },
  {
   "cell_type": "code",
   "execution_count": 103,
   "metadata": {},
   "outputs": [
    {
     "data": {
      "text/plain": [
       "\n",
       "   1    2    3    4    5 \n",
       "   3   92  857  474 1493 "
      ]
     },
     "metadata": {},
     "output_type": "display_data"
    }
   ],
   "source": [
    "table(all$HeatingQC)"
   ]
  },
  {
   "cell_type": "code",
   "execution_count": 104,
   "metadata": {},
   "outputs": [
    {
     "data": {
      "text/html": [
       "2919"
      ],
      "text/latex": [
       "2919"
      ],
      "text/markdown": [
       "2919"
      ],
      "text/plain": [
       "[1] 2919"
      ]
     },
     "metadata": {},
     "output_type": "display_data"
    }
   ],
   "source": [
    "sum(table(all$HeatingQC))"
   ]
  },
  {
   "cell_type": "code",
   "execution_count": 105,
   "metadata": {},
   "outputs": [
    {
     "data": {
      "text/plain": [
       "\n",
       "   0    1 \n",
       " 196 2723 "
      ]
     },
     "metadata": {},
     "output_type": "display_data"
    }
   ],
   "source": [
    "all$CentralAir<-as.integer(revalue(all$CentralAir, c('N'=0, 'Y'=1)))\n",
    "table(all$CentralAir)"
   ]
  },
  {
   "cell_type": "code",
   "execution_count": 106,
   "metadata": {},
   "outputs": [
    {
     "data": {
      "text/html": [
       "2919"
      ],
      "text/latex": [
       "2919"
      ],
      "text/markdown": [
       "2919"
      ],
      "text/plain": [
       "[1] 2919"
      ]
     },
     "metadata": {},
     "output_type": "display_data"
    }
   ],
   "source": [
    "sum(table(all$CentralAir))"
   ]
  },
  {
   "cell_type": "markdown",
   "metadata": {},
   "source": [
    "**Roof**"
   ]
  },
  {
   "cell_type": "markdown",
   "metadata": {},
   "source": [
    "   Flat Flat\n",
    "   Gable    Gable\n",
    "   Gambrel  Gabrel (Barn)\n",
    "   Hip  Hip\n",
    "   Mansard  Mansard\n",
    "   Shed Shed"
   ]
  },
  {
   "cell_type": "code",
   "execution_count": 107,
   "metadata": {},
   "outputs": [
    {
     "data": {
      "text/plain": [
       "\n",
       "   Flat   Gable Gambrel     Hip Mansard    Shed \n",
       "     20    2310      22     551      11       5 "
      ]
     },
     "metadata": {},
     "output_type": "display_data"
    }
   ],
   "source": [
    "#No ordinality, so converting into factors\n",
    "all$RoofStyle <- as.factor(all$RoofStyle)\n",
    "table(all$RoofStyle)"
   ]
  },
  {
   "cell_type": "code",
   "execution_count": 108,
   "metadata": {},
   "outputs": [
    {
     "data": {
      "text/html": [
       "2919"
      ],
      "text/latex": [
       "2919"
      ],
      "text/markdown": [
       "2919"
      ],
      "text/plain": [
       "[1] 2919"
      ]
     },
     "metadata": {},
     "output_type": "display_data"
    }
   ],
   "source": [
    "sum(table(all$RoofStyle))"
   ]
  },
  {
   "cell_type": "markdown",
   "metadata": {},
   "source": [
    "   ClyTile  Clay or Tile\n",
    "   CompShg  Standard (Composite) Shingle\n",
    "   Membran  Membrane\n",
    "   Metal    Metal\n",
    "   Roll Roll\n",
    "   Tar&Grv  Gravel & Tar\n",
    "   WdShake  Wood Shakes\n",
    "   WdShngl  Wood Shingles"
   ]
  },
  {
   "cell_type": "code",
   "execution_count": 109,
   "metadata": {},
   "outputs": [
    {
     "data": {
      "text/plain": [
       "\n",
       "ClyTile CompShg Membran   Metal    Roll Tar&Grv WdShake WdShngl \n",
       "      1    2876       1       1       1      23       9       7 "
      ]
     },
     "metadata": {},
     "output_type": "display_data"
    }
   ],
   "source": [
    "#No ordinality, so converting into factors\n",
    "all$RoofMatl <- as.factor(all$RoofMatl)\n",
    "table(all$RoofMatl)"
   ]
  },
  {
   "cell_type": "code",
   "execution_count": 110,
   "metadata": {},
   "outputs": [
    {
     "data": {
      "text/html": [
       "2919"
      ],
      "text/latex": [
       "2919"
      ],
      "text/markdown": [
       "2919"
      ],
      "text/plain": [
       "[1] 2919"
      ]
     },
     "metadata": {},
     "output_type": "display_data"
    }
   ],
   "source": [
    "sum(table(all$RoofMatl))"
   ]
  },
  {
   "cell_type": "markdown",
   "metadata": {},
   "source": [
    "**Land**"
   ]
  },
  {
   "cell_type": "markdown",
   "metadata": {},
   "source": [
    "   Lvl  Near Flat/Level \n",
    "   Bnk  Banked - Quick and significant rise from street grade to building\n",
    "   HLS  Hillside - Significant slope from side to side\n",
    "   Low  Depression"
   ]
  },
  {
   "cell_type": "code",
   "execution_count": 111,
   "metadata": {},
   "outputs": [
    {
     "data": {
      "text/plain": [
       "\n",
       " Bnk  HLS  Low  Lvl \n",
       " 117  120   60 2622 "
      ]
     },
     "metadata": {},
     "output_type": "display_data"
    }
   ],
   "source": [
    "#No ordinality, so converting into factors\n",
    "all$LandContour <- as.factor(all$LandContour)\n",
    "table(all$LandContour)"
   ]
  },
  {
   "cell_type": "code",
   "execution_count": 112,
   "metadata": {},
   "outputs": [
    {
     "data": {
      "text/html": [
       "2919"
      ],
      "text/latex": [
       "2919"
      ],
      "text/markdown": [
       "2919"
      ],
      "text/plain": [
       "[1] 2919"
      ]
     },
     "metadata": {},
     "output_type": "display_data"
    }
   ],
   "source": [
    "sum(table(all$LandContour))"
   ]
  },
  {
   "cell_type": "markdown",
   "metadata": {},
   "source": [
    "   Gtl  Gentle slope\n",
    "   Mod  Moderate Slope  \n",
    "   Sev  Severe Slope"
   ]
  },
  {
   "cell_type": "code",
   "execution_count": 113,
   "metadata": {},
   "outputs": [
    {
     "data": {
      "text/plain": [
       "\n",
       "   0    1    2 \n",
       "  16  125 2778 "
      ]
     },
     "metadata": {},
     "output_type": "display_data"
    }
   ],
   "source": [
    "#Ordinal, so label encoding\n",
    "all$LandSlope<-as.integer(revalue(all$LandSlope, c('Sev'=0, 'Mod'=1, 'Gtl'=2)))\n",
    "table(all$LandSlope)"
   ]
  },
  {
   "cell_type": "code",
   "execution_count": 114,
   "metadata": {},
   "outputs": [
    {
     "data": {
      "text/html": [
       "2919"
      ],
      "text/latex": [
       "2919"
      ],
      "text/markdown": [
       "2919"
      ],
      "text/plain": [
       "[1] 2919"
      ]
     },
     "metadata": {},
     "output_type": "display_data"
    }
   ],
   "source": [
    "sum(table(all$LandSlope))"
   ]
  },
  {
   "cell_type": "markdown",
   "metadata": {},
   "source": [
    "**Dwelling**"
   ]
  },
  {
   "cell_type": "markdown",
   "metadata": {},
   "source": [
    "   1Fam Single-family Detached  \n",
    "   2FmCon   Two-family Conversion; originally built as one-family dwelling\n",
    "   Duplx    Duplex\n",
    "   TwnhsE   Townhouse End Unit\n",
    "   TwnhsI   Townhouse Inside Unit"
   ]
  },
  {
   "cell_type": "code",
   "execution_count": 115,
   "metadata": {},
   "outputs": [
    {
     "data": {},
     "metadata": {},
     "output_type": "display_data"
    },
    {
     "data": {
      "image/png": "[encoded data removed]",
      "text/plain": [
       "plot without title"
      ]
     },
     "metadata": {},
     "output_type": "display_data"
    }
   ],
   "source": [
    "ggplot(all[!is.na(all$SalePrice),], aes(x=as.factor(BldgType), y=SalePrice)) +\n",
    "        geom_bar(stat='summary', fun.y = \"median\", fill='blue')+\n",
    "        scale_y_continuous(breaks= seq(0, 800000, by=100000), labels = comma) +\n",
    "        geom_label(stat = \"count\", aes(label = ..count.., y = ..count..))"
   ]
  },
  {
   "cell_type": "code",
   "execution_count": 116,
   "metadata": {},
   "outputs": [
    {
     "data": {
      "text/plain": [
       "\n",
       "  1Fam 2fmCon Duplex  Twnhs TwnhsE \n",
       "  2425     62    109     96    227 "
      ]
     },
     "metadata": {},
     "output_type": "display_data"
    }
   ],
   "source": [
    "#No ordinality, so converting into factors\n",
    "all$BldgType <- as.factor(all$BldgType)\n",
    "table(all$BldgType)"
   ]
  },
  {
   "cell_type": "code",
   "execution_count": 117,
   "metadata": {},
   "outputs": [
    {
     "data": {
      "text/html": [
       "2919"
      ],
      "text/latex": [
       "2919"
      ],
      "text/markdown": [
       "2919"
      ],
      "text/plain": [
       "[1] 2919"
      ]
     },
     "metadata": {},
     "output_type": "display_data"
    }
   ],
   "source": [
    "sum(table(all$BldgType))"
   ]
  },
  {
   "cell_type": "markdown",
   "metadata": {},
   "source": [
    "   1Story   One story\n",
    "   1.5Fin   One and one-half story: 2nd level finished\n",
    "   1.5Unf   One and one-half story: 2nd level unfinished\n",
    "   2Story   Two story\n",
    "   2.5Fin   Two and one-half story: 2nd level finished\n",
    "   2.5Unf   Two and one-half story: 2nd level unfinished\n",
    "   SFoyer   Split Foyer\n",
    "   SLvl Split Level"
   ]
  },
  {
   "cell_type": "code",
   "execution_count": 118,
   "metadata": {},
   "outputs": [
    {
     "data": {
      "text/plain": [
       "\n",
       "1.5Fin 1.5Unf 1Story 2.5Fin 2.5Unf 2Story SFoyer   SLvl \n",
       "   314     19   1471      8     24    872     83    128 "
      ]
     },
     "metadata": {},
     "output_type": "display_data"
    }
   ],
   "source": [
    "#No ordinality, so converting into factors\n",
    "all$HouseStyle <- as.factor(all$HouseStyle)\n",
    "table(all$HouseStyle)"
   ]
  },
  {
   "cell_type": "code",
   "execution_count": 119,
   "metadata": {},
   "outputs": [
    {
     "data": {
      "text/html": [
       "2919"
      ],
      "text/latex": [
       "2919"
      ],
      "text/markdown": [
       "2919"
      ],
      "text/plain": [
       "[1] 2919"
      ]
     },
     "metadata": {},
     "output_type": "display_data"
    }
   ],
   "source": [
    "sum(table(all$HouseStyle))"
   ]
  },
  {
   "cell_type": "markdown",
   "metadata": {},
   "source": [
    "**Neighborhood and Conditions**"
   ]
  },
  {
   "cell_type": "markdown",
   "metadata": {},
   "source": [
    "   Blmngtn  Bloomington Heights\n",
    "   Blueste  Bluestem\n",
    "   BrDale   Briardale\n",
    "   BrkSide  Brookside\n",
    "   ClearCr  Clear Creek\n",
    "   CollgCr  College Creek\n",
    "   Crawfor  Crawford\n",
    "   Edwards  Edwards\n",
    "   Gilbert  Gilbert\n",
    "   IDOTRR   Iowa DOT and Rail Road\n",
    "   MeadowV  Meadow Village\n",
    "   Mitchel  Mitchell\n",
    "   Names    North Ames\n",
    "   NoRidge  Northridge\n",
    "   NPkVill  Northpark Villa\n",
    "   NridgHt  Northridge Heights\n",
    "   NWAmes   Northwest Ames\n",
    "   OldTown  Old Town\n",
    "   SWISU    South & West of Iowa State University\n",
    "   Sawyer   Sawyer\n",
    "   SawyerW  Sawyer West\n",
    "   Somerst  Somerset\n",
    "   StoneBr  Stone Brook\n",
    "   Timber   Timberland\n",
    "   Veenker  Veenker"
   ]
  },
  {
   "cell_type": "code",
   "execution_count": 120,
   "metadata": {},
   "outputs": [
    {
     "data": {
      "text/plain": [
       "\n",
       "Blmngtn Blueste  BrDale BrkSide ClearCr CollgCr Crawfor Edwards Gilbert  IDOTRR \n",
       "     28      10      30     108      44     267     103     194     165      93 \n",
       "MeadowV Mitchel   NAmes NoRidge NPkVill NridgHt  NWAmes OldTown  Sawyer SawyerW \n",
       "     37     114     443      71      23     166     131     239     151     125 \n",
       "Somerst StoneBr   SWISU  Timber Veenker \n",
       "    182      51      48      72      24 "
      ]
     },
     "metadata": {},
     "output_type": "display_data"
    }
   ],
   "source": [
    "#No ordinality, so converting into factors\n",
    "all$Neighborhood <- as.factor(all$Neighborhood)\n",
    "table(all$Neighborhood)"
   ]
  },
  {
   "cell_type": "code",
   "execution_count": 121,
   "metadata": {},
   "outputs": [
    {
     "data": {
      "text/html": [
       "2919"
      ],
      "text/latex": [
       "2919"
      ],
      "text/markdown": [
       "2919"
      ],
      "text/plain": [
       "[1] 2919"
      ]
     },
     "metadata": {},
     "output_type": "display_data"
    }
   ],
   "source": [
    "sum(table(all$Neighborhood))"
   ]
  },
  {
   "cell_type": "markdown",
   "metadata": {},
   "source": [
    "   Artery   Adjacent to arterial street\n",
    "   Feedr    Adjacent to feeder street   \n",
    "   Norm Normal  \n",
    "   RRNn Within 200' of North-South Railroad\n",
    "   RRAn Adjacent to North-South Railroad\n",
    "   PosN Near positive off-site feature--park, greenbelt, etc.\n",
    "   PosA Adjacent to postive off-site feature\n",
    "   RRNe Within 200' of East-West Railroad\n",
    "   RRAe Adjacent to East-West Railroad"
   ]
  },
  {
   "cell_type": "code",
   "execution_count": 122,
   "metadata": {},
   "outputs": [
    {
     "data": {
      "text/plain": [
       "\n",
       "Artery  Feedr   Norm   PosA   PosN   RRAe   RRAn   RRNe   RRNn \n",
       "    92    164   2511     20     39     28     50      6      9 "
      ]
     },
     "metadata": {},
     "output_type": "display_data"
    }
   ],
   "source": [
    "#No ordinality, so converting into factors\n",
    "all$Condition1 <- as.factor(all$Condition1)\n",
    "table(all$Condition1)"
   ]
  },
  {
   "cell_type": "code",
   "execution_count": 123,
   "metadata": {},
   "outputs": [
    {
     "data": {
      "text/html": [
       "2919"
      ],
      "text/latex": [
       "2919"
      ],
      "text/markdown": [
       "2919"
      ],
      "text/plain": [
       "[1] 2919"
      ]
     },
     "metadata": {},
     "output_type": "display_data"
    }
   ],
   "source": [
    "sum(table(all$Condition1))"
   ]
  },
  {
   "cell_type": "code",
   "execution_count": 124,
   "metadata": {},
   "outputs": [
    {
     "data": {
      "text/plain": [
       "\n",
       "Artery  Feedr   Norm   PosA   PosN   RRAe   RRAn   RRNn \n",
       "     5     13   2889      4      4      1      1      2 "
      ]
     },
     "metadata": {},
     "output_type": "display_data"
    }
   ],
   "source": [
    "#No ordinality, so converting into factors\n",
    "all$Condition2 <- as.factor(all$Condition2)\n",
    "table(all$Condition2)"
   ]
  },
  {
   "cell_type": "code",
   "execution_count": 125,
   "metadata": {},
   "outputs": [
    {
     "data": {
      "text/html": [
       "2919"
      ],
      "text/latex": [
       "2919"
      ],
      "text/markdown": [
       "2919"
      ],
      "text/plain": [
       "[1] 2919"
      ]
     },
     "metadata": {},
     "output_type": "display_data"
    }
   ],
   "source": [
    "sum(table(all$Condition2))"
   ]
  },
  {
   "cell_type": "markdown",
   "metadata": {},
   "source": [
    "**Pavement of Street & Driveway**"
   ]
  },
  {
   "cell_type": "markdown",
   "metadata": {},
   "source": [
    "   Grvl Gravel  \n",
    "   Pave Paved"
   ]
  },
  {
   "cell_type": "code",
   "execution_count": 126,
   "metadata": {},
   "outputs": [
    {
     "data": {
      "text/plain": [
       "\n",
       "   0    1 \n",
       "  12 2907 "
      ]
     },
     "metadata": {},
     "output_type": "display_data"
    }
   ],
   "source": [
    "#Ordinal, so label encoding\n",
    "all$Street<-as.integer(revalue(all$Street, c('Grvl'=0, 'Pave'=1)))\n",
    "table(all$Street)"
   ]
  },
  {
   "cell_type": "code",
   "execution_count": 127,
   "metadata": {},
   "outputs": [
    {
     "data": {
      "text/html": [
       "2919"
      ],
      "text/latex": [
       "2919"
      ],
      "text/markdown": [
       "2919"
      ],
      "text/plain": [
       "[1] 2919"
      ]
     },
     "metadata": {},
     "output_type": "display_data"
    }
   ],
   "source": [
    "sum(table(all$Street))"
   ]
  },
  {
   "cell_type": "markdown",
   "metadata": {},
   "source": [
    "   Y    Paved \n",
    "   P    Partial Pavement\n",
    "   N    Dirt/Gravel"
   ]
  },
  {
   "cell_type": "code",
   "execution_count": 128,
   "metadata": {},
   "outputs": [
    {
     "data": {
      "text/plain": [
       "\n",
       "   0    1    2 \n",
       " 216   62 2641 "
      ]
     },
     "metadata": {},
     "output_type": "display_data"
    }
   ],
   "source": [
    "#Ordinal, so label encoding\n",
    "all$PavedDrive<-as.integer(revalue(all$PavedDrive, c('N'=0, 'P'=1, 'Y'=2)))\n",
    "table(all$PavedDrive)"
   ]
  },
  {
   "cell_type": "code",
   "execution_count": 129,
   "metadata": {},
   "outputs": [
    {
     "data": {
      "text/html": [
       "2919"
      ],
      "text/latex": [
       "2919"
      ],
      "text/markdown": [
       "2919"
      ],
      "text/plain": [
       "[1] 2919"
      ]
     },
     "metadata": {},
     "output_type": "display_data"
    }
   ],
   "source": [
    "sum(table(all$PavedDrive))"
   ]
  },
  {
   "cell_type": "markdown",
   "metadata": {},
   "source": [
    "### 5.4 Changing some numeric variables into factors"
   ]
  },
  {
   "cell_type": "markdown",
   "metadata": {},
   "source": [
    "모든 변수는 NA가 없어졌고 모든 캐릭터 변수는 facor의 numeric labels로 변환됐다. 그러나 numeric이라고 나오지만 categorical이어야 하는 3개 변수가 있다."
   ]
  },
  {
   "cell_type": "markdown",
   "metadata": {},
   "source": [
    "#### 5.4.1 Year and Month Sold"
   ]
  },
  {
   "cell_type": "markdown",
   "metadata": {},
   "source": [
    "YearBuilt의 ordinality는 타당하지만 (오래된 집은 가치가 떨어짐), 오직 5년 간의 매출만을 이야기 하고 있다. 이 기간은 경제 위기도 포함한다. 예를 들면 붕괴 이후인 2009년의 Sale Prices는 2007년보다 현저히 낮다. 따라서 모델링하기 전에 YrSold를 factor로 바꿀 것이다. 하지만 YrSold의 numeric 버전도 Age 변수를 만들 때 필요하기 때문에 아직은 그냥 놔둘 것이다."
   ]
  },
  {
   "cell_type": "markdown",
   "metadata": {},
   "source": [
    "Month Sold도 또한 정수형 변수이다. 그러나 12월은 1월보다 낫다는 의미가 아니다. 따라서 MoSold 값을 factors로 다시 변환할 것이다."
   ]
  },
  {
   "cell_type": "code",
   "execution_count": 130,
   "metadata": {},
   "outputs": [
    {
     "name": "stdout",
     "output_type": "stream",
     "text": [
      " int [1:2919] 2008 2007 2008 2006 2008 2009 2007 2009 2008 2008 ...\n"
     ]
    }
   ],
   "source": [
    "str(all$YrSold)"
   ]
  },
  {
   "cell_type": "code",
   "execution_count": 131,
   "metadata": {},
   "outputs": [
    {
     "name": "stdout",
     "output_type": "stream",
     "text": [
      " int [1:2919] 2 5 9 2 12 10 8 11 4 1 ...\n"
     ]
    }
   ],
   "source": [
    "str(all$MoSold)"
   ]
  },
  {
   "cell_type": "code",
   "execution_count": 132,
   "metadata": {},
   "outputs": [],
   "source": [
    "all$MoSold <- as.factor(all$MoSold)"
   ]
  },
  {
   "cell_type": "markdown",
   "metadata": {},
   "source": [
    "예상보다는 가파르지 않지만 2007년 말에 일어난 금융 위기의 영향을 볼 수 있다. 2007년에 가장 높은 평균 가격을 보여주고 이후로 점점 하락세가 된다. 하지만 아래 그래프를 보면 계절도 중요한 영향을 미친다는 것을 알 수 있다."
   ]
  },
  {
   "cell_type": "code",
   "execution_count": 133,
   "metadata": {},
   "outputs": [
    {
     "data": {
      "image/png": "[encoded data removed]",
      "text/plain": [
       "plot without title"
      ]
     },
     "metadata": {},
     "output_type": "display_data"
    }
   ],
   "source": [
    "ys <- ggplot(all[!is.na(all$SalePrice),], aes(x=as.factor(YrSold), y=SalePrice)) +\n",
    "geom_bar(stat='summary', fun.y = \"median\", fill='blue')+\n",
    "scale_y_continuous(breaks= seq(0, 800000, by=25000), labels = comma) +\n",
    "geom_label(stat = \"count\", aes(label = ..count.., y = ..count..)) +\n",
    "coord_cartesian(ylim = c(0, 200000)) +\n",
    "geom_hline(yintercept=163000, linetype=\"dashed\", color=\"red\") #dashed line is median SalePrice\n",
    "ms <- ggplot(all[!is.na(all$SalePrice),], aes(x=MoSold, y=SalePrice)) +\n",
    "        geom_bar(stat='summary', fun.y = \"median\", fill='blue')+\n",
    "        scale_y_continuous(breaks= seq(0, 800000, by=25000), labels = comma) +\n",
    "        geom_label(stat = \"count\", aes(label = ..count.., y = ..count..)) +\n",
    "        coord_cartesian(ylim = c(0, 200000)) +\n",
    "        geom_hline(yintercept=163000, linetype=\"dashed\", color = \"red\") #dashed line is median SalePrice\n",
    "\n",
    "grid.arrange(ys, ms, widths=c(1,2))"
   ]
  },
  {
   "cell_type": "markdown",
   "metadata": {},
   "source": [
    "#### 5.4.2 MSSubClass"
   ]
  },
  {
   "cell_type": "markdown",
   "metadata": {},
   "source": [
    "MSSubClass: Identifies the type of dwelling involved in the sale"
   ]
  },
  {
   "cell_type": "markdown",
   "metadata": {},
   "source": [
    "    20  1-STORY 1946 & NEWER ALL STYLES\n",
    "    30  1-STORY 1945 & OLDER\n",
    "    40  1-STORY W/FINISHED ATTIC ALL AGES\n",
    "    45  1-1/2 STORY - UNFINISHED ALL AGES\n",
    "    50  1-1/2 STORY FINISHED ALL AGES\n",
    "    60  2-STORY 1946 & NEWER\n",
    "    70  2-STORY 1945 & OLDER\n",
    "    75  2-1/2 STORY ALL AGES\n",
    "    80  SPLIT OR MULTI-LEVEL\n",
    "    85  SPLIT FOYER\n",
    "    90  DUPLEX - ALL STYLES AND AGES\n",
    "   120  1-STORY PUD (Planned Unit Development) - 1946 & NEWER\n",
    "   150  1-1/2 STORY PUD - ALL AGES\n",
    "   160  2-STORY PUD - 1946 & NEWER\n",
    "   180  PUD - MULTILEVEL - INCL SPLIT LEV/FOYER\n",
    "   190  2 FAMILY CONVERSION - ALL STYLES AND AGES"
   ]
  },
  {
   "cell_type": "markdown",
   "metadata": {},
   "source": [
    "이 클래스들은 수로 나오지만 실제로는 categories이다."
   ]
  },
  {
   "cell_type": "code",
   "execution_count": 134,
   "metadata": {},
   "outputs": [
    {
     "name": "stdout",
     "output_type": "stream",
     "text": [
      " int [1:2919] 60 20 60 70 60 50 20 60 50 190 ...\n"
     ]
    }
   ],
   "source": [
    "str(all$MSSubClass)"
   ]
  },
  {
   "cell_type": "code",
   "execution_count": 135,
   "metadata": {},
   "outputs": [],
   "source": [
    "all$MSSubClass <- as.factor(all$MSSubClass)"
   ]
  },
  {
   "cell_type": "code",
   "execution_count": 136,
   "metadata": {},
   "outputs": [],
   "source": [
    "#revalue for better readability\n",
    "all$MSSubClass<-revalue(all$MSSubClass, c('20'='1 story 1946+', '30'='1 story 1945-', '40'='1 story unf attic', '45'='1,5 story unf', '50'='1,5 story fin', '60'='2 story 1946+', '70'='2 story 1945-', '75'='2,5 story all ages', '80'='split/multi level', '85'='split foyer', '90'='duplex all style/age', '120'='1 story PUD 1946+', '150'='1,5 story PUD all', '160'='2 story PUD 1946+', '180'='PUD multilevel', '190'='2 family conversion'))"
   ]
  },
  {
   "cell_type": "code",
   "execution_count": 137,
   "metadata": {},
   "outputs": [
    {
     "name": "stdout",
     "output_type": "stream",
     "text": [
      " Factor w/ 16 levels \"1 story 1946+\",..: 6 1 6 7 6 5 1 6 5 16 ...\n"
     ]
    }
   ],
   "source": [
    "str(all$MSSubClass)"
   ]
  },
  {
   "cell_type": "markdown",
   "metadata": {},
   "source": [
    "## 6 Visualization of important variables"
   ]
  },
  {
   "cell_type": "markdown",
   "metadata": {},
   "source": [
    "이제 모든 캐릭터 변수들이 categorical factors 또는 label화된 숫자로 변환되었다. 또한, 3개의 numeric 변수들이 factors로 변환되었고 Utilities 변수를 삭제했다. 아래르 보면 알 수 있듯, numerical variables는 현재 56개이며 23개가 categorical 변수이다."
   ]
  },
  {
   "cell_type": "code",
   "execution_count": 138,
   "metadata": {},
   "outputs": [
    {
     "name": "stdout",
     "output_type": "stream",
     "text": [
      "There are 56 numeric varariables, and 23 categoric variables"
     ]
    }
   ],
   "source": [
    "numericVars <- which(sapply(all, is.numeric)) #index vector numeric variables\n",
    "factorVars <- which(sapply(all, is.factor)) #index vector factor variables\n",
    "cat('There are', length(numericVars), 'numeric varariables, and', length(factorVars), 'categoric variables')"
   ]
  },
  {
   "cell_type": "markdown",
   "metadata": {},
   "source": [
    "### 6.1 Correlations again"
   ]
  },
  {
   "cell_type": "markdown",
   "metadata": {},
   "source": [
    "아래에서 상관 관계를 다시 확인해보겠다. SalePrice와 적어도 0.5이상의 상관 관계를 보이는 변수의 개수가 10개(4.2.1)에서 16개로 증가했다."
   ]
  },
  {
   "cell_type": "code",
   "execution_count": 139,
   "metadata": {},
   "outputs": [
    {
     "data": {
      "image/png": "[encoded data removed]",
      "text/plain": [
       "Plot with title \"\""
      ]
     },
     "metadata": {},
     "output_type": "display_data"
    }
   ],
   "source": [
    "all_numVar <- all[, numericVars]\n",
    "cor_numVar <- cor(all_numVar, use=\"pairwise.complete.obs\") #correlations of all numeric variables\n",
    "\n",
    "#sort on decreasing correlations with SalePrice\n",
    "cor_sorted <- as.matrix(sort(cor_numVar[,'SalePrice'], decreasing = TRUE))\n",
    "#select only high corelations\n",
    "CorHigh <- names(which(apply(cor_sorted, 1, function(x) abs(x)>0.5)))\n",
    "cor_numVar <- cor_numVar[CorHigh, CorHigh]\n",
    "                             \n",
    "corrplot.mixed(cor_numVar, tl.col=\"black\", tl.pos = \"lt\", tl.cex = 0.7, cl.cex = .7, number.cex=.7)"
   ]
  },
  {
   "cell_type": "markdown",
   "metadata": {},
   "source": [
    "### 6.2 Finding variable importance with a quick Random Forest"
   ]
  },
  {
   "cell_type": "markdown",
   "metadata": {},
   "source": [
    "앞에서 본 상관 관계를 통해 대략적으로 가장 중요한 numeric 변수와 다중공선성을 알 수 있었지만 이번엔 categorical 변수를 포함해서 가장 중요한 변수가 뭔지 보려고 한다."
   ]
  },
  {
   "cell_type": "markdown",
   "metadata": {},
   "source": [
    "패키지의 calc.relimp function을 사용해서 퀵 선형 회귀 모델로 변수의 상대적 중요성을 얻으려고 했으며 boruta function을 이용하여 중요한 그룹과 아닌 그룹으로 변수를 나누려고 했다. 하지만 이 방법은 시간이 오래 걸렸다. 그렇지만 변수의 중요성 지표를 원했기 때문에 단순하게 유지하기로 결정해서 100개의 트리를 가진 빠르지만 더러운 랜덤 포레스트를 쓰기로 했다. 상대적으로 작은 트리를 규정하면 그렇게 오랜 시간이 걸리지도 않고 잘 작동한다."
   ]
  },
  {
   "cell_type": "code",
   "execution_count": 140,
   "metadata": {},
   "outputs": [
    {
     "data": {},
     "metadata": {},
     "output_type": "display_data"
    },
    {
     "data": {
      "image/png": "[encoded data removed]",
      "text/plain": [
       "plot without title"
      ]
     },
     "metadata": {},
     "output_type": "display_data"
    }
   ],
   "source": [
    "set.seed(2018)\n",
    "quick_RF <- randomForest(x=all[1:1460,-79], y=all$SalePrice[1:1460], ntree=100,importance=TRUE)\n",
    "imp_RF <- importance(quick_RF)\n",
    "imp_DF <- data.frame(Variables = row.names(imp_RF), MSE = imp_RF[,1])\n",
    "imp_DF <- imp_DF[order(imp_DF$MSE, decreasing = TRUE),]\n",
    "\n",
    "ggplot(imp_DF[1:20,], aes(x=reorder(Variables, MSE), y=MSE, fill=MSE)) + geom_bar(stat = 'identity') + labs(x = 'Variables', y= '% increase MSE if variable is randomly permuted') + coord_flip() + theme(legend.position=\"none\")"
   ]
  },
  {
   "cell_type": "markdown",
   "metadata": {},
   "source": [
    "RF에 따르면 가장 중요한 categorical 변수는 Neighborhood, MSSubClass, and GarageType이다.\n",
    "\n",
    "** 커널과 결과가 다른데..???"
   ]
  },
  {
   "cell_type": "markdown",
   "metadata": {},
   "source": [
    "#### 6.2.1 Above Gound Living Area, and other surface related variables (in square feet)"
   ]
  },
  {
   "cell_type": "markdown",
   "metadata": {},
   "source": [
    "처음에 Above Ground Living Area와 SalePrice의 관계를 보여줬는데 지금부터는 분포를 보려고 한다. Top 20에 '평방 피트' 표면 측정 방식이 많았기에 이 섹션에서 묶어보려고 한다. <br>참고: GarageArea는 Garage variables 섹션에서 다뤘다."
   ]
  },
  {
   "cell_type": "markdown",
   "metadata": {},
   "source": [
    "Above Ground Living Area와 높은 상관 관계에 엤는 ‘Total Rooms Above Ground’ (TotRmsAbvGrd) 를 추가했다 (0.81)."
   ]
  },
  {
   "cell_type": "code",
   "execution_count": 141,
   "metadata": {},
   "outputs": [
    {
     "name": "stderr",
     "output_type": "stream",
     "text": [
      "Warning message:\n",
      "\"Ignoring unknown parameters: binwidth, bins, pad\"`stat_bin()` using `bins = 30`. Pick better value with `binwidth`.\n"
     ]
    },
    {
     "data": {
      "image/png": "[encoded data removed]",
      "text/plain": [
       "plot without title"
      ]
     },
     "metadata": {},
     "output_type": "display_data"
    }
   ],
   "source": [
    "s1 <- ggplot(data= all, aes(x=GrLivArea)) +\n",
    "        geom_density() + labs(x='Square feet living area')\n",
    "s2 <- ggplot(data=all, aes(x=as.factor(TotRmsAbvGrd))) +\n",
    "        geom_histogram(stat='count') + labs(x='Rooms above Ground')\n",
    "s3 <- ggplot(data= all, aes(x=X1stFlrSF)) +\n",
    "        geom_density() + labs(x='Square feet first floor')\n",
    "s4 <- ggplot(data= all, aes(x=X2ndFlrSF)) +\n",
    "        geom_density() + labs(x='Square feet second floor')\n",
    "s5 <- ggplot(data= all, aes(x=TotalBsmtSF)) +\n",
    "        geom_density() + labs(x='Square feet basement')\n",
    "s6 <- ggplot(data= all[all$LotArea<100000,], aes(x=LotArea)) +\n",
    "        geom_density() + labs(x='Square feet lot')\n",
    "s7 <- ggplot(data= all, aes(x=LotFrontage)) +\n",
    "        geom_density() + labs(x='Linear feet lot frontage')\n",
    "s8 <- ggplot(data= all, aes(x=LowQualFinSF)) +\n",
    "        geom_histogram() + labs(x='Low quality square feet 1st & 2nd')\n",
    "\n",
    "layout <- matrix(c(1,2,5,3,4,8,6,7),4,2,byrow=TRUE)\n",
    "multiplot(s1, s2, s3, s4, s5, s6, s7, s8, layout=layout)"
   ]
  },
  {
   "cell_type": "markdown",
   "metadata": {},
   "source": [
    "이 변수들의 outliers는 나중에 보도록 하겠다. 시각화를 위해 100,000 평방 피트 이상의 집들은 뺐다. (4채)."
   ]
  },
  {
   "cell_type": "markdown",
   "metadata": {},
   "source": [
    "GrLivArea는 1층과 2층의 평수의 합이다. 그러나 LowQualFinSF: Low quality finished square feet (all floors)라는 변수가 있다는 것을 알았다. 위 그래프를 보면 알 수 있듯이, 거의 모든 집이 LowQualFinSF를 갖고 있지 않다. (40채만이 갖고 있음). 이 말은 GrLivArea 안에 평방 피트가 포함되어있다는 것을 의미한다. 이 3변수와 GrLivArea의 상관 관계는 1이다."
   ]
  },
  {
   "cell_type": "code",
   "execution_count": 142,
   "metadata": {},
   "outputs": [
    {
     "data": {
      "text/html": [
       "1"
      ],
      "text/latex": [
       "1"
      ],
      "text/markdown": [
       "1"
      ],
      "text/plain": [
       "[1] 1"
      ]
     },
     "metadata": {},
     "output_type": "display_data"
    }
   ],
   "source": [
    "cor(all$GrLivArea, (all$X1stFlrSF + all$X2ndFlrSF + all$LowQualFinSF))"
   ]
  },
  {
   "cell_type": "code",
   "execution_count": 143,
   "metadata": {},
   "outputs": [
    {
     "data": {
      "text/html": [
       "<table>\n",
       "<thead><tr><th></th><th scope=col>GrLivArea</th><th scope=col>X1stFlrSF</th><th scope=col>X2ndFlrSF</th><th scope=col>LowQualFinSF</th></tr></thead>\n",
       "<tbody>\n",
       "\t<tr><th scope=row>52</th><td>1176</td><td> 816</td><td>   0</td><td>360 </td></tr>\n",
       "\t<tr><th scope=row>89</th><td>1526</td><td>1013</td><td>   0</td><td>513 </td></tr>\n",
       "\t<tr><th scope=row>126</th><td> 754</td><td> 520</td><td>   0</td><td>234 </td></tr>\n",
       "\t<tr><th scope=row>171</th><td>1382</td><td> 854</td><td>   0</td><td>528 </td></tr>\n",
       "\t<tr><th scope=row>186</th><td>3608</td><td>1518</td><td>1518</td><td>572 </td></tr>\n",
       "\t<tr><th scope=row>188</th><td>1656</td><td> 808</td><td> 704</td><td>144 </td></tr>\n",
       "</tbody>\n",
       "</table>\n"
      ],
      "text/latex": [
       "\\begin{tabular}{r|llll}\n",
       "  & GrLivArea & X1stFlrSF & X2ndFlrSF & LowQualFinSF\\\\\n",
       "\\hline\n",
       "\t52 & 1176 &  816 &    0 & 360 \\\\\n",
       "\t89 & 1526 & 1013 &    0 & 513 \\\\\n",
       "\t126 &  754 &  520 &    0 & 234 \\\\\n",
       "\t171 & 1382 &  854 &    0 & 528 \\\\\n",
       "\t186 & 3608 & 1518 & 1518 & 572 \\\\\n",
       "\t188 & 1656 &  808 &  704 & 144 \\\\\n",
       "\\end{tabular}\n"
      ],
      "text/markdown": [
       "\n",
       "| <!--/--> | GrLivArea | X1stFlrSF | X2ndFlrSF | LowQualFinSF | \n",
       "|---|---|---|---|---|---|\n",
       "| 52 | 1176 |  816 |    0 | 360  | \n",
       "| 89 | 1526 | 1013 |    0 | 513  | \n",
       "| 126 |  754 |  520 |    0 | 234  | \n",
       "| 171 | 1382 |  854 |    0 | 528  | \n",
       "| 186 | 3608 | 1518 | 1518 | 572  | \n",
       "| 188 | 1656 |  808 |  704 | 144  | \n",
       "\n",
       "\n"
      ],
      "text/plain": [
       "    GrLivArea X1stFlrSF X2ndFlrSF LowQualFinSF\n",
       "52  1176       816         0      360         \n",
       "89  1526      1013         0      513         \n",
       "126  754       520         0      234         \n",
       "171 1382       854         0      528         \n",
       "186 3608      1518      1518      572         \n",
       "188 1656       808       704      144         "
      ]
     },
     "metadata": {},
     "output_type": "display_data"
    }
   ],
   "source": [
    "head(all[all$LowQualFinSF>0, c('GrLivArea', 'X1stFlrSF', 'X2ndFlrSF', 'LowQualFinSF')])"
   ]
  },
  {
   "cell_type": "markdown",
   "metadata": {},
   "source": [
    "#### 6.2.2 The most important categorical variable; Neighborhood"
   ]
  },
  {
   "cell_type": "markdown",
   "metadata": {},
   "source": [
    "첫번째 그래프는 Neighorhood에 의한 SalePrice의 평균을 보여준다. train set에서의 각 Neighborhood 당 frequency(number of houses)는 label에서 보여준다.\n",
    "\n",
    "두 번째 그래프는 모든 데이터에서의 frequencies를 보여준다."
   ]
  },
  {
   "cell_type": "code",
   "execution_count": 144,
   "metadata": {},
   "outputs": [
    {
     "name": "stderr",
     "output_type": "stream",
     "text": [
      "Warning message:\n",
      "\"Ignoring unknown parameters: binwidth, bins, pad\""
     ]
    },
    {
     "data": {
      "image/png": "[encoded data removed]",
      "text/plain": [
       "plot without title"
      ]
     },
     "metadata": {},
     "output_type": "display_data"
    }
   ],
   "source": [
    "n1 <- ggplot(all[!is.na(all$SalePrice),], aes(x=Neighborhood, y=SalePrice)) +\n",
    "        geom_bar(stat='summary', fun.y = \"median\", fill='blue') +\n",
    "        theme(axis.text.x = element_text(angle = 45, hjust = 1)) +\n",
    "        scale_y_continuous(breaks= seq(0, 800000, by=50000), labels = comma) +\n",
    "        geom_label(stat = \"count\", aes(label = ..count.., y = ..count..), size=3) +\n",
    "        geom_hline(yintercept=163000, linetype=\"dashed\", color = \"red\") #dashed line is median SalePrice\n",
    "n2 <- ggplot(data=all, aes(x=Neighborhood)) +\n",
    "        geom_histogram(stat='count')+\n",
    "        geom_label(stat = \"count\", aes(label = ..count.., y = ..count..), size=3)+\n",
    "        theme(axis.text.x = element_text(angle = 45, hjust = 1))\n",
    "grid.arrange(n1, n2)"
   ]
  },
  {
   "cell_type": "markdown",
   "metadata": {},
   "source": [
    "#### 6.2.3 Overall Quality, and other Quality variables"
   ]
  },
  {
   "cell_type": "markdown",
   "metadata": {},
   "source": [
    "Overall Quality와 SalePrice의 관계를 시각화했었는데 frequency 분배도 보고 싶었다."
   ]
  },
  {
   "cell_type": "code",
   "execution_count": 145,
   "metadata": {},
   "outputs": [
    {
     "name": "stderr",
     "output_type": "stream",
     "text": [
      "Warning message:\n",
      "\"Ignoring unknown parameters: binwidth, bins, pad\"Warning message:\n",
      "\"Ignoring unknown parameters: binwidth, bins, pad\"Warning message:\n",
      "\"Ignoring unknown parameters: binwidth, bins, pad\"Warning message:\n",
      "\"Ignoring unknown parameters: binwidth, bins, pad\"Warning message:\n",
      "\"Ignoring unknown parameters: binwidth, bins, pad\"Warning message:\n",
      "\"Ignoring unknown parameters: binwidth, bins, pad\"Warning message:\n",
      "\"Ignoring unknown parameters: binwidth, bins, pad\""
     ]
    },
    {
     "data": {
      "image/png": "[encoded data removed]",
      "text/plain": [
       "plot without title"
      ]
     },
     "metadata": {},
     "output_type": "display_data"
    }
   ],
   "source": [
    "q1 <- ggplot(data=all, aes(x=as.factor(OverallQual))) +\n",
    "        geom_histogram(stat='count')\n",
    "q2 <- ggplot(data=all, aes(x=as.factor(ExterQual))) +\n",
    "        geom_histogram(stat='count')\n",
    "q3 <- ggplot(data=all, aes(x=as.factor(BsmtQual))) +\n",
    "        geom_histogram(stat='count')\n",
    "q4 <- ggplot(data=all, aes(x=as.factor(KitchenQual))) +\n",
    "        geom_histogram(stat='count')\n",
    "q5 <- ggplot(data=all, aes(x=as.factor(GarageQual))) +\n",
    "        geom_histogram(stat='count')\n",
    "q6 <- ggplot(data=all, aes(x=as.factor(FireplaceQu))) +\n",
    "        geom_histogram(stat='count')\n",
    "q7 <- ggplot(data=all, aes(x=as.factor(PoolQC))) +\n",
    "        geom_histogram(stat='count')\n",
    "\n",
    "layout <- matrix(c(1,2,8,3,4,8,5,6,7),3,3,byrow=TRUE)\n",
    "multiplot(q1, q2, q3, q4, q5, q6, q7, layout=layout)"
   ]
  },
  {
   "cell_type": "markdown",
   "metadata": {},
   "source": [
    "Overall Quality는 매우 중요하고 다른 변수들보다 더 세분화되어 있다. External Quality도 중요하지만 Overall Quality와 높은 상관 관계를 가진다(0.73). Kitchen Quality도 모든 집이 주방을 갖고 있고 어떤 substance와 편향값이 있어서 봐두면 좋다. GarageQuality는 차이를 별로 보이지 않으며 다수의 garages는 Q3를 갖고 있다. Fireplace Quality는 높은 상관 관계를 가지고 중요한 변수들의 list이다. PoolQC는 매우 희소하다(13개의 pools는 이 사이즈에서 보이지도 않는다). 나중에 'has pool' 변수를 만들어서 봐야겠다."
   ]
  },
  {
   "cell_type": "markdown",
   "metadata": {},
   "source": [
    "#### 6.2.4 The second most important categorical variable; MSSubClass"
   ]
  },
  {
   "cell_type": "markdown",
   "metadata": {},
   "source": [
    "첫 시각화에서 보여주는 건 MSSubClass에 의한 SalePrice이다.\n",
    "히스토그램은 모든 데이터에서의 frequencies를 보여준다. 대부분의 집은 상대적으로 새 집이고 하나 혹은 두 개의 층을 가지고 있다."
   ]
  },
  {
   "cell_type": "code",
   "execution_count": 146,
   "metadata": {},
   "outputs": [
    {
     "name": "stderr",
     "output_type": "stream",
     "text": [
      "Warning message:\n",
      "\"Ignoring unknown parameters: binwidth, bins, pad\""
     ]
    },
    {
     "data": {
      "image/png": "[encoded data removed]",
      "text/plain": [
       "plot without title"
      ]
     },
     "metadata": {},
     "output_type": "display_data"
    }
   ],
   "source": [
    "ms1 <- ggplot(all[!is.na(all$SalePrice),], aes(x=MSSubClass, y=SalePrice)) +\n",
    "        geom_bar(stat='summary', fun.y = \"median\", fill='blue') +\n",
    "        theme(axis.text.x = element_text(angle = 45, hjust = 1)) +\n",
    "        scale_y_continuous(breaks= seq(0, 800000, by=50000), labels = comma) +\n",
    "        geom_label(stat = \"count\", aes(label = ..count.., y = ..count..), size=3) +\n",
    "        geom_hline(yintercept=163000, linetype=\"dashed\", color = \"red\") #dashed line is median SalePrice\n",
    "ms2 <- ggplot(data=all, aes(x=MSSubClass)) +\n",
    "        geom_histogram(stat='count')+\n",
    "        geom_label(stat = \"count\", aes(label = ..count.., y = ..count..), size=3) +\n",
    "        theme(axis.text.x = element_text(angle = 45, hjust = 1))\n",
    "grid.arrange(ms1, ms2)"
   ]
  },
  {
   "cell_type": "markdown",
   "metadata": {},
   "source": [
    "#### 6.2.5 Garage variables"
   ]
  },
  {
   "cell_type": "markdown",
   "metadata": {},
   "source": [
    "몇몇 Garage variables는 SalePrice와 높은 상관 관계에 있고 퀵 랜덤 포레스트 top-20리스트에 있었다. 그러나 다중공선성이 있어 7개의 garage 변수는 너무 많다고 생각한다. 3개 정도면 충분하다고 생각하지만 (아마 GarageCars, GarageType, and a Quality measurement) 그 전에 먼저 시각화를 해보겠다."
   ]
  },
  {
   "cell_type": "code",
   "execution_count": 147,
   "metadata": {},
   "outputs": [],
   "source": [
    "#correct error\n",
    "all$GarageYrBlt[2593] <- 2007 #this must have been a typo. GarageYrBlt=2207, YearBuilt=2006, YearRemodAdd=2007."
   ]
  },
  {
   "cell_type": "code",
   "execution_count": 148,
   "metadata": {},
   "outputs": [
    {
     "name": "stderr",
     "output_type": "stream",
     "text": [
      "Warning message:\n",
      "\"Ignoring unknown parameters: binwidth, bins, pad\"Warning message:\n",
      "\"Ignoring unknown parameters: binwidth, bins, pad\"Warning message:\n",
      "\"Ignoring unknown parameters: binwidth, bins, pad\"Warning message:\n",
      "\"Ignoring unknown parameters: binwidth, bins, pad\"Warning message:\n",
      "\"Ignoring unknown parameters: binwidth, bins, pad\"`stat_bin()` using `bins = 30`. Pick better value with `binwidth`.\n"
     ]
    },
    {
     "data": {
      "image/png": "[encoded data removed]",
      "text/plain": [
       "plot without title"
      ]
     },
     "metadata": {},
     "output_type": "display_data"
    }
   ],
   "source": [
    "g1 <- ggplot(data=all[all$GarageCars !=0,], aes(x=GarageYrBlt)) +\n",
    "        geom_histogram()\n",
    "g2 <- ggplot(data=all, aes(x=as.factor(GarageCars))) +\n",
    "        geom_histogram(stat='count')\n",
    "g3 <- ggplot(data= all, aes(x=GarageArea)) +\n",
    "        geom_density()\n",
    "g4 <- ggplot(data=all, aes(x=as.factor(GarageCond))) +\n",
    "        geom_histogram(stat='count')\n",
    "g5 <- ggplot(data=all, aes(x=GarageType)) +\n",
    "        geom_histogram(stat='count')\n",
    "g6 <- ggplot(data=all, aes(x=as.factor(GarageQual))) +\n",
    "        geom_histogram(stat='count')\n",
    "g7 <- ggplot(data=all, aes(x=as.factor(GarageFinish))) +\n",
    "        geom_histogram(stat='count')\n",
    "\n",
    "layout <- matrix(c(1,5,5,2,3,8,6,4,7),3,3,byrow=TRUE)\n",
    "multiplot(g1, g2, g3, g4, g5, g6, g7, layout=layout)"
   ]
  },
  {
   "cell_type": "markdown",
   "metadata": {},
   "source": [
    "4.2에서도 말했듯이 GarageCars와 GarageArea는 상관 관계가 높다. 또한, GarageQual와 GarageCond도 상관 관계가 높은 듯이 보인다."
   ]
  },
  {
   "cell_type": "markdown",
   "metadata": {},
   "source": [
    "#### 6.2.6 Basement variables"
   ]
  },
  {
   "cell_type": "markdown",
   "metadata": {},
   "source": [
    "garage 변수와 비슷하게, 많은 basement 변수가 상관 관계 매트릭스와 Top 20 RF 예측 리스트에서 중요했다. 그러나 11개의 basement 변수는 너무 많다고 생각한다. basement 변수를 가지고 뭐할지 결정하기 전에 아래에 8개를 시각화해보겠다. 그 중 \"Bathroom\" 변수는 Feature Engineering (section 7.1)에서 다루고 \"Basement square feet\"은 이미 6.2.1에서 다뤘다."
   ]
  },
  {
   "cell_type": "code",
   "execution_count": 149,
   "metadata": {},
   "outputs": [
    {
     "name": "stderr",
     "output_type": "stream",
     "text": [
      "Warning message:\n",
      "\"Ignoring unknown parameters: binwidth, bins, pad\"Warning message:\n",
      "\"Ignoring unknown parameters: binwidth, bins, pad\"Warning message:\n",
      "\"Ignoring unknown parameters: binwidth, bins, pad\"Warning message:\n",
      "\"Ignoring unknown parameters: binwidth, bins, pad\"Warning message:\n",
      "\"Ignoring unknown parameters: binwidth, bins, pad\"`stat_bin()` using `bins = 30`. Pick better value with `binwidth`.\n",
      "`stat_bin()` using `bins = 30`. Pick better value with `binwidth`.\n",
      "`stat_bin()` using `bins = 30`. Pick better value with `binwidth`.\n"
     ]
    },
    {
     "data": {
      "image/png": "[encoded data removed]",
      "text/plain": [
       "plot without title"
      ]
     },
     "metadata": {},
     "output_type": "display_data"
    }
   ],
   "source": [
    "b1 <- ggplot(data=all, aes(x=BsmtFinSF1)) +\n",
    "        geom_histogram() + labs(x='Type 1 finished square feet')\n",
    "b2 <- ggplot(data=all, aes(x=BsmtFinSF2)) +\n",
    "        geom_histogram()+ labs(x='Type 2 finished square feet')\n",
    "b3 <- ggplot(data=all, aes(x=BsmtUnfSF)) +\n",
    "        geom_histogram()+ labs(x='Unfinished square feet')\n",
    "b4 <- ggplot(data=all, aes(x=as.factor(BsmtFinType1))) +\n",
    "        geom_histogram(stat='count')+ labs(x='Rating of Type 1 finished area')\n",
    "b5 <- ggplot(data=all, aes(x=as.factor(BsmtFinType2))) +\n",
    "        geom_histogram(stat='count')+ labs(x='Rating of Type 2 finished area')\n",
    "b6 <- ggplot(data=all, aes(x=as.factor(BsmtQual))) +\n",
    "        geom_histogram(stat='count')+ labs(x='Height of the basement')\n",
    "b7 <- ggplot(data=all, aes(x=as.factor(BsmtCond))) +\n",
    "        geom_histogram(stat='count')+ labs(x='Rating of general condition')\n",
    "b8 <- ggplot(data=all, aes(x=as.factor(BsmtExposure))) +\n",
    "        geom_histogram(stat='count')+ labs(x='Walkout or garden level walls')\n",
    "\n",
    "layout <- matrix(c(1,2,3,4,5,9,6,7,8),3,3,byrow=TRUE)\n",
    "multiplot(b1, b2, b3, b4, b5, b6, b7, b8, layout=layout)"
   ]
  },
  {
   "cell_type": "markdown",
   "metadata": {},
   "source": [
    "TotalBsmtSF는 finished area와 unfinished area로 나뉘었따. 이 3변수와 TotalBsmtSF 사이의 상관 관계를 체크했다. 상관 관계는 정확히 1이었다.\n",
    "\n",
    "Basement Quality는 지하실의 길이를 측정하는 거라고 밝혀졌기 때문에 변수 이름이 조금 이상한 것 같다."
   ]
  },
  {
   "cell_type": "markdown",
   "metadata": {},
   "source": [
    "## Feature engineering"
   ]
  },
  {
   "cell_type": "markdown",
   "metadata": {},
   "source": [
    "### 7.1 Total number of Bathrooms"
   ]
  },
  {
   "cell_type": "markdown",
   "metadata": {},
   "source": [
    "4개의 bathroom 변수가 있다. 개인적으로 이 변수들은 중요하지 않다고 생각한다. 그러나 이 변수들을 예측 변수에 추가한다면 강해질 거라고 가정했다.\n",
    "\n",
    "\"파우더 룸 또는 게스트 욕조가 있는 걸로 알려져 있는 A half-bath는 화장실 구성 요소(변기와 세면대) 중 두 가지만 포함하고 있다. 따라서 half bathrooms도 half로 세겠다."
   ]
  },
  {
   "cell_type": "code",
   "execution_count": 150,
   "metadata": {},
   "outputs": [],
   "source": [
    "all$TotBathrooms <- all$FullBath + (all$HalfBath*0.5) + all$BsmtFullBath + (all$BsmtHalfBath*0.5)"
   ]
  },
  {
   "cell_type": "markdown",
   "metadata": {},
   "source": [
    "첫 번째 그래프를 보면 명확한 상관 관계를 보여주고 있다(0.63). 모든 데이터에서의 Bathrooms의 frequency 분배는 두 번째 그래프에 나와있다."
   ]
  },
  {
   "cell_type": "code",
   "execution_count": 151,
   "metadata": {},
   "outputs": [
    {
     "name": "stderr",
     "output_type": "stream",
     "text": [
      "Warning message:\n",
      "\"Ignoring unknown parameters: binwidth, bins, pad\""
     ]
    },
    {
     "data": {
      "image/png": "[encoded data removed]",
      "text/plain": [
       "plot without title"
      ]
     },
     "metadata": {},
     "output_type": "display_data"
    }
   ],
   "source": [
    "tb1 <- ggplot(data=all[!is.na(all$SalePrice),], aes(x=as.factor(TotBathrooms), y=SalePrice))+\n",
    "        geom_point(col='blue') + geom_smooth(method = \"lm\", se=FALSE, color=\"black\", aes(group=1)) +\n",
    "        scale_y_continuous(breaks= seq(0, 800000, by=100000), labels = comma)\n",
    "tb2 <- ggplot(data=all, aes(x=as.factor(TotBathrooms))) +\n",
    "        geom_histogram(stat='count')\n",
    "grid.arrange(tb1, tb2)"
   ]
  },
  {
   "cell_type": "markdown",
   "metadata": {},
   "source": [
    "### 7.2 Adding ‘House Age’, ‘Remodeled (Yes/No)’, and IsNew variables"
   ]
  },
  {
   "cell_type": "markdown",
   "metadata": {},
   "source": [
    "집의 연식에 관련된 변수는 3가지가 있다: YearBlt, YearRemodAdd, and YearSold. YearRemodAdds는 리모델링을 하지 않았으면 YearBuilt의 디폴트 값이다. Age를 결정하기 위해 YearRemodeled과 YearSold를 이용할 것이다. 하지만 오래된 건축물의 일부분은 남아있으며 리모델링을 해도 남아 있는 부부분이 있기 때문에 리모델링 Yes/No 변수도 제시하려고 한다. Age가 리모델링된 날을 기반으로 한다면 같은 년도에 지어진 집보다 가치가 낮다고 볼 수 있기에 penalty parameter로 봐야할 것이다."
   ]
  },
  {
   "cell_type": "code",
   "execution_count": 152,
   "metadata": {},
   "outputs": [],
   "source": [
    "all$Remod <- ifelse(all$YearBuilt==all$YearRemodAdd, 0, 1) #0=No Remodeling, 1=Remodeling\n",
    "all$Age <- as.numeric(all$YrSold)-all$YearRemodAdd"
   ]
  },
  {
   "cell_type": "code",
   "execution_count": 153,
   "metadata": {},
   "outputs": [
    {
     "data": {},
     "metadata": {},
     "output_type": "display_data"
    },
    {
     "data": {
      "image/png": "[encoded data removed]",
      "text/plain": [
       "plot without title"
      ]
     },
     "metadata": {},
     "output_type": "display_data"
    }
   ],
   "source": [
    "ggplot(data=all[!is.na(all$SalePrice),], aes(x=Age, y=SalePrice))+\n",
    "        geom_point(col='blue') + geom_smooth(method = \"lm\", se=FALSE, color=\"black\", aes(group=1)) +\n",
    "        scale_y_continuous(breaks= seq(0, 800000, by=100000), labels = comma)"
   ]
  },
  {
   "cell_type": "markdown",
   "metadata": {},
   "source": [
    "예측한 대로 그래프는 Age와 negative하다. (오래된 집은 가치가 낮음)"
   ]
  },
  {
   "cell_type": "code",
   "execution_count": 154,
   "metadata": {},
   "outputs": [
    {
     "data": {
      "text/html": [
       "-0.509078738015629"
      ],
      "text/latex": [
       "-0.509078738015629"
      ],
      "text/markdown": [
       "-0.509078738015629"
      ],
      "text/plain": [
       "[1] -0.5090787"
      ]
     },
     "metadata": {},
     "output_type": "display_data"
    }
   ],
   "source": [
    "cor(all$SalePrice[!is.na(all$SalePrice)], all$Age[!is.na(all$SalePrice)])"
   ]
  },
  {
   "cell_type": "markdown",
   "metadata": {},
   "source": [
    "또한 아래를 보면 예상한 대로 리모델링된 집도 가치가 낮다."
   ]
  },
  {
   "cell_type": "code",
   "execution_count": 155,
   "metadata": {},
   "outputs": [
    {
     "data": {},
     "metadata": {},
     "output_type": "display_data"
    },
    {
     "data": {
      "image/png": "[encoded data removed]",
      "text/plain": [
       "plot without title"
      ]
     },
     "metadata": {},
     "output_type": "display_data"
    }
   ],
   "source": [
    "ggplot(all[!is.na(all$SalePrice),], aes(x=as.factor(Remod), y=SalePrice)) +\n",
    "        geom_bar(stat='summary', fun.y = \"median\", fill='blue') +\n",
    "        geom_label(stat = \"count\", aes(label = ..count.., y = ..count..), size=6) +\n",
    "        scale_y_continuous(breaks= seq(0, 800000, by=50000), labels = comma) +\n",
    "        theme_grey(base_size = 18) +\n",
    "        geom_hline(yintercept=163000, linetype=\"dashed\") #dashed line is median SalePrice"
   ]
  },
  {
   "cell_type": "markdown",
   "metadata": {},
   "source": [
    "마지막으로 IsNew 변수를 만들었다. 종합해보면 dataset에는 116채의 새 집이 있다."
   ]
  },
  {
   "cell_type": "code",
   "execution_count": 156,
   "metadata": {},
   "outputs": [
    {
     "data": {
      "text/plain": [
       "\n",
       "   0    1 \n",
       "2803  116 "
      ]
     },
     "metadata": {},
     "output_type": "display_data"
    }
   ],
   "source": [
    "all$IsNew <- ifelse(all$YrSold==all$YearBuilt, 1, 0)\n",
    "table(all$IsNew)"
   ]
  },
  {
   "cell_type": "markdown",
   "metadata": {},
   "source": [
    "이 116채의 집은 train과 data set에 균등하게 분포되어 있기 때문에 새 집은 평균보다 상당히 가치가 있다."
   ]
  },
  {
   "cell_type": "code",
   "execution_count": 157,
   "metadata": {},
   "outputs": [
    {
     "data": {},
     "metadata": {},
     "output_type": "display_data"
    },
    {
     "data": {
      "image/png": "[encoded data removed]",
      "text/plain": [
       "plot without title"
      ]
     },
     "metadata": {},
     "output_type": "display_data"
    }
   ],
   "source": [
    "ggplot(all[!is.na(all$SalePrice),], aes(x=as.factor(IsNew), y=SalePrice)) +\n",
    "        geom_bar(stat='summary', fun.y = \"median\", fill='blue') +\n",
    "        geom_label(stat = \"count\", aes(label = ..count.., y = ..count..), size=6) +\n",
    "        scale_y_continuous(breaks= seq(0, 800000, by=50000), labels = comma) +\n",
    "        theme_grey(base_size = 18) +\n",
    "        geom_hline(yintercept=163000, linetype=\"dashed\") #dashed line is median SalePrice"
   ]
  },
  {
   "cell_type": "code",
   "execution_count": 158,
   "metadata": {},
   "outputs": [],
   "source": [
    "all$YrSold <- as.factor(all$YrSold) #the numeric version is now not needed anymore"
   ]
  },
  {
   "cell_type": "markdown",
   "metadata": {},
   "source": [
    "### 7.3 Binning Neighborhood"
   ]
  },
  {
   "cell_type": "code",
   "execution_count": 159,
   "metadata": {},
   "outputs": [
    {
     "data": {
      "image/png": "[encoded data removed]",
      "text/plain": [
       "plot without title"
      ]
     },
     "metadata": {},
     "output_type": "display_data"
    }
   ],
   "source": [
    "nb1 <- ggplot(all[!is.na(all$SalePrice),], aes(x=reorder(Neighborhood, SalePrice, FUN=median), y=SalePrice)) +\n",
    "        geom_bar(stat='summary', fun.y = \"median\", fill='blue') + labs(x='Neighborhood', y='Median SalePrice') +\n",
    "        theme(axis.text.x = element_text(angle = 45, hjust = 1)) +\n",
    "        scale_y_continuous(breaks= seq(0, 800000, by=50000), labels = comma) +\n",
    "        geom_label(stat = \"count\", aes(label = ..count.., y = ..count..), size=3) +\n",
    "        geom_hline(yintercept=163000, linetype=\"dashed\", color = \"red\") #dashed line is median SalePrice\n",
    "nb2 <- ggplot(all[!is.na(all$SalePrice),], aes(x=reorder(Neighborhood, SalePrice, FUN=mean), y=SalePrice)) +\n",
    "        geom_bar(stat='summary', fun.y = \"mean\", fill='blue') + labs(x='Neighborhood', y=\"Mean SalePrice\") +\n",
    "        theme(axis.text.x = element_text(angle = 45, hjust = 1)) +\n",
    "        scale_y_continuous(breaks= seq(0, 800000, by=50000), labels = comma) +\n",
    "        geom_label(stat = \"count\", aes(label = ..count.., y = ..count..), size=3) +\n",
    "        geom_hline(yintercept=163000, linetype=\"dashed\", color = \"red\") #dashed line is median SalePrice\n",
    "grid.arrange(nb1, nb2)"
   ]
  },
  {
   "cell_type": "markdown",
   "metadata": {},
   "source": [
    "Saleprices의 평균과 중앙값 그래프는 3 neighborhoods가 상당히 높은 saleprices라는 것을 보여준다. 상대적으로 가난한 세 neighborhoods는 명확한 차이는 안 나지만 적어도 두 그래프 다 셋이 가난하다는 것을 보여준다. 'overbin'은 원하지 않아서 'extremes'으로 카테고리를 만들었다."
   ]
  },
  {
   "cell_type": "code",
   "execution_count": 160,
   "metadata": {},
   "outputs": [],
   "source": [
    "all$NeighRich[all$Neighborhood %in% c('StoneBr', 'NridgHt', 'NoRidge')] <- 2\n",
    "all$NeighRich[!all$Neighborhood %in% c('MeadowV', 'IDOTRR', 'BrDale', 'StoneBr', 'NridgHt', 'NoRidge')] <- 1\n",
    "all$NeighRich[all$Neighborhood %in% c('MeadowV', 'IDOTRR', 'BrDale')] <- 0"
   ]
  },
  {
   "cell_type": "code",
   "execution_count": 161,
   "metadata": {},
   "outputs": [
    {
     "data": {
      "text/plain": [
       "\n",
       "   0    1    2 \n",
       " 160 2471  288 "
      ]
     },
     "metadata": {},
     "output_type": "display_data"
    }
   ],
   "source": [
    "table(all$NeighRich)"
   ]
  },
  {
   "cell_type": "markdown",
   "metadata": {},
   "source": [
    "### 7.4 Total Square Feet"
   ]
  },
  {
   "cell_type": "markdown",
   "metadata": {},
   "source": [
    "living place는 일반적으로 집을 살 때 중요한 요소이기 때문에 예측 변수로 추가했다."
   ]
  },
  {
   "cell_type": "code",
   "execution_count": 162,
   "metadata": {},
   "outputs": [],
   "source": [
    "all$TotalSqFeet <- all$GrLivArea + all$TotalBsmtSF"
   ]
  },
  {
   "cell_type": "code",
   "execution_count": 163,
   "metadata": {},
   "outputs": [
    {
     "data": {},
     "metadata": {},
     "output_type": "display_data"
    },
    {
     "data": {
      "image/png": "[encoded data removed]",
      "text/plain": [
       "plot without title"
      ]
     },
     "metadata": {},
     "output_type": "display_data"
    }
   ],
   "source": [
    "ggplot(data=all[!is.na(all$SalePrice),], aes(x=TotalSqFeet, y=SalePrice))+\n",
    "        geom_point(col='blue') + geom_smooth(method = \"lm\", se=FALSE, color=\"black\", aes(group=1)) +\n",
    "        scale_y_continuous(breaks= seq(0, 800000, by=100000), labels = comma) +\n",
    "        geom_text_repel(aes(label = ifelse(all$GrLivArea[!is.na(all$SalePrice)]>4500, rownames(all), '')))"
   ]
  },
  {
   "cell_type": "markdown",
   "metadata": {},
   "source": [
    "예측한 대로 SalePrice와의 상관 관계는 크다 (0.78)."
   ]
  },
  {
   "cell_type": "code",
   "execution_count": 164,
   "metadata": {},
   "outputs": [
    {
     "data": {
      "text/html": [
       "0.778958828994226"
      ],
      "text/latex": [
       "0.778958828994226"
      ],
      "text/markdown": [
       "0.778958828994226"
      ],
      "text/plain": [
       "[1] 0.7789588"
      ]
     },
     "metadata": {},
     "output_type": "display_data"
    }
   ],
   "source": [
    "cor(all$SalePrice, all$TotalSqFeet, use= \"pairwise.complete.obs\")"
   ]
  },
  {
   "cell_type": "markdown",
   "metadata": {},
   "source": [
    "두 outliers는 전보다 더 벗어나있다. 저 두 outliers를 빼면 상관 관계가 5% 오른다."
   ]
  },
  {
   "cell_type": "code",
   "execution_count": 165,
   "metadata": {},
   "outputs": [
    {
     "data": {
      "text/html": [
       "0.829041978106551"
      ],
      "text/latex": [
       "0.829041978106551"
      ],
      "text/markdown": [
       "0.829041978106551"
      ],
      "text/plain": [
       "[1] 0.829042"
      ]
     },
     "metadata": {},
     "output_type": "display_data"
    }
   ],
   "source": [
    "cor(all$SalePrice[-c(524, 1299)], all$TotalSqFeet[-c(524, 1299)], use= \"pairwise.complete.obs\")"
   ]
  },
  {
   "cell_type": "markdown",
   "metadata": {},
   "source": [
    "### 7.5 Consolidating Porch variables"
   ]
  },
  {
   "cell_type": "markdown",
   "metadata": {},
   "source": [
    "porch와 관련된 변수들을 나열해보았다.\n",
    "- WoodDeckSF: Wood deck area in square feet\n",
    "- OpenPorchSF: Open porch area in square feet\n",
    "- EnclosedPorch: Enclosed porch area in square feet\n",
    "- 3SsnPorch: Three season porch area in square feet\n",
    "- ScreenPorch: Screen porch area in square feet\n",
    "\n",
    "내가 아는 바로는 porch는 비바람이 들이치지 않는 집 밖의 장소를 말하는 걸로 알고 있기에 wooden deck은 그렇지 않아서 WoodDeckSF만 남겨 놓고 4개의 porch 변수만 연결하기로 했다."
   ]
  },
  {
   "cell_type": "code",
   "execution_count": 166,
   "metadata": {},
   "outputs": [],
   "source": [
    "all$TotalPorchSF <- all$OpenPorchSF + all$EnclosedPorch + all$X3SsnPorch + all$ScreenPorch"
   ]
  },
  {
   "cell_type": "markdown",
   "metadata": {},
   "source": [
    "비록 Porch area를 다 합쳤지만 SalePrice와의 상관 관계는 강하지 않다."
   ]
  },
  {
   "cell_type": "code",
   "execution_count": 167,
   "metadata": {},
   "outputs": [
    {
     "data": {
      "text/html": [
       "0.195738940783835"
      ],
      "text/latex": [
       "0.195738940783835"
      ],
      "text/markdown": [
       "0.195738940783835"
      ],
      "text/plain": [
       "[1] 0.1957389"
      ]
     },
     "metadata": {},
     "output_type": "display_data"
    }
   ],
   "source": [
    "cor(all$SalePrice, all$TotalPorchSF, use= \"pairwise.complete.obs\")"
   ]
  },
  {
   "cell_type": "code",
   "execution_count": 168,
   "metadata": {},
   "outputs": [
    {
     "data": {},
     "metadata": {},
     "output_type": "display_data"
    },
    {
     "data": {
      "image/png": "[encoded data removed]",
      "text/plain": [
       "plot without title"
      ]
     },
     "metadata": {},
     "output_type": "display_data"
    }
   ],
   "source": [
    "ggplot(data=all[!is.na(all$SalePrice),], aes(x=TotalPorchSF, y=SalePrice))+\n",
    "        geom_point(col='blue') + geom_smooth(method = \"lm\", se=FALSE, color=\"black\", aes(group=1)) +\n",
    "        scale_y_continuous(breaks= seq(0, 800000, by=100000), labels = comma)"
   ]
  },
  {
   "cell_type": "markdown",
   "metadata": {},
   "source": [
    "## Preparing data for modeling"
   ]
  },
  {
   "cell_type": "markdown",
   "metadata": {},
   "source": [
    "### 8.1 Dropping highly correlated variables"
   ]
  },
  {
   "cell_type": "markdown",
   "metadata": {},
   "source": [
    "두 가지가 변수가 매우 높은 상관 관계에 있으면 빼려고 한다. 상관 관계 짝을 찾기 위해 6.1에서 사용했던 상관 관계 매트릭스를 사용했다. 예를 들면  GarageCars와 GarageArea는 0.89의 상관 관계였다. 둘 중에서 SalePrice와 낮은 상관 관계에 있던 변수를 뺐다. (GarageArea-0.62, GarageCars-0.64)"
   ]
  },
  {
   "cell_type": "code",
   "execution_count": 169,
   "metadata": {},
   "outputs": [],
   "source": [
    "dropVars <- c('YearRemodAdd', 'GarageYrBlt', 'GarageArea', 'GarageCond', 'TotalBsmtSF', 'TotalRmsAbvGrd', 'BsmtFinSF1')\n",
    "\n",
    "all <- all[,!(names(all) %in% dropVars)]"
   ]
  },
  {
   "cell_type": "markdown",
   "metadata": {},
   "source": [
    "### 8.2 Removing outliers"
   ]
  },
  {
   "cell_type": "markdown",
   "metadata": {},
   "source": [
    "시간 측면에서 간단하게 유지하고 싶기에 SalePrice가 낮은 두 채의 큰 집을 빼도록 하겠다. 이것에 대해서는 나중에 outliers package를 이용해 더 조사하도록 하겠다."
   ]
  },
  {
   "cell_type": "code",
   "execution_count": 170,
   "metadata": {},
   "outputs": [],
   "source": [
    "all <- all[-c(524, 1299),]"
   ]
  },
  {
   "cell_type": "markdown",
   "metadata": {},
   "source": [
    "### 8.3 PreProcessing predictor variables"
   ]
  },
  {
   "cell_type": "markdown",
   "metadata": {},
   "source": [
    "모델링 하기 전에 'true numeric' 예측 변수를 조정하고 확장해야 한다(표에 있는 변수는 제외). 또한, categorical 예측 변수에 더미 변수를 만들어야 한다. 아래에서 dataframe을 numeric 변수와 ordinal factors로 나눴다."
   ]
  },
  {
   "cell_type": "code",
   "execution_count": 171,
   "metadata": {},
   "outputs": [
    {
     "name": "stdout",
     "output_type": "stream",
     "text": [
      "There are 30 numeric variables, and 49 factor variables"
     ]
    }
   ],
   "source": [
    "numericVarNames <- numericVarNames[!(numericVarNames %in% c('MSSubClass', 'MoSold', 'YrSold', 'SalePrice', 'OverallQual', 'OverallCond'))] #numericVarNames was created before having done anything\n",
    "numericVarNames <- append(numericVarNames, c('Age', 'TotalPorchSF', 'TotBathrooms', 'TotalSqFeet'))\n",
    "\n",
    "DFnumeric <- all[, names(all) %in% numericVarNames]\n",
    "\n",
    "DFfactors <- all[, !(names(all) %in% numericVarNames)]\n",
    "DFfactors <- DFfactors[, names(DFfactors) != 'SalePrice']\n",
    "\n",
    "cat('There are', length(DFnumeric), 'numeric variables, and', length(DFfactors), 'factor variables')"
   ]
  },
  {
   "cell_type": "markdown",
   "metadata": {},
   "source": [
    "#### 8.3.1 Skewness and normalizing of the numeric predictors"
   ]
  },
  {
   "cell_type": "markdown",
   "metadata": {},
   "source": [
    "Skewness는 분포에서 대칭을 측정하는 것을 말한다. 대칭성이 있는 dataset은 skewness가 0와 동등하다. 따라서 정규 분포에선 skewness가 0이다. Skewness는 두 tail의 상대적인 사이즈를 측정한다. 경험상 skewness는 -1에서 1사이이다. 이 범위이면 data가 대칭하다고 판단된다. skewness를 조정하기 위해 skew가 0.8이 넘는 모든 numeric 예측 변수에 log를 취할 것이다. (사실상 zero issues를 피하기 위해 log+1)"
   ]
  },
  {
   "cell_type": "code",
   "execution_count": 172,
   "metadata": {},
   "outputs": [],
   "source": [
    "for(i in 1:ncol(DFnumeric)){\n",
    "        if (abs(skew(DFnumeric[,i]))>0.8){\n",
    "                DFnumeric[,i] <- log(DFnumeric[,i] +1)\n",
    "        }\n",
    "}"
   ]
  },
  {
   "cell_type": "markdown",
   "metadata": {},
   "source": [
    "**Normalizing the data**"
   ]
  },
  {
   "cell_type": "code",
   "execution_count": 173,
   "metadata": {},
   "outputs": [
    {
     "name": "stdout",
     "output_type": "stream",
     "text": [
      "Created from 2917 samples and 30 variables\n",
      "\n",
      "Pre-processing:\n",
      "  - centered (30)\n",
      "  - ignored (0)\n",
      "  - scaled (30)\n",
      "\n"
     ]
    }
   ],
   "source": [
    "PreNum <- preProcess(DFnumeric, method=c(\"center\", \"scale\"))\n",
    "print(PreNum)"
   ]
  },
  {
   "cell_type": "code",
   "execution_count": 174,
   "metadata": {},
   "outputs": [
    {
     "data": {
      "text/html": [
       "<ol class=list-inline>\n",
       "\t<li>2917</li>\n",
       "\t<li>30</li>\n",
       "</ol>\n"
      ],
      "text/latex": [
       "\\begin{enumerate*}\n",
       "\\item 2917\n",
       "\\item 30\n",
       "\\end{enumerate*}\n"
      ],
      "text/markdown": [
       "1. 2917\n",
       "2. 30\n",
       "\n",
       "\n"
      ],
      "text/plain": [
       "[1] 2917   30"
      ]
     },
     "metadata": {},
     "output_type": "display_data"
    }
   ],
   "source": [
    "DFnorm <- predict(PreNum, DFnumeric)\n",
    "dim(DFnorm)"
   ]
  },
  {
   "cell_type": "markdown",
   "metadata": {},
   "source": [
    "#### 8.3.2 One hot encoding the categorical variables"
   ]
  },
  {
   "cell_type": "markdown",
   "metadata": {},
   "source": [
    "모든 예측 변수가 numeric columns (머신 러닝 알고리즘에서 요구되는)으로 변환하기 위한 마지막 스텝은 categorical 변수를 one-hot 인코딩하는 것이다. 일반적으로 ordinal이 아닌 모든 factor 값은 1과 0의 분리된 colums를 갖는다는 것을 의미한다. (1은 Yes/Present를 의미함) one-hot 인코딩을 하기 위해 model.matrix() function을 쓰겠다."
   ]
  },
  {
   "cell_type": "code",
   "execution_count": 175,
   "metadata": {},
   "outputs": [
    {
     "data": {
      "text/html": [
       "<ol class=list-inline>\n",
       "\t<li>2917</li>\n",
       "\t<li>201</li>\n",
       "</ol>\n"
      ],
      "text/latex": [
       "\\begin{enumerate*}\n",
       "\\item 2917\n",
       "\\item 201\n",
       "\\end{enumerate*}\n"
      ],
      "text/markdown": [
       "1. 2917\n",
       "2. 201\n",
       "\n",
       "\n"
      ],
      "text/plain": [
       "[1] 2917  201"
      ]
     },
     "metadata": {},
     "output_type": "display_data"
    }
   ],
   "source": [
    "DFdummies <- as.data.frame(model.matrix(~.-1, DFfactors))\n",
    "dim(DFdummies)"
   ]
  },
  {
   "cell_type": "markdown",
   "metadata": {},
   "source": [
    "#### 8.3.3 Removing levels with few or no observations in train or test"
   ]
  },
  {
   "cell_type": "markdown",
   "metadata": {},
   "source": [
    "이전 버전에서 Caret의 Near Zero Variance function을 사용했었다. 작동하긴 했었지만 일시적이었으며 너무 많은 정보가 손실됐다. 예를 들면 디폴트 값을 사용함으로써 146채의 집보다 적은 모든 Neighborhoods는 one-hot 인코딩된 변수로 생략됐다. 따라서 이번엔 조금 더 수동적인 접근을 했다."
   ]
  },
  {
   "cell_type": "code",
   "execution_count": 176,
   "metadata": {},
   "outputs": [
    {
     "data": {
      "text/html": [
       "<ol class=list-inline>\n",
       "\t<li>'Condition2RRAe'</li>\n",
       "\t<li>'Condition2RRAn'</li>\n",
       "\t<li>'Condition2RRNn'</li>\n",
       "\t<li>'HouseStyle2.5Fin'</li>\n",
       "\t<li>'RoofMatlMembran'</li>\n",
       "\t<li>'RoofMatlMetal'</li>\n",
       "\t<li>'RoofMatlRoll'</li>\n",
       "\t<li>'Exterior1stImStucc'</li>\n",
       "\t<li>'Exterior1stStone'</li>\n",
       "\t<li>'Exterior2ndOther'</li>\n",
       "\t<li>'HeatingOthW'</li>\n",
       "\t<li>'ElectricalMix'</li>\n",
       "\t<li>'MiscFeatureTenC'</li>\n",
       "</ol>\n"
      ],
      "text/latex": [
       "\\begin{enumerate*}\n",
       "\\item 'Condition2RRAe'\n",
       "\\item 'Condition2RRAn'\n",
       "\\item 'Condition2RRNn'\n",
       "\\item 'HouseStyle2.5Fin'\n",
       "\\item 'RoofMatlMembran'\n",
       "\\item 'RoofMatlMetal'\n",
       "\\item 'RoofMatlRoll'\n",
       "\\item 'Exterior1stImStucc'\n",
       "\\item 'Exterior1stStone'\n",
       "\\item 'Exterior2ndOther'\n",
       "\\item 'HeatingOthW'\n",
       "\\item 'ElectricalMix'\n",
       "\\item 'MiscFeatureTenC'\n",
       "\\end{enumerate*}\n"
      ],
      "text/markdown": [
       "1. 'Condition2RRAe'\n",
       "2. 'Condition2RRAn'\n",
       "3. 'Condition2RRNn'\n",
       "4. 'HouseStyle2.5Fin'\n",
       "5. 'RoofMatlMembran'\n",
       "6. 'RoofMatlMetal'\n",
       "7. 'RoofMatlRoll'\n",
       "8. 'Exterior1stImStucc'\n",
       "9. 'Exterior1stStone'\n",
       "10. 'Exterior2ndOther'\n",
       "11. 'HeatingOthW'\n",
       "12. 'ElectricalMix'\n",
       "13. 'MiscFeatureTenC'\n",
       "\n",
       "\n"
      ],
      "text/plain": [
       " [1] \"Condition2RRAe\"     \"Condition2RRAn\"     \"Condition2RRNn\"    \n",
       " [4] \"HouseStyle2.5Fin\"   \"RoofMatlMembran\"    \"RoofMatlMetal\"     \n",
       " [7] \"RoofMatlRoll\"       \"Exterior1stImStucc\" \"Exterior1stStone\"  \n",
       "[10] \"Exterior2ndOther\"   \"HeatingOthW\"        \"ElectricalMix\"     \n",
       "[13] \"MiscFeatureTenC\"   "
      ]
     },
     "metadata": {},
     "output_type": "display_data"
    }
   ],
   "source": [
    "#check if some values are absent in the test set\n",
    "ZerocolTest <- which(colSums(DFdummies[(nrow(all[!is.na(all$SalePrice),])+1):nrow(all),])==0)\n",
    "colnames(DFdummies[ZerocolTest])"
   ]
  },
  {
   "cell_type": "code",
   "execution_count": 177,
   "metadata": {},
   "outputs": [],
   "source": [
    "DFdummies <- DFdummies[,-ZerocolTest] #removing predictors"
   ]
  },
  {
   "cell_type": "code",
   "execution_count": 178,
   "metadata": {},
   "outputs": [
    {
     "data": {
      "text/html": [
       "'MSSubClass1,5 story PUD all'"
      ],
      "text/latex": [
       "'MSSubClass1,5 story PUD all'"
      ],
      "text/markdown": [
       "'MSSubClass1,5 story PUD all'"
      ],
      "text/plain": [
       "[1] \"MSSubClass1,5 story PUD all\""
      ]
     },
     "metadata": {},
     "output_type": "display_data"
    }
   ],
   "source": [
    "#check if some values are absent in the train set\n",
    "ZerocolTrain <- which(colSums(DFdummies[1:nrow(all[!is.na(all$SalePrice),]),])==0)\n",
    "colnames(DFdummies[ZerocolTrain])"
   ]
  },
  {
   "cell_type": "code",
   "execution_count": 179,
   "metadata": {},
   "outputs": [],
   "source": [
    "DFdummies <- DFdummies[,-ZerocolTrain] #removing predictor"
   ]
  },
  {
   "cell_type": "markdown",
   "metadata": {},
   "source": [
    "train set에서 10미만의 변수를 제거.<br>\n",
    "**왜?"
   ]
  },
  {
   "cell_type": "code",
   "execution_count": 180,
   "metadata": {},
   "outputs": [
    {
     "data": {
      "text/html": [
       "<ol class=list-inline>\n",
       "\t<li>'MSSubClass1 story unf attic'</li>\n",
       "\t<li>'LotConfigFR3'</li>\n",
       "\t<li>'NeighborhoodBlueste'</li>\n",
       "\t<li>'NeighborhoodNPkVill'</li>\n",
       "\t<li>'Condition1PosA'</li>\n",
       "\t<li>'Condition1RRNe'</li>\n",
       "\t<li>'Condition1RRNn'</li>\n",
       "\t<li>'Condition2Feedr'</li>\n",
       "\t<li>'Condition2PosA'</li>\n",
       "\t<li>'Condition2PosN'</li>\n",
       "\t<li>'RoofStyleMansard'</li>\n",
       "\t<li>'RoofStyleShed'</li>\n",
       "\t<li>'RoofMatlWdShake'</li>\n",
       "\t<li>'RoofMatlWdShngl'</li>\n",
       "\t<li>'Exterior1stAsphShn'</li>\n",
       "\t<li>'Exterior1stBrkComm'</li>\n",
       "\t<li>'Exterior1stCBlock'</li>\n",
       "\t<li>'Exterior2ndAsphShn'</li>\n",
       "\t<li>'Exterior2ndBrk Cmn'</li>\n",
       "\t<li>'Exterior2ndCBlock'</li>\n",
       "\t<li>'Exterior2ndStone'</li>\n",
       "\t<li>'FoundationStone'</li>\n",
       "\t<li>'FoundationWood'</li>\n",
       "\t<li>'HeatingGrav'</li>\n",
       "\t<li>'HeatingWall'</li>\n",
       "\t<li>'ElectricalFuseP'</li>\n",
       "\t<li>'GarageTypeCarPort'</li>\n",
       "\t<li>'MiscFeatureOthr'</li>\n",
       "\t<li>'SaleTypeCon'</li>\n",
       "\t<li>'SaleTypeConLD'</li>\n",
       "\t<li>'SaleTypeConLI'</li>\n",
       "\t<li>'SaleTypeConLw'</li>\n",
       "\t<li>'SaleTypeCWD'</li>\n",
       "\t<li>'SaleTypeOth'</li>\n",
       "\t<li>'SaleConditionAdjLand'</li>\n",
       "</ol>\n"
      ],
      "text/latex": [
       "\\begin{enumerate*}\n",
       "\\item 'MSSubClass1 story unf attic'\n",
       "\\item 'LotConfigFR3'\n",
       "\\item 'NeighborhoodBlueste'\n",
       "\\item 'NeighborhoodNPkVill'\n",
       "\\item 'Condition1PosA'\n",
       "\\item 'Condition1RRNe'\n",
       "\\item 'Condition1RRNn'\n",
       "\\item 'Condition2Feedr'\n",
       "\\item 'Condition2PosA'\n",
       "\\item 'Condition2PosN'\n",
       "\\item 'RoofStyleMansard'\n",
       "\\item 'RoofStyleShed'\n",
       "\\item 'RoofMatlWdShake'\n",
       "\\item 'RoofMatlWdShngl'\n",
       "\\item 'Exterior1stAsphShn'\n",
       "\\item 'Exterior1stBrkComm'\n",
       "\\item 'Exterior1stCBlock'\n",
       "\\item 'Exterior2ndAsphShn'\n",
       "\\item 'Exterior2ndBrk Cmn'\n",
       "\\item 'Exterior2ndCBlock'\n",
       "\\item 'Exterior2ndStone'\n",
       "\\item 'FoundationStone'\n",
       "\\item 'FoundationWood'\n",
       "\\item 'HeatingGrav'\n",
       "\\item 'HeatingWall'\n",
       "\\item 'ElectricalFuseP'\n",
       "\\item 'GarageTypeCarPort'\n",
       "\\item 'MiscFeatureOthr'\n",
       "\\item 'SaleTypeCon'\n",
       "\\item 'SaleTypeConLD'\n",
       "\\item 'SaleTypeConLI'\n",
       "\\item 'SaleTypeConLw'\n",
       "\\item 'SaleTypeCWD'\n",
       "\\item 'SaleTypeOth'\n",
       "\\item 'SaleConditionAdjLand'\n",
       "\\end{enumerate*}\n"
      ],
      "text/markdown": [
       "1. 'MSSubClass1 story unf attic'\n",
       "2. 'LotConfigFR3'\n",
       "3. 'NeighborhoodBlueste'\n",
       "4. 'NeighborhoodNPkVill'\n",
       "5. 'Condition1PosA'\n",
       "6. 'Condition1RRNe'\n",
       "7. 'Condition1RRNn'\n",
       "8. 'Condition2Feedr'\n",
       "9. 'Condition2PosA'\n",
       "10. 'Condition2PosN'\n",
       "11. 'RoofStyleMansard'\n",
       "12. 'RoofStyleShed'\n",
       "13. 'RoofMatlWdShake'\n",
       "14. 'RoofMatlWdShngl'\n",
       "15. 'Exterior1stAsphShn'\n",
       "16. 'Exterior1stBrkComm'\n",
       "17. 'Exterior1stCBlock'\n",
       "18. 'Exterior2ndAsphShn'\n",
       "19. 'Exterior2ndBrk Cmn'\n",
       "20. 'Exterior2ndCBlock'\n",
       "21. 'Exterior2ndStone'\n",
       "22. 'FoundationStone'\n",
       "23. 'FoundationWood'\n",
       "24. 'HeatingGrav'\n",
       "25. 'HeatingWall'\n",
       "26. 'ElectricalFuseP'\n",
       "27. 'GarageTypeCarPort'\n",
       "28. 'MiscFeatureOthr'\n",
       "29. 'SaleTypeCon'\n",
       "30. 'SaleTypeConLD'\n",
       "31. 'SaleTypeConLI'\n",
       "32. 'SaleTypeConLw'\n",
       "33. 'SaleTypeCWD'\n",
       "34. 'SaleTypeOth'\n",
       "35. 'SaleConditionAdjLand'\n",
       "\n",
       "\n"
      ],
      "text/plain": [
       " [1] \"MSSubClass1 story unf attic\" \"LotConfigFR3\"               \n",
       " [3] \"NeighborhoodBlueste\"         \"NeighborhoodNPkVill\"        \n",
       " [5] \"Condition1PosA\"              \"Condition1RRNe\"             \n",
       " [7] \"Condition1RRNn\"              \"Condition2Feedr\"            \n",
       " [9] \"Condition2PosA\"              \"Condition2PosN\"             \n",
       "[11] \"RoofStyleMansard\"            \"RoofStyleShed\"              \n",
       "[13] \"RoofMatlWdShake\"             \"RoofMatlWdShngl\"            \n",
       "[15] \"Exterior1stAsphShn\"          \"Exterior1stBrkComm\"         \n",
       "[17] \"Exterior1stCBlock\"           \"Exterior2ndAsphShn\"         \n",
       "[19] \"Exterior2ndBrk Cmn\"          \"Exterior2ndCBlock\"          \n",
       "[21] \"Exterior2ndStone\"            \"FoundationStone\"            \n",
       "[23] \"FoundationWood\"              \"HeatingGrav\"                \n",
       "[25] \"HeatingWall\"                 \"ElectricalFuseP\"            \n",
       "[27] \"GarageTypeCarPort\"           \"MiscFeatureOthr\"            \n",
       "[29] \"SaleTypeCon\"                 \"SaleTypeConLD\"              \n",
       "[31] \"SaleTypeConLI\"               \"SaleTypeConLw\"              \n",
       "[33] \"SaleTypeCWD\"                 \"SaleTypeOth\"                \n",
       "[35] \"SaleConditionAdjLand\"       "
      ]
     },
     "metadata": {},
     "output_type": "display_data"
    }
   ],
   "source": [
    "fewOnes <- which(colSums(DFdummies[1:nrow(all[!is.na(all$SalePrice),]),])<10)\n",
    "colnames(DFdummies[fewOnes])"
   ]
  },
  {
   "cell_type": "markdown",
   "metadata": {},
   "source": [
    "전체적으로 49개의 분산이 적거나 없는 one-hot 인코딩된 예측 변수를 제거했따. 많이 제거했다고 생각할 수 있지만 caret의 near variance function을 사용했을 때보다 훨씬 적게 제거한 것이다."
   ]
  },
  {
   "cell_type": "code",
   "execution_count": 182,
   "metadata": {},
   "outputs": [],
   "source": [
    "combined <- cbind(DFnorm, DFdummies) #combining all (now numeric) predictors into one dataframe "
   ]
  },
  {
   "cell_type": "markdown",
   "metadata": {},
   "source": [
    "### 8.4 Dealing with skewness of response variable"
   ]
  },
  {
   "cell_type": "code",
   "execution_count": 183,
   "metadata": {},
   "outputs": [
    {
     "data": {
      "text/html": [
       "1.87742727908891"
      ],
      "text/latex": [
       "1.87742727908891"
      ],
      "text/markdown": [
       "1.87742727908891"
      ],
      "text/plain": [
       "[1] 1.877427"
      ]
     },
     "metadata": {},
     "output_type": "display_data"
    }
   ],
   "source": [
    "skew(all$SalePrice)"
   ]
  },
  {
   "cell_type": "code",
   "execution_count": 184,
   "metadata": {},
   "outputs": [
    {
     "data": {
      "image/png": "[encoded data removed]",
      "text/plain": [
       "Plot with title \"Normal Q-Q Plot\""
      ]
     },
     "metadata": {},
     "output_type": "display_data"
    }
   ],
   "source": [
    "qqnorm(all$SalePrice)\n",
    "qqline(all$SalePrice)"
   ]
  },
  {
   "cell_type": "markdown",
   "metadata": {},
   "source": [
    "1.87의 skew는 right skew가 높다는 것을 나타낸다. Q-Q plot을 보면 sale prices가 잘 분배되어지지 않아 보인다. 따라서 SalePrice에 로그를 취했다."
   ]
  },
  {
   "cell_type": "code",
   "execution_count": 185,
   "metadata": {},
   "outputs": [
    {
     "data": {
      "text/html": [
       "0.12131818845227"
      ],
      "text/latex": [
       "0.12131818845227"
      ],
      "text/markdown": [
       "0.12131818845227"
      ],
      "text/plain": [
       "[1] 0.1213182"
      ]
     },
     "metadata": {},
     "output_type": "display_data"
    }
   ],
   "source": [
    "all$SalePrice <- log(all$SalePrice) #default is the natural logarithm, \"+1\" is not necessary as there are no 0's\n",
    "skew(all$SalePrice)"
   ]
  },
  {
   "cell_type": "markdown",
   "metadata": {},
   "source": [
    "skew가 꽤 낮아졌고 Q-Q plot도 더 보기 좋아졌다."
   ]
  },
  {
   "cell_type": "code",
   "execution_count": 186,
   "metadata": {},
   "outputs": [
    {
     "data": {
      "image/png": "[encoded data removed]",
      "text/plain": [
       "Plot with title \"Normal Q-Q Plot\""
      ]
     },
     "metadata": {},
     "output_type": "display_data"
    }
   ],
   "source": [
    "qqnorm(all$SalePrice)\n",
    "qqline(all$SalePrice)"
   ]
  },
  {
   "cell_type": "markdown",
   "metadata": {},
   "source": [
    "### 8.5 Composing train and test sets"
   ]
  },
  {
   "cell_type": "code",
   "execution_count": 187,
   "metadata": {},
   "outputs": [],
   "source": [
    "train1 <- combined[!is.na(all$SalePrice),]\n",
    "test1 <- combined[is.na(all$SalePrice),]"
   ]
  },
  {
   "cell_type": "markdown",
   "metadata": {},
   "source": [
    "## 9 Modeling"
   ]
  },
  {
   "cell_type": "markdown",
   "metadata": {},
   "source": [
    "### 9.1 Lasso regression model"
   ]
  },
  {
   "cell_type": "markdown",
   "metadata": {},
   "source": [
    "Ridge와 Elastic Net 모델을 시도해봤지만 lasso가 이 중에 가장 좋은 결과를 낸 모델이었기 때문에 이 문서에서는 lasso만 사용하기로 했다."
   ]
  },
  {
   "cell_type": "markdown",
   "metadata": {},
   "source": [
    "elastic-net penalty는 알파에 의해 제어되며 lasso(알파=1)와 ridge(알파=0) 사이를 연결한다. 튜닝 매개 변수 람다는 penalty의 전체적인 강도를 조정한다. ridge penalty는 관련 있는 예측 변수들을 서로 축소시키는 반면 lasso는 그 중 하나를 선택하고 다른 것을 버리는 경향이 있다."
   ]
  },
  {
   "cell_type": "markdown",
   "metadata": {},
   "source": [
    "lasso 모델을 조정하기 위해 필요한 hyperparmeter의 최적값을 찾기 위해 caret cross validation을 사용하였다."
   ]
  },
  {
   "cell_type": "code",
   "execution_count": 188,
   "metadata": {},
   "outputs": [
    {
     "data": {
      "text/html": [
       "<table>\n",
       "<thead><tr><th></th><th scope=col>alpha</th><th scope=col>lambda</th></tr></thead>\n",
       "<tbody>\n",
       "\t<tr><th scope=row>5</th><td>1    </td><td>0.003</td></tr>\n",
       "</tbody>\n",
       "</table>\n"
      ],
      "text/latex": [
       "\\begin{tabular}{r|ll}\n",
       "  & alpha & lambda\\\\\n",
       "\\hline\n",
       "\t5 & 1     & 0.003\\\\\n",
       "\\end{tabular}\n"
      ],
      "text/markdown": [
       "\n",
       "| <!--/--> | alpha | lambda | \n",
       "|---|\n",
       "| 5 | 1     | 0.003 | \n",
       "\n",
       "\n"
      ],
      "text/plain": [
       "  alpha lambda\n",
       "5 1     0.003 "
      ]
     },
     "metadata": {},
     "output_type": "display_data"
    }
   ],
   "source": [
    "set.seed(27042018)\n",
    "my_control <-trainControl(method=\"cv\", number=5)\n",
    "lassoGrid <- expand.grid(alpha = 1, lambda = seq(0.001,0.1,by = 0.0005))\n",
    "\n",
    "lasso_mod <- train(x=train1, y=all$SalePrice[!is.na(all$SalePrice)], method='glmnet', trControl= my_control, tuneGrid=lassoGrid) \n",
    "lasso_mod$bestTune"
   ]
  },
  {
   "cell_type": "code",
   "execution_count": 189,
   "metadata": {},
   "outputs": [
    {
     "data": {
      "text/html": [
       "0.112649733118006"
      ],
      "text/latex": [
       "0.112649733118006"
      ],
      "text/markdown": [
       "0.112649733118006"
      ],
      "text/plain": [
       "[1] 0.1126497"
      ]
     },
     "metadata": {},
     "output_type": "display_data"
    }
   ],
   "source": [
    "min(lasso_mod$results$RMSE)"
   ]
  },
  {
   "cell_type": "markdown",
   "metadata": {},
   "source": [
    "caret의 'varlmp' function 문서에 의하면 glmboost와 glmnet의 경우 조정된 모델에 해당하는 계수의 절대값이 사용된다."
   ]
  },
  {
   "cell_type": "markdown",
   "metadata": {},
   "source": [
    "가장 중요 변수의 실제 랭킹은 저장되지 않지만 얼마나 많은 변수가 이 모델에서 사용되고 있는지 알 수 있게 해준다. (계수 0)"
   ]
  },
  {
   "cell_type": "code",
   "execution_count": 190,
   "metadata": {},
   "outputs": [
    {
     "name": "stdout",
     "output_type": "stream",
     "text": [
      "Lasso uses 100 variables in its model, and did not select 117 variables."
     ]
    }
   ],
   "source": [
    "lassoVarImp <- varImp(lasso_mod,scale=F)\n",
    "lassoImportance <- lassoVarImp$importance\n",
    "\n",
    "varsSelected <- length(which(lassoImportance$Overall!=0))\n",
    "varsNotSelected <- length(which(lassoImportance$Overall==0))\n",
    "\n",
    "cat('Lasso uses', varsSelected, 'variables in its model, and did not select', varsNotSelected, 'variables.')"
   ]
  },
  {
   "cell_type": "markdown",
   "metadata": {},
   "source": [
    "lasso는 예측한 대로 작동했다. 모델에서 이용가능한 변수의 약 45%를 이용하지 않음으로써 다중공선성을 잘 다뤘다."
   ]
  },
  {
   "cell_type": "code",
   "execution_count": 191,
   "metadata": {},
   "outputs": [
    {
     "data": {
      "text/html": [
       "<dl class=dl-horizontal>\n",
       "\t<dt>1461</dt>\n",
       "\t\t<dd>114287.464099448</dd>\n",
       "\t<dt>1462</dt>\n",
       "\t\t<dd>161140.021218372</dd>\n",
       "\t<dt>1463</dt>\n",
       "\t\t<dd>179622.629694565</dd>\n",
       "\t<dt>1464</dt>\n",
       "\t\t<dd>197367.520829246</dd>\n",
       "\t<dt>1465</dt>\n",
       "\t\t<dd>205524.762920256</dd>\n",
       "\t<dt>1466</dt>\n",
       "\t\t<dd>170466.046006913</dd>\n",
       "</dl>\n"
      ],
      "text/latex": [
       "\\begin{description*}\n",
       "\\item[1461] 114287.464099448\n",
       "\\item[1462] 161140.021218372\n",
       "\\item[1463] 179622.629694565\n",
       "\\item[1464] 197367.520829246\n",
       "\\item[1465] 205524.762920256\n",
       "\\item[1466] 170466.046006913\n",
       "\\end{description*}\n"
      ],
      "text/markdown": [
       "1461\n",
       ":   114287.4640994481462\n",
       ":   161140.0212183721463\n",
       ":   179622.6296945651464\n",
       ":   197367.5208292461465\n",
       ":   205524.7629202561466\n",
       ":   170466.046006913\n",
       "\n"
      ],
      "text/plain": [
       "    1461     1462     1463     1464     1465     1466 \n",
       "114287.5 161140.0 179622.6 197367.5 205524.8 170466.0 "
      ]
     },
     "metadata": {},
     "output_type": "display_data"
    }
   ],
   "source": [
    "LassoPred <- predict(lasso_mod, test1)\n",
    "predictions_lasso <- exp(LassoPred) #need to reverse the log to the real values\n",
    "head(predictions_lasso)"
   ]
  },
  {
   "cell_type": "markdown",
   "metadata": {},
   "source": [
    "### 9.2 XGBoost model"
   ]
  },
  {
   "cell_type": "markdown",
   "metadata": {},
   "source": [
    "처음엔 XGBoost 패키지를 그냥 이용했다. 패키지는 각자 데이터 구조를 효율적으로 이용하기 때문이었다 (xgb.DMatrix). 이 패키지는 교차 검증 함수도 제공했다. 그러나 CV 함수는 최적의 횟수를 결정하기만 하고hyperparameter의 full grid search를 제공하지 않았다."
   ]
  },
  {
   "cell_type": "markdown",
   "metadata": {},
   "source": [
    "비록 caret이 xgb 패키지의 데이터 구조를 사용하지 않는 것 같지만 full grid search는 제공하고 있기에 caret으로 hyperparemeter tuning을 하기로 했다. 이해한 바로는 overfitting을 피하기 위한 주요 매개 변수는 max_depth와 min_child_wieght이다. 이 매개변수를 조정하는 grid를 아래에 설정했다."
   ]
  },
  {
   "cell_type": "code",
   "execution_count": 192,
   "metadata": {},
   "outputs": [],
   "source": [
    "xgb_grid = expand.grid(\n",
    "nrounds = 1000,\n",
    "eta = c(0.1, 0.05, 0.01),\n",
    "max_depth = c(2, 3, 4, 5, 6),\n",
    "gamma = 0,\n",
    "colsample_bytree=1,\n",
    "min_child_weight=c(1, 2, 3, 4 ,5),\n",
    "subsample=1\n",
    ")"
   ]
  },
  {
   "cell_type": "markdown",
   "metadata": {},
   "source": [
    "best hyperparmeter 찾기"
   ]
  },
  {
   "cell_type": "code",
   "execution_count": null,
   "metadata": {},
   "outputs": [],
   "source": [
    "#xgb_caret <- train(x=train1, y=all$SalePrice[!is.na(all$SalePrice)], method='xgbTree', trControl= my_control, tuneGrid=xgb_grid) \n",
    "#xgb_caret$bestTune"
   ]
  },
  {
   "cell_type": "markdown",
   "metadata": {},
   "source": [
    "예상대로 시간이 꽤 걸렸다. Kaggle에서 타임을 제한하길 원하기 때문에 바로 결과로 진행하겠다. caret에 따르면 'bestTune' 매개 변수는:\n",
    "- Max_depth=3\n",
    "- eta=0.05\n",
    "- Min_child_weight=4"
   ]
  },
  {
   "cell_type": "markdown",
   "metadata": {},
   "source": [
    "xgboost 패키지를 계속 이어나가겠다. 추천하는 포맷으로 데이터를 준비한다."
   ]
  },
  {
   "cell_type": "code",
   "execution_count": 193,
   "metadata": {},
   "outputs": [],
   "source": [
    "label_train <- all$SalePrice[!is.na(all$SalePrice)]\n",
    "\n",
    "# put our testing & training data into two seperates Dmatrixs objects\n",
    "dtrain <- xgb.DMatrix(data = as.matrix(train1), label= label_train)\n",
    "dtest <- xgb.DMatrix(data = as.matrix(test1))"
   ]
  },
  {
   "cell_type": "markdown",
   "metadata": {},
   "source": [
    "caret 교차 검증에서 잘 조정된 값을 통제한다."
   ]
  },
  {
   "cell_type": "code",
   "execution_count": 194,
   "metadata": {},
   "outputs": [],
   "source": [
    "default_param<-list(\n",
    "        objective = \"reg:linear\",\n",
    "        booster = \"gbtree\",\n",
    "        eta=0.05, #default = 0.3\n",
    "        gamma=0,\n",
    "        max_depth=3, #default=6\n",
    "        min_child_weight=4, #default=1\n",
    "        subsample=1,\n",
    "        colsample_bytree=1\n",
    ")"
   ]
  },
  {
   "cell_type": "markdown",
   "metadata": {},
   "source": [
    "다음 순서는 베스트 횟수를 결정하기 위해 교차 검증을 하는 것이다."
   ]
  },
  {
   "cell_type": "code",
   "execution_count": 195,
   "metadata": {},
   "outputs": [
    {
     "name": "stdout",
     "output_type": "stream",
     "text": [
      "[1]\ttrain-rmse:10.955588+0.004477\ttest-rmse:10.955537+0.019106 \n",
      "Multiple eval metrics are present. Will use test_rmse for early stopping.\n",
      "Will train until test_rmse hasn't improved in 10 rounds.\n",
      "\n",
      "[41]\ttrain-rmse:1.428274+0.000561\ttest-rmse:1.428515+0.011791 \n",
      "[81]\ttrain-rmse:0.219833+0.000801\ttest-rmse:0.230612+0.009490 \n",
      "[121]\ttrain-rmse:0.102497+0.001285\ttest-rmse:0.128856+0.008654 \n",
      "[161]\ttrain-rmse:0.090461+0.001218\ttest-rmse:0.122128+0.007505 \n",
      "[201]\ttrain-rmse:0.084295+0.001135\ttest-rmse:0.119680+0.007363 \n",
      "[241]\ttrain-rmse:0.079623+0.001177\ttest-rmse:0.118523+0.007181 \n",
      "[281]\ttrain-rmse:0.076073+0.001198\ttest-rmse:0.117612+0.006738 \n",
      "[321]\ttrain-rmse:0.073001+0.001162\ttest-rmse:0.117045+0.006529 \n",
      "[361]\ttrain-rmse:0.070182+0.000952\ttest-rmse:0.116571+0.006461 \n",
      "[401]\ttrain-rmse:0.067571+0.000829\ttest-rmse:0.116436+0.006349 \n",
      "Stopping. Best iteration:\n",
      "[398]\ttrain-rmse:0.067781+0.000827\ttest-rmse:0.116397+0.006379\n",
      "\n"
     ]
    }
   ],
   "source": [
    "xgbcv <- xgb.cv( params = default_param, data = dtrain, nrounds = 500, nfold = 5, showsd = T, stratified = T, print_every_n = 40, early_stopping_rounds = 10, maximize = F)"
   ]
  },
  {
   "cell_type": "markdown",
   "metadata": {},
   "source": [
    "교차 검증된 RMSE는 상당히 증진되었기에 hyperparameter tuning은 가치가 있었다. (caret tuning 없이 0.1225에서 0.1162로!)"
   ]
  },
  {
   "cell_type": "code",
   "execution_count": 196,
   "metadata": {},
   "outputs": [],
   "source": [
    "#train the model using the best iteration found by cross validation\n",
    "xgb_mod <- xgb.train(data = dtrain, params=default_param, nrounds = 454)"
   ]
  },
  {
   "cell_type": "code",
   "execution_count": 197,
   "metadata": {},
   "outputs": [
    {
     "data": {
      "text/html": [
       "<ol class=list-inline>\n",
       "\t<li>118017.916682056</li>\n",
       "\t<li>162105.892533653</li>\n",
       "\t<li>188016.357941127</li>\n",
       "\t<li>188469.112867645</li>\n",
       "\t<li>188521.423928314</li>\n",
       "\t<li>166058.568133778</li>\n",
       "</ol>\n"
      ],
      "text/latex": [
       "\\begin{enumerate*}\n",
       "\\item 118017.916682056\n",
       "\\item 162105.892533653\n",
       "\\item 188016.357941127\n",
       "\\item 188469.112867645\n",
       "\\item 188521.423928314\n",
       "\\item 166058.568133778\n",
       "\\end{enumerate*}\n"
      ],
      "text/markdown": [
       "1. 118017.916682056\n",
       "2. 162105.892533653\n",
       "3. 188016.357941127\n",
       "4. 188469.112867645\n",
       "5. 188521.423928314\n",
       "6. 166058.568133778\n",
       "\n",
       "\n"
      ],
      "text/plain": [
       "[1] 118017.9 162105.9 188016.4 188469.1 188521.4 166058.6"
      ]
     },
     "metadata": {},
     "output_type": "display_data"
    }
   ],
   "source": [
    "XGBpred <- predict(xgb_mod, dtest)\n",
    "predictions_XGB <- exp(XGBpred) #need to reverse the log to the real values\n",
    "head(predictions_XGB)"
   ]
  },
  {
   "cell_type": "code",
   "execution_count": 200,
   "metadata": {},
   "outputs": [
    {
     "name": "stdout",
     "output_type": "stream",
     "text": [
      "package 'Ckmeans.1d.dp' successfully unpacked and MD5 sums checked\n",
      "\n",
      "The downloaded binary packages are in\n",
      "\tC:\\Users\\semai\\AppData\\Local\\Temp\\Rtmpearq29\\downloaded_packages\n"
     ]
    }
   ],
   "source": [
    "install.packages(\"Ckmeans.1d.dp\", repos=\"http://cran.us.r-project.org\")"
   ]
  },
  {
   "cell_type": "code",
   "execution_count": 201,
   "metadata": {},
   "outputs": [
    {
     "name": "stderr",
     "output_type": "stream",
     "text": [
      "Warning message:\n",
      "\"package 'Ckmeans.1d.dp' was built under R version 3.5.2\""
     ]
    },
    {
     "data": {},
     "metadata": {},
     "output_type": "display_data"
    },
    {
     "data": {
      "image/png": "[encoded data removed]",
      "text/plain": [
       "plot without title"
      ]
     },
     "metadata": {},
     "output_type": "display_data"
    }
   ],
   "source": [
    "#view variable importance plot\n",
    "library(Ckmeans.1d.dp) #required for ggplot clustering\n",
    "mat <- xgb.importance (feature_names = colnames(train1),model = xgb_mod)\n",
    "xgb.ggplot.importance(importance_matrix = mat[1:20], rel_to_first = TRUE)"
   ]
  },
  {
   "cell_type": "markdown",
   "metadata": {},
   "source": [
    "### 9.3 Averaging predictions"
   ]
  },
  {
   "cell_type": "markdown",
   "metadata": {},
   "source": [
    "lasso와 XGBoost 알고리즘은 매우 다르므로 평균 예측은 스코어를 증진시킨다. 교차 검증된 RMSE 스코어 (0.1121 vs 0.1162)에 따르면 lasso 모델이 좋다. lasso 모델에 두 배의 가중치를 뒀다."
   ]
  },
  {
   "cell_type": "code",
   "execution_count": 202,
   "metadata": {},
   "outputs": [
    {
     "data": {
      "text/html": [
       "<table>\n",
       "<thead><tr><th></th><th scope=col>Id</th><th scope=col>SalePrice</th></tr></thead>\n",
       "<tbody>\n",
       "\t<tr><th scope=row>1461</th><td>1461    </td><td>115530.9</td></tr>\n",
       "\t<tr><th scope=row>1462</th><td>1462    </td><td>161462.0</td></tr>\n",
       "\t<tr><th scope=row>1463</th><td>1463    </td><td>182420.5</td></tr>\n",
       "\t<tr><th scope=row>1464</th><td>1464    </td><td>194401.4</td></tr>\n",
       "\t<tr><th scope=row>1465</th><td>1465    </td><td>199857.0</td></tr>\n",
       "\t<tr><th scope=row>1466</th><td>1466    </td><td>168996.9</td></tr>\n",
       "</tbody>\n",
       "</table>\n"
      ],
      "text/latex": [
       "\\begin{tabular}{r|ll}\n",
       "  & Id & SalePrice\\\\\n",
       "\\hline\n",
       "\t1461 & 1461     & 115530.9\\\\\n",
       "\t1462 & 1462     & 161462.0\\\\\n",
       "\t1463 & 1463     & 182420.5\\\\\n",
       "\t1464 & 1464     & 194401.4\\\\\n",
       "\t1465 & 1465     & 199857.0\\\\\n",
       "\t1466 & 1466     & 168996.9\\\\\n",
       "\\end{tabular}\n"
      ],
      "text/markdown": [
       "\n",
       "| <!--/--> | Id | SalePrice | \n",
       "|---|---|---|---|---|---|\n",
       "| 1461 | 1461     | 115530.9 | \n",
       "| 1462 | 1462     | 161462.0 | \n",
       "| 1463 | 1463     | 182420.5 | \n",
       "| 1464 | 1464     | 194401.4 | \n",
       "| 1465 | 1465     | 199857.0 | \n",
       "| 1466 | 1466     | 168996.9 | \n",
       "\n",
       "\n"
      ],
      "text/plain": [
       "     Id   SalePrice\n",
       "1461 1461 115530.9 \n",
       "1462 1462 161462.0 \n",
       "1463 1463 182420.5 \n",
       "1464 1464 194401.4 \n",
       "1465 1465 199857.0 \n",
       "1466 1466 168996.9 "
      ]
     },
     "metadata": {},
     "output_type": "display_data"
    }
   ],
   "source": [
    "sub_avg <- data.frame(Id = test_labels, SalePrice = (predictions_XGB+2*predictions_lasso)/3)\n",
    "head(sub_avg)"
   ]
  },
  {
   "cell_type": "code",
   "execution_count": 203,
   "metadata": {},
   "outputs": [],
   "source": [
    "write.csv(sub_avg, file = 'average.csv', row.names = F)"
   ]
  }
 ],
 "metadata": {
  "anaconda-cloud": {},
  "kernelspec": {
   "display_name": "R [conda env:Anaconda3]",
   "language": "R",
   "name": "conda-env-Anaconda3-r"
  },
  "language_info": {
   "codemirror_mode": "r",
   "file_extension": ".r",
   "mimetype": "text/x-r-source",
   "name": "R",
   "pygments_lexer": "r",
   "version": "3.5.1"
  }
 },
 "nbformat": 4,
 "nbformat_minor": 2
}
